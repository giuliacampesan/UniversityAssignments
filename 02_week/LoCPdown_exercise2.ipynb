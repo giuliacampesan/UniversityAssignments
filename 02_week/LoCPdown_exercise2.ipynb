{
 "cells": [
  {
   "cell_type": "code",
   "execution_count": 15,
   "metadata": {},
   "outputs": [],
   "source": [
    "import numpy as np\n",
    "import matplotlib.pyplot as plt\n",
    "from tensorflow import keras\n",
    "from keras.models import Sequential\n",
    "from keras.layers import Dense, Dropout\n",
    "#dropout ewerynode is dropout randomly at each iteration, avoid overfitting,\n",
    "#robust: does not rely too much on a single node\n",
    "from keras.optimizers import SGD\n",
    "#adam ecc are already available\n",
    "import time\n",
    "import math"
   ]
  },
  {
   "cell_type": "code",
   "execution_count": 16,
   "metadata": {},
   "outputs": [
    {
     "name": "stdout",
     "output_type": "stream",
     "text": [
      "3000\n",
      "16\n",
      "AAGGTCTGCCGGCCGA 1\n",
      "\n",
      "data: 3000\n",
      "train: 2100\n",
      "test: 900\n"
     ]
    }
   ],
   "source": [
    "fname=\"sequences16.csv\"\n",
    "sx, sy = np.loadtxt(fname, delimiter=',',\n",
    "                   usecols=(0,1), unpack=True, dtype=str)\n",
    "N=len(sy)\n",
    "print(N)\n",
    "Ls=len(sx[0])\n",
    "print(Ls)\n",
    "\n",
    "print(sx[0], sy[0])\n",
    "\n",
    "perc_train=0.7\n",
    "N_train= int(N*perc_train)\n",
    "N_test = N-N_train\n",
    "print(f'\\ndata: {N}\\ntrain: {N_train}\\ntest: {N_test}')"
   ]
  },
  {
   "cell_type": "code",
   "execution_count": 91,
   "metadata": {},
   "outputs": [
    {
     "name": "stdout",
     "output_type": "stream",
     "text": [
      "{'A': 0, 'C': 1, 'G': 2, 'T': 3}\n",
      "64\n",
      "[0. 0. 0. 0. 0. 0. 0. 0. 0. 0. 0. 0. 0. 0. 0. 0. 0. 0. 0. 0. 0. 0. 0. 0.\n",
      " 0. 0. 0. 0. 0. 0. 0. 0. 0. 0. 0. 0. 0. 0. 0. 0. 0. 0. 0. 0. 0. 0. 0. 0.\n",
      " 0. 0. 0. 0. 0. 0. 0. 0. 0. 0. 0. 0. 0. 0. 0. 0.]\n",
      "AAGGTCTGCCGGCCGA [1. 0. 0. 0. 1. 0. 0. 0. 0. 0. 1. 0. 0. 0. 1. 0. 0. 0. 0. 1. 0. 1. 0. 0.\n",
      " 0. 0. 0. 1. 0. 0. 1. 0. 0. 1. 0. 0. 0. 1. 0. 0. 0. 0. 1. 0. 0. 0. 1. 0.\n",
      " 0. 1. 0. 0. 0. 1. 0. 0. 0. 0. 1. 0. 1. 0. 0. 0.]\n",
      "<class 'numpy.ndarray'>\n"
     ]
    }
   ],
   "source": [
    "Q = ['A', 'C', 'G', 'T']\n",
    "Nc=4\n",
    "onehc={Q[i]: i for i in range(Nc)}\n",
    "print(onehc)\n",
    "\n",
    "y = sy.astype(int)\n",
    "L = Ls*Nc\n",
    "print(L)#length of array feeding NN\n",
    "\n",
    "x = np.zeros((N, L))\n",
    "print(x[0])\n",
    "\n",
    "for n in range(N):\n",
    "    for i in range(Ls):\n",
    "        x[n][i*4 + onehc[sx[n][i]]] = 1 #for every step in string you jump of 4 i the autoencpding\n",
    "        \n",
    "print(sx[0], x[0])    \n",
    "print(type(y))\n"
   ]
  },
  {
   "cell_type": "code",
   "execution_count": 18,
   "metadata": {},
   "outputs": [
    {
     "name": "stdout",
     "output_type": "stream",
     "text": [
      "0.24714285714285714 0.24444444444444444\n"
     ]
    }
   ],
   "source": [
    "x_train, y_train = x[:N_train], y[:N_train]\n",
    "x_test, y_test = x[N_train:], y[N_train:]\n",
    "\n",
    "score_train = y_train.sum()/len(y_train)\n",
    "score_test = y_test.sum()/len(y_test)\n",
    "print(score_train, score_test)\n"
   ]
  },
  {
   "cell_type": "code",
   "execution_count": 32,
   "metadata": {},
   "outputs": [
    {
     "name": "stdout",
     "output_type": "stream",
     "text": [
      "Model: \"sequential_6\"\n",
      "_________________________________________________________________\n",
      "Layer (type)                 Output Shape              Param #   \n",
      "=================================================================\n",
      "dense_20 (Dense)             (None, 64)                4160      \n",
      "_________________________________________________________________\n",
      "dense_21 (Dense)             (None, 16)                1040      \n",
      "_________________________________________________________________\n",
      "dropout_6 (Dropout)          (None, 16)                0         \n",
      "_________________________________________________________________\n",
      "dense_22 (Dense)             (None, 1)                 17        \n",
      "=================================================================\n",
      "Total params: 5,217\n",
      "Trainable params: 5,217\n",
      "Non-trainable params: 0\n",
      "_________________________________________________________________\n",
      "None\n"
     ]
    }
   ],
   "source": [
    "np.random.seed(123)\n",
    "\n",
    "model = Sequential()\n",
    "model.add(Dense(L, input_shape=(L,), activation='relu'))\n",
    "model.add(Dense(L/4, activation='relu'))\n",
    "#model.add(Dense(L/4, activation='relu'))\n",
    "model.add(Dropout(0.2))\n",
    "model.add(Dense(1, activation='sigmoid'))\n",
    "\n",
    "print(model.summary())"
   ]
  },
  {
   "cell_type": "code",
   "execution_count": 39,
   "metadata": {
    "scrolled": false
   },
   "outputs": [
    {
     "name": "stdout",
     "output_type": "stream",
     "text": [
      "Epoch 1/30\n",
      "42/42 [==============================] - 2s 21ms/step - loss: 0.0593 - accuracy: 0.9880 - val_loss: 0.6350 - val_accuracy: 0.8056\n",
      "Epoch 2/30\n",
      "42/42 [==============================] - 0s 10ms/step - loss: 0.0499 - accuracy: 0.9895 - val_loss: 0.6440 - val_accuracy: 0.8056\n",
      "Epoch 3/30\n",
      "42/42 [==============================] - 0s 9ms/step - loss: 0.0491 - accuracy: 0.9882 - val_loss: 0.6644 - val_accuracy: 0.8011\n",
      "Epoch 4/30\n",
      "42/42 [==============================] - 0s 9ms/step - loss: 0.0384 - accuracy: 0.9953 - val_loss: 0.6814 - val_accuracy: 0.8000\n",
      "Epoch 5/30\n",
      "42/42 [==============================] - 0s 10ms/step - loss: 0.0381 - accuracy: 0.9952 - val_loss: 0.6800 - val_accuracy: 0.8033\n",
      "Epoch 6/30\n",
      "42/42 [==============================] - 0s 10ms/step - loss: 0.0376 - accuracy: 0.9969 - val_loss: 0.7187 - val_accuracy: 0.8078\n",
      "Epoch 7/30\n",
      "42/42 [==============================] - 0s 11ms/step - loss: 0.0345 - accuracy: 0.9945 - val_loss: 0.7337 - val_accuracy: 0.8122\n",
      "Epoch 8/30\n",
      "42/42 [==============================] - 0s 9ms/step - loss: 0.0341 - accuracy: 0.9924 - val_loss: 0.8025 - val_accuracy: 0.8078\n",
      "Epoch 9/30\n",
      "42/42 [==============================] - 0s 9ms/step - loss: 0.0310 - accuracy: 0.9944 - val_loss: 0.7243 - val_accuracy: 0.7944\n",
      "Epoch 10/30\n",
      "42/42 [==============================] - 0s 10ms/step - loss: 0.0314 - accuracy: 0.9955 - val_loss: 0.7369 - val_accuracy: 0.8022\n",
      "Epoch 11/30\n",
      "42/42 [==============================] - 0s 9ms/step - loss: 0.0218 - accuracy: 0.9971 - val_loss: 0.7701 - val_accuracy: 0.8056\n",
      "Epoch 12/30\n",
      "42/42 [==============================] - 0s 9ms/step - loss: 0.0190 - accuracy: 0.9988 - val_loss: 0.7827 - val_accuracy: 0.8089\n",
      "Epoch 13/30\n",
      "42/42 [==============================] - 0s 9ms/step - loss: 0.0207 - accuracy: 0.9992 - val_loss: 0.8089 - val_accuracy: 0.8122\n",
      "Epoch 14/30\n",
      "42/42 [==============================] - 0s 9ms/step - loss: 0.0197 - accuracy: 0.9974 - val_loss: 0.8764 - val_accuracy: 0.8011\n",
      "Epoch 15/30\n",
      "42/42 [==============================] - 0s 9ms/step - loss: 0.0168 - accuracy: 0.9978 - val_loss: 0.8159 - val_accuracy: 0.8067\n",
      "Epoch 16/30\n",
      "42/42 [==============================] - 0s 8ms/step - loss: 0.0176 - accuracy: 0.9985 - val_loss: 0.8838 - val_accuracy: 0.8078\n",
      "Epoch 17/30\n",
      "42/42 [==============================] - 0s 10ms/step - loss: 0.0160 - accuracy: 0.9966 - val_loss: 0.8467 - val_accuracy: 0.7944\n",
      "Epoch 18/30\n",
      "42/42 [==============================] - 0s 9ms/step - loss: 0.0148 - accuracy: 0.9988 - val_loss: 0.8645 - val_accuracy: 0.8089\n",
      "Epoch 19/30\n",
      "42/42 [==============================] - 0s 10ms/step - loss: 0.0120 - accuracy: 0.9988 - val_loss: 0.8955 - val_accuracy: 0.8100\n",
      "Epoch 20/30\n",
      "42/42 [==============================] - 0s 9ms/step - loss: 0.0145 - accuracy: 0.9985 - val_loss: 0.8830 - val_accuracy: 0.8078\n",
      "Epoch 21/30\n",
      "42/42 [==============================] - 0s 10ms/step - loss: 0.0087 - accuracy: 0.9986 - val_loss: 0.8898 - val_accuracy: 0.8078\n",
      "Epoch 22/30\n",
      "42/42 [==============================] - 0s 10ms/step - loss: 0.0103 - accuracy: 0.9993 - val_loss: 0.8868 - val_accuracy: 0.8122\n",
      "Epoch 23/30\n",
      "42/42 [==============================] - 0s 9ms/step - loss: 0.0113 - accuracy: 0.9986 - val_loss: 0.9001 - val_accuracy: 0.8122\n",
      "Epoch 24/30\n",
      "42/42 [==============================] - 0s 10ms/step - loss: 0.0071 - accuracy: 1.0000 - val_loss: 0.9078 - val_accuracy: 0.8089\n",
      "Epoch 25/30\n",
      "42/42 [==============================] - 0s 10ms/step - loss: 0.0083 - accuracy: 0.9994 - val_loss: 0.9634 - val_accuracy: 0.8033\n",
      "Epoch 26/30\n",
      "42/42 [==============================] - 0s 9ms/step - loss: 0.0079 - accuracy: 0.9992 - val_loss: 0.9546 - val_accuracy: 0.8056\n",
      "Epoch 27/30\n",
      "42/42 [==============================] - 0s 10ms/step - loss: 0.0067 - accuracy: 0.9993 - val_loss: 0.9853 - val_accuracy: 0.8089\n",
      "Epoch 28/30\n",
      "42/42 [==============================] - 0s 10ms/step - loss: 0.0057 - accuracy: 0.9997 - val_loss: 0.9790 - val_accuracy: 0.8100\n",
      "Epoch 29/30\n",
      "42/42 [==============================] - 0s 10ms/step - loss: 0.0056 - accuracy: 1.0000 - val_loss: 0.9875 - val_accuracy: 0.8033\n",
      "Epoch 30/30\n",
      "42/42 [==============================] - 0s 10ms/step - loss: 0.0065 - accuracy: 0.9996 - val_loss: 1.0126 - val_accuracy: 0.8067\n",
      "29/29 [==============================] - 1s 6ms/step - loss: 1.0126 - accuracy: 0.8067\n",
      "\n",
      "Test loss: 1.0126398801803589\n",
      "Test accuracy: 0.8066666722297668\n"
     ]
    },
    {
     "data": {
      "image/png": "[encoded data removed]",
      "text/plain": [
       "<Figure size 432x288 with 1 Axes>"
      ]
     },
     "metadata": {
      "needs_background": "light"
     },
     "output_type": "display_data"
    },
    {
     "data": {
      "image/png": "[encoded data removed]",
      "text/plain": [
       "<Figure size 432x288 with 1 Axes>"
      ]
     },
     "metadata": {
      "needs_background": "light"
     },
     "output_type": "display_data"
    }
   ],
   "source": [
    "model.compile(loss='binary_crossentropy',\n",
    "             optimizer='ADAM',\n",
    "             metrics=['accuracy'])\n",
    "\n",
    "\n",
    "fit = model.fit(x_train, y_train,\n",
    "               epochs=30, batch_size=50,\n",
    "               validation_data=(x_test, y_test),\n",
    "               shuffle=True #changes composition of mini batch                                \n",
    "               )\n",
    "\n",
    "\n",
    "score = model.evaluate(x_test, y_test, verbose=1)\n",
    "\n",
    "# print performance\n",
    "print()\n",
    "print('Test loss:', score[0])\n",
    "print('Test accuracy:', score[1])\n",
    "\n",
    "# look into training history\n",
    "\n",
    "# summarize history for accuracy\n",
    "plt.plot(fit.history['accuracy'])\n",
    "plt.plot(fit.history['val_accuracy'])\n",
    "plt.ylabel('model accuracy')\n",
    "plt.xlabel('epoch')\n",
    "plt.legend(['train', 'test'], loc='best')\n",
    "plt.show()\n",
    "\n",
    "# summarize history for loss\n",
    "plt.plot(fit.history['loss'])\n",
    "plt.plot(fit.history['val_loss'])\n",
    "plt.ylabel('model loss')\n",
    "plt.xlabel('epoch')\n",
    "plt.legend(['train', 'test'], loc='best')\n",
    "plt.show()"
   ]
  },
  {
   "cell_type": "code",
   "execution_count": 74,
   "metadata": {},
   "outputs": [],
   "source": [
    "sx_train = sx[:N_train]\n",
    "sx_train_augm = []\n",
    "y_train_augm = []\n",
    "\n",
    "def shifting(x, positions, label):\n",
    "    \n",
    "    shifted_x = []\n",
    "    shifted_y =  []\n",
    "    \n",
    "    shifted_x.append(x)\n",
    "    shifted_y.append(label)\n",
    "    \n",
    "    temp = x\n",
    "    for j in range(positions):\n",
    "        temp = temp[-1:]+temp[:-1]\n",
    "        shifted_x.append(temp)\n",
    "        shifted_y.append(label)\n",
    "        \n",
    "        \n",
    "    return shifted_x, shifted_y\n",
    "        \n",
    "        \n",
    "position = 15       \n",
    "\n",
    "for i in range(len(sx_train)):\n",
    "    sx_train_augm += shifting(sx_train[i], position, y_train[i])[0]\n",
    "    y_train_augm += shifting(sx_train[i], position, y_train[i])[1]\n",
    "    \n",
    "    \n",
    "      \n",
    "        \n",
    "    \n",
    "    "
   ]
  },
  {
   "cell_type": "code",
   "execution_count": 75,
   "metadata": {},
   "outputs": [],
   "source": [
    "N_augm = len(sx_train_augm)"
   ]
  },
  {
   "cell_type": "code",
   "execution_count": 92,
   "metadata": {},
   "outputs": [
    {
     "name": "stdout",
     "output_type": "stream",
     "text": [
      "{'A': 0, 'C': 1, 'G': 2, 'T': 3}\n",
      "64\n",
      "[0. 0. 0. 0. 0. 0. 0. 0. 0. 0. 0. 0. 0. 0. 0. 0. 0. 0. 0. 0. 0. 0. 0. 0.\n",
      " 0. 0. 0. 0. 0. 0. 0. 0. 0. 0. 0. 0. 0. 0. 0. 0. 0. 0. 0. 0. 0. 0. 0. 0.\n",
      " 0. 0. 0. 0. 0. 0. 0. 0. 0. 0. 0. 0. 0. 0. 0. 0.]\n",
      "<class 'list'>\n"
     ]
    }
   ],
   "source": [
    "Q = ['A', 'C', 'G', 'T']\n",
    "Nc=4\n",
    "onehc={Q[i]: i for i in range(Nc)}\n",
    "print(onehc)\n",
    "\n",
    "y = sy.astype(int)\n",
    "L = Ls*Nc\n",
    "print(L)#length of array feeding NN\n",
    "\n",
    "x_train_augm = np.zeros((N_augm, L))\n",
    "print(x_train_augm[0])\n",
    "\n",
    "for n in range(N_augm):\n",
    "    for i in range(Ls):\n",
    "        x_train_augm[n][i*4 + onehc[sx_train_augm[n][i]]] = 1 #for every step in string you jump of 4 i the autoencpding\n",
    "        \n",
    "print( type(y_train_augm) )   \n",
    "\n"
   ]
  },
  {
   "cell_type": "code",
   "execution_count": 80,
   "metadata": {},
   "outputs": [
    {
     "name": "stdout",
     "output_type": "stream",
     "text": [
      "Model: \"sequential_10\"\n",
      "_________________________________________________________________\n",
      "Layer (type)                 Output Shape              Param #   \n",
      "=================================================================\n",
      "dense_35 (Dense)             (None, 64)                4160      \n",
      "_________________________________________________________________\n",
      "dense_36 (Dense)             (None, 32)                2080      \n",
      "_________________________________________________________________\n",
      "dense_37 (Dense)             (None, 16)                528       \n",
      "_________________________________________________________________\n",
      "dropout_10 (Dropout)         (None, 16)                0         \n",
      "_________________________________________________________________\n",
      "dense_38 (Dense)             (None, 1)                 17        \n",
      "=================================================================\n",
      "Total params: 6,785\n",
      "Trainable params: 6,785\n",
      "Non-trainable params: 0\n",
      "_________________________________________________________________\n",
      "None\n",
      "<class 'numpy.ndarray'>\n"
     ]
    }
   ],
   "source": [
    "np.random.seed(123)\n",
    "\n",
    "model = Sequential()\n",
    "model.add(Dense(L, input_shape=(L,), activation='relu'))\n",
    "model.add(Dense(L/2, activation='relu'))\n",
    "model.add(Dense(L/4, activation='relu'))\n",
    "model.add(Dropout(0.2))\n",
    "model.add(Dense(1, activation='sigmoid'))\n",
    "\n",
    "print(model.summary())\n"
   ]
  },
  {
   "cell_type": "code",
   "execution_count": 95,
   "metadata": {
    "scrolled": false
   },
   "outputs": [
    {
     "name": "stdout",
     "output_type": "stream",
     "text": [
      "Epoch 1/30\n",
      "672/672 [==============================] - 6s 6ms/step - loss: 0.5262 - accuracy: 0.7529 - val_loss: 0.4508 - val_accuracy: 0.7944\n",
      "Epoch 2/30\n",
      "672/672 [==============================] - 4s 6ms/step - loss: 0.4467 - accuracy: 0.7921 - val_loss: 0.3746 - val_accuracy: 0.8500\n",
      "Epoch 3/30\n",
      "672/672 [==============================] - 4s 6ms/step - loss: 0.3649 - accuracy: 0.8367 - val_loss: 0.3406 - val_accuracy: 0.8489\n",
      "Epoch 4/30\n",
      "672/672 [==============================] - 4s 6ms/step - loss: 0.3111 - accuracy: 0.8710 - val_loss: 0.3400 - val_accuracy: 0.8567\n",
      "Epoch 5/30\n",
      "672/672 [==============================] - 4s 6ms/step - loss: 0.2840 - accuracy: 0.8845 - val_loss: 0.2996 - val_accuracy: 0.8778\n",
      "Epoch 6/30\n",
      "672/672 [==============================] - 4s 6ms/step - loss: 0.2477 - accuracy: 0.9037 - val_loss: 0.2933 - val_accuracy: 0.8811\n",
      "Epoch 7/30\n",
      "672/672 [==============================] - 4s 6ms/step - loss: 0.2404 - accuracy: 0.9084 - val_loss: 0.3172 - val_accuracy: 0.8733\n",
      "Epoch 8/30\n",
      "672/672 [==============================] - 4s 6ms/step - loss: 0.2377 - accuracy: 0.9098 - val_loss: 0.2964 - val_accuracy: 0.8844\n",
      "Epoch 9/30\n",
      "672/672 [==============================] - 4s 6ms/step - loss: 0.2299 - accuracy: 0.9155 - val_loss: 0.2854 - val_accuracy: 0.8878\n",
      "Epoch 10/30\n",
      "672/672 [==============================] - 4s 6ms/step - loss: 0.2214 - accuracy: 0.9185 - val_loss: 0.2864 - val_accuracy: 0.9000\n",
      "Epoch 11/30\n",
      "672/672 [==============================] - 4s 6ms/step - loss: 0.2188 - accuracy: 0.9194 - val_loss: 0.2997 - val_accuracy: 0.8844\n",
      "Epoch 12/30\n",
      "672/672 [==============================] - 4s 6ms/step - loss: 0.2202 - accuracy: 0.9194 - val_loss: 0.2953 - val_accuracy: 0.8900\n",
      "Epoch 13/30\n",
      "672/672 [==============================] - 4s 6ms/step - loss: 0.2039 - accuracy: 0.9293 - val_loss: 0.3053 - val_accuracy: 0.8878\n",
      "Epoch 14/30\n",
      "672/672 [==============================] - 4s 6ms/step - loss: 0.2062 - accuracy: 0.9264 - val_loss: 0.2885 - val_accuracy: 0.8878\n",
      "Epoch 15/30\n",
      "672/672 [==============================] - 4s 6ms/step - loss: 0.2009 - accuracy: 0.9291 - val_loss: 0.3012 - val_accuracy: 0.8900\n",
      "Epoch 16/30\n",
      "672/672 [==============================] - 4s 6ms/step - loss: 0.1969 - accuracy: 0.9300 - val_loss: 0.3058 - val_accuracy: 0.8911\n",
      "Epoch 17/30\n",
      "672/672 [==============================] - 4s 6ms/step - loss: 0.1935 - accuracy: 0.9321 - val_loss: 0.3074 - val_accuracy: 0.8800\n",
      "Epoch 18/30\n",
      "672/672 [==============================] - 4s 6ms/step - loss: 0.1859 - accuracy: 0.9335 - val_loss: 0.3250 - val_accuracy: 0.8678\n",
      "Epoch 19/30\n",
      "672/672 [==============================] - 4s 6ms/step - loss: 0.1907 - accuracy: 0.9322 - val_loss: 0.3050 - val_accuracy: 0.8833\n",
      "Epoch 20/30\n",
      "672/672 [==============================] - 4s 6ms/step - loss: 0.1892 - accuracy: 0.9329 - val_loss: 0.2999 - val_accuracy: 0.8922\n",
      "Epoch 21/30\n",
      "672/672 [==============================] - 4s 6ms/step - loss: 0.1774 - accuracy: 0.9376 - val_loss: 0.2962 - val_accuracy: 0.8856\n",
      "Epoch 22/30\n",
      "672/672 [==============================] - 4s 6ms/step - loss: 0.1771 - accuracy: 0.9374 - val_loss: 0.3100 - val_accuracy: 0.8800\n",
      "Epoch 23/30\n",
      "672/672 [==============================] - 4s 6ms/step - loss: 0.1773 - accuracy: 0.9389 - val_loss: 0.3081 - val_accuracy: 0.8844\n",
      "Epoch 24/30\n",
      "672/672 [==============================] - 4s 6ms/step - loss: 0.1796 - accuracy: 0.9378 - val_loss: 0.3089 - val_accuracy: 0.8867\n",
      "Epoch 25/30\n",
      "672/672 [==============================] - 4s 6ms/step - loss: 0.1759 - accuracy: 0.9376 - val_loss: 0.3208 - val_accuracy: 0.8800\n",
      "Epoch 26/30\n",
      "672/672 [==============================] - 4s 6ms/step - loss: 0.1707 - accuracy: 0.9419 - val_loss: 0.3183 - val_accuracy: 0.8811\n",
      "Epoch 27/30\n",
      "672/672 [==============================] - 4s 6ms/step - loss: 0.1635 - accuracy: 0.9433 - val_loss: 0.3402 - val_accuracy: 0.8689\n",
      "Epoch 28/30\n",
      "672/672 [==============================] - 4s 6ms/step - loss: 0.1652 - accuracy: 0.9436 - val_loss: 0.3048 - val_accuracy: 0.8822\n",
      "Epoch 29/30\n",
      "672/672 [==============================] - 4s 6ms/step - loss: 0.1695 - accuracy: 0.9401 - val_loss: 0.3028 - val_accuracy: 0.8789\n",
      "Epoch 30/30\n",
      "672/672 [==============================] - 4s 6ms/step - loss: 0.1643 - accuracy: 0.9442 - val_loss: 0.3235 - val_accuracy: 0.8833\n",
      "29/29 [==============================] - 1s 6ms/step - loss: 0.3235 - accuracy: 0.8833\n",
      "\n",
      "Test loss: 0.3234711289405823\n",
      "Test accuracy: 0.8833333253860474\n"
     ]
    },
    {
     "data": {
      "image/png": "[encoded data removed]",
      "text/plain": [
       "<Figure size 432x288 with 1 Axes>"
      ]
     },
     "metadata": {
      "needs_background": "light"
     },
     "output_type": "display_data"
    },
    {
     "data": {
      "image/png": "[encoded data removed]",
      "text/plain": [
       "<Figure size 432x288 with 1 Axes>"
      ]
     },
     "metadata": {
      "needs_background": "light"
     },
     "output_type": "display_data"
    }
   ],
   "source": [
    "model.compile(loss='binary_crossentropy',\n",
    "             optimizer='ADAM',\n",
    "             metrics=['accuracy'])\n",
    "\n",
    "\n",
    "fit = model.fit(np.asarray(x_train_augm), np.asarray(y_train_augm),\n",
    "               epochs=30, batch_size=50,\n",
    "               validation_data=(x_test, y_test),\n",
    "               shuffle=True #changes composition of mini batch                                \n",
    "               )\n",
    "\n",
    "\n",
    "score = model.evaluate(x_test, y_test, verbose=1)\n",
    "\n",
    "# print performance\n",
    "print()\n",
    "print('Test loss:', score[0])\n",
    "print('Test accuracy:', score[1])\n",
    "\n",
    "# look into training history\n",
    "\n",
    "# summarize history for accuracy\n",
    "plt.plot(fit.history['accuracy'])\n",
    "plt.plot(fit.history['val_accuracy'])\n",
    "plt.ylabel('model accuracy')\n",
    "plt.xlabel('epoch')\n",
    "plt.legend(['train', 'test'], loc='best')\n",
    "plt.show()\n",
    "\n",
    "# summarize history for loss\n",
    "plt.plot(fit.history['loss'])\n",
    "plt.plot(fit.history['val_loss'])\n",
    "plt.ylabel('model loss')\n",
    "plt.xlabel('epoch')\n",
    "plt.legend(['train', 'test'], loc='best')\n",
    "plt.show()"
   ]
  },
  {
   "cell_type": "code",
   "execution_count": null,
   "metadata": {},
   "outputs": [],
   "source": []
  }
 ],
 "metadata": {
  "kernelspec": {
   "display_name": "Python 3",
   "language": "python",
   "name": "python3"
  },
  "language_info": {
   "codemirror_mode": {
    "name": "ipython",
    "version": 3
   },
   "file_extension": ".py",
   "mimetype": "text/x-python",
   "name": "python",
   "nbconvert_exporter": "python",
   "pygments_lexer": "ipython3",
   "version": "3.8.5"
  }
 },
 "nbformat": 4,
 "nbformat_minor": 4
}
