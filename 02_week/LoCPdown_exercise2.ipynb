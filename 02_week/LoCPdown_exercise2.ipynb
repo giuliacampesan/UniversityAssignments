{
 "cells": [
  {
   "cell_type": "code",
   "execution_count": 1,
   "metadata": {},
   "outputs": [],
   "source": [
    "import numpy as np\n",
    "import matplotlib.pyplot as plt\n",
    "from tensorflow import keras\n",
    "from tensorflow.keras.models import Sequential\n",
    "from tensorflow.keras.layers import Dense, Dropout\n",
    "#dropout ewerynode is dropout randomly at each iteration, avoid overfitting,\n",
    "#robust: does not rely too much on a single node\n",
    "from tensorflow.keras.optimizers import SGD\n",
    "#adam ecc are already available\n",
    "import time\n",
    "import math"
   ]
  },
  {
   "cell_type": "code",
   "execution_count": 2,
   "metadata": {},
   "outputs": [
    {
     "name": "stdout",
     "output_type": "stream",
     "text": [
      "3000\n",
      "16\n",
      "AAGGTCTGCCGGCCGA 1\n",
      "\n",
      "data: 3000\n",
      "train: 2100\n",
      "test: 900\n"
     ]
    }
   ],
   "source": [
    "fname = \"sequences16.csv\"\n",
    "sx, sy = np.loadtxt(fname, delimiter=',',\n",
    "                   usecols=(0,1), unpack=True, dtype=str)\n",
    "N=len(sy)\n",
    "print(N)\n",
    "Ls=len(sx[0])\n",
    "print(Ls)\n",
    "\n",
    "print(sx[0], sy[0])\n",
    "\n",
    "perc_train=0.7\n",
    "N_train= int(N*perc_train)\n",
    "N_test = N-N_train\n",
    "print(f'\\ndata: {N}\\ntrain: {N_train}\\ntest: {N_test}')"
   ]
  },
  {
   "cell_type": "code",
   "execution_count": 3,
   "metadata": {},
   "outputs": [
    {
     "name": "stdout",
     "output_type": "stream",
     "text": [
      "{'A': 0, 'C': 1, 'G': 2, 'T': 3}\n",
      "64\n",
      "[0. 0. 0. 0. 0. 0. 0. 0. 0. 0. 0. 0. 0. 0. 0. 0. 0. 0. 0. 0. 0. 0. 0. 0.\n",
      " 0. 0. 0. 0. 0. 0. 0. 0. 0. 0. 0. 0. 0. 0. 0. 0. 0. 0. 0. 0. 0. 0. 0. 0.\n",
      " 0. 0. 0. 0. 0. 0. 0. 0. 0. 0. 0. 0. 0. 0. 0. 0.]\n",
      "AAGGTCTGCCGGCCGA [1. 0. 0. 0. 1. 0. 0. 0. 0. 0. 1. 0. 0. 0. 1. 0. 0. 0. 0. 1. 0. 1. 0. 0.\n",
      " 0. 0. 0. 1. 0. 0. 1. 0. 0. 1. 0. 0. 0. 1. 0. 0. 0. 0. 1. 0. 0. 0. 1. 0.\n",
      " 0. 1. 0. 0. 0. 1. 0. 0. 0. 0. 1. 0. 1. 0. 0. 0.]\n",
      "<class 'numpy.ndarray'>\n"
     ]
    }
   ],
   "source": [
    "Q = ['A', 'C', 'G', 'T']\n",
    "Nc=4\n",
    "onehc={Q[i]: i for i in range(Nc)}\n",
    "print(onehc)\n",
    "\n",
    "y = sy.astype(int)\n",
    "L = Ls*Nc\n",
    "print(L)#length of array feeding NN\n",
    "\n",
    "x = np.zeros((N, L))\n",
    "print(x[0])\n",
    "\n",
    "for n in range(N):\n",
    "    for i in range(Ls):\n",
    "        x[n][i*4 + onehc[sx[n][i]]] = 1 #for every step in string you jump of 4 i the autoencpding\n",
    "        \n",
    "print(sx[0], x[0])    \n",
    "print(type(y))\n"
   ]
  },
  {
   "cell_type": "markdown",
   "metadata": {},
   "source": [
    "## Point 1"
   ]
  },
  {
   "cell_type": "code",
   "execution_count": 4,
   "metadata": {},
   "outputs": [
    {
     "name": "stdout",
     "output_type": "stream",
     "text": [
      "0.24714285714285714 0.24444444444444444\n"
     ]
    }
   ],
   "source": [
    "x_train, y_train = x[:N_train], y[:N_train]\n",
    "x_test, y_test = x[N_train:], y[N_train:]\n",
    "\n",
    "score_train = y_train.sum()/len(y_train)\n",
    "score_test = y_test.sum()/len(y_test)\n",
    "print(score_train, score_test)\n"
   ]
  },
  {
   "cell_type": "code",
   "execution_count": 5,
   "metadata": {},
   "outputs": [
    {
     "name": "stdout",
     "output_type": "stream",
     "text": [
      "Model: \"sequential\"\n",
      "_________________________________________________________________\n",
      "Layer (type)                 Output Shape              Param #   \n",
      "=================================================================\n",
      "dense (Dense)                (None, 64)                4160      \n",
      "_________________________________________________________________\n",
      "dense_1 (Dense)              (None, 32)                2080      \n",
      "_________________________________________________________________\n",
      "dense_2 (Dense)              (None, 16)                528       \n",
      "_________________________________________________________________\n",
      "dropout (Dropout)            (None, 16)                0         \n",
      "_________________________________________________________________\n",
      "dense_3 (Dense)              (None, 1)                 17        \n",
      "=================================================================\n",
      "Total params: 6,785\n",
      "Trainable params: 6,785\n",
      "Non-trainable params: 0\n",
      "_________________________________________________________________\n",
      "None\n"
     ]
    }
   ],
   "source": [
    "np.random.seed(123)\n",
    "\n",
    "model = Sequential()\n",
    "model.add(Dense(L, input_shape=(L,), activation='relu'))\n",
    "model.add(Dense(L/2, activation='relu'))\n",
    "model.add(Dense(L/4, activation='relu'))\n",
    "model.add(Dropout(0.2))\n",
    "model.add(Dense(1, activation='sigmoid'))\n",
    "\n",
    "print(model.summary())"
   ]
  },
  {
   "cell_type": "code",
   "execution_count": 6,
   "metadata": {
    "scrolled": false
   },
   "outputs": [
    {
     "name": "stdout",
     "output_type": "stream",
     "text": [
      "Epoch 1/30\n",
      "42/42 [==============================] - 2s 25ms/step - loss: 0.6136 - accuracy: 0.7113 - val_loss: 0.5426 - val_accuracy: 0.7556\n",
      "Epoch 2/30\n",
      "42/42 [==============================] - 0s 2ms/step - loss: 0.5506 - accuracy: 0.7524 - val_loss: 0.5227 - val_accuracy: 0.7556\n",
      "Epoch 3/30\n",
      "42/42 [==============================] - 0s 2ms/step - loss: 0.5235 - accuracy: 0.7527 - val_loss: 0.5007 - val_accuracy: 0.7567\n",
      "Epoch 4/30\n",
      "42/42 [==============================] - 0s 2ms/step - loss: 0.4985 - accuracy: 0.7539 - val_loss: 0.4807 - val_accuracy: 0.7733\n",
      "Epoch 5/30\n",
      "42/42 [==============================] - 0s 3ms/step - loss: 0.4650 - accuracy: 0.7893 - val_loss: 0.4789 - val_accuracy: 0.7744\n",
      "Epoch 6/30\n",
      "42/42 [==============================] - 0s 2ms/step - loss: 0.4561 - accuracy: 0.7829 - val_loss: 0.4700 - val_accuracy: 0.7733\n",
      "Epoch 7/30\n",
      "42/42 [==============================] - 0s 2ms/step - loss: 0.4392 - accuracy: 0.7977 - val_loss: 0.4643 - val_accuracy: 0.7689\n",
      "Epoch 8/30\n",
      "42/42 [==============================] - 0s 2ms/step - loss: 0.4194 - accuracy: 0.8103 - val_loss: 0.4686 - val_accuracy: 0.7722\n",
      "Epoch 9/30\n",
      "42/42 [==============================] - 0s 3ms/step - loss: 0.3859 - accuracy: 0.8307 - val_loss: 0.4633 - val_accuracy: 0.7744\n",
      "Epoch 10/30\n",
      "42/42 [==============================] - 0s 3ms/step - loss: 0.3413 - accuracy: 0.8617 - val_loss: 0.4675 - val_accuracy: 0.7644\n",
      "Epoch 11/30\n",
      "42/42 [==============================] - 0s 3ms/step - loss: 0.3209 - accuracy: 0.8699 - val_loss: 0.4759 - val_accuracy: 0.7756\n",
      "Epoch 12/30\n",
      "42/42 [==============================] - 0s 3ms/step - loss: 0.2853 - accuracy: 0.8890 - val_loss: 0.4802 - val_accuracy: 0.7689\n",
      "Epoch 13/30\n",
      "42/42 [==============================] - 0s 4ms/step - loss: 0.2430 - accuracy: 0.9039 - val_loss: 0.4831 - val_accuracy: 0.7778\n",
      "Epoch 14/30\n",
      "42/42 [==============================] - 0s 2ms/step - loss: 0.2259 - accuracy: 0.9215 - val_loss: 0.5137 - val_accuracy: 0.7856\n",
      "Epoch 15/30\n",
      "42/42 [==============================] - 0s 2ms/step - loss: 0.1777 - accuracy: 0.9363 - val_loss: 0.5225 - val_accuracy: 0.7867\n",
      "Epoch 16/30\n",
      "42/42 [==============================] - 0s 4ms/step - loss: 0.1702 - accuracy: 0.9475 - val_loss: 0.5549 - val_accuracy: 0.7867\n",
      "Epoch 17/30\n",
      "42/42 [==============================] - 0s 4ms/step - loss: 0.1172 - accuracy: 0.9732 - val_loss: 0.5977 - val_accuracy: 0.7911\n",
      "Epoch 18/30\n",
      "42/42 [==============================] - 0s 3ms/step - loss: 0.1022 - accuracy: 0.9684 - val_loss: 0.5846 - val_accuracy: 0.7867\n",
      "Epoch 19/30\n",
      "42/42 [==============================] - 0s 3ms/step - loss: 0.0899 - accuracy: 0.9785 - val_loss: 0.6241 - val_accuracy: 0.7922\n",
      "Epoch 20/30\n",
      "42/42 [==============================] - 0s 2ms/step - loss: 0.0708 - accuracy: 0.9882 - val_loss: 0.6827 - val_accuracy: 0.7667\n",
      "Epoch 21/30\n",
      "42/42 [==============================] - 0s 3ms/step - loss: 0.0628 - accuracy: 0.9878 - val_loss: 0.6905 - val_accuracy: 0.7833\n",
      "Epoch 22/30\n",
      "42/42 [==============================] - 0s 3ms/step - loss: 0.0516 - accuracy: 0.9897 - val_loss: 0.7401 - val_accuracy: 0.7900\n",
      "Epoch 23/30\n",
      "42/42 [==============================] - 0s 3ms/step - loss: 0.0468 - accuracy: 0.9880 - val_loss: 0.7698 - val_accuracy: 0.7856\n",
      "Epoch 24/30\n",
      "42/42 [==============================] - 0s 3ms/step - loss: 0.0367 - accuracy: 0.9930 - val_loss: 0.8150 - val_accuracy: 0.7922\n",
      "Epoch 25/30\n",
      "42/42 [==============================] - 0s 2ms/step - loss: 0.0336 - accuracy: 0.9937 - val_loss: 0.8243 - val_accuracy: 0.7856\n",
      "Epoch 26/30\n",
      "42/42 [==============================] - 0s 3ms/step - loss: 0.0231 - accuracy: 0.9994 - val_loss: 0.8583 - val_accuracy: 0.7844\n",
      "Epoch 27/30\n",
      "42/42 [==============================] - 0s 3ms/step - loss: 0.0200 - accuracy: 0.9987 - val_loss: 0.8904 - val_accuracy: 0.7867\n",
      "Epoch 28/30\n",
      "42/42 [==============================] - 0s 3ms/step - loss: 0.0166 - accuracy: 0.9996 - val_loss: 0.9250 - val_accuracy: 0.7767\n",
      "Epoch 29/30\n",
      "42/42 [==============================] - 0s 3ms/step - loss: 0.0148 - accuracy: 0.9994 - val_loss: 0.9252 - val_accuracy: 0.7767\n",
      "Epoch 30/30\n",
      "42/42 [==============================] - 0s 3ms/step - loss: 0.0125 - accuracy: 0.9981 - val_loss: 0.9680 - val_accuracy: 0.7889\n",
      "29/29 [==============================] - 0s 2ms/step - loss: 0.9680 - accuracy: 0.7889\n",
      "\n",
      "Test loss: 0.9679685235023499\n",
      "Test accuracy: 0.7888888716697693\n"
     ]
    },
    {
     "data": {
      "image/png": "[encoded data removed]",
      "text/plain": [
       "<Figure size 432x288 with 1 Axes>"
      ]
     },
     "metadata": {
      "needs_background": "light"
     },
     "output_type": "display_data"
    },
    {
     "data": {
      "image/png": "[encoded data removed]",
      "text/plain": [
       "<Figure size 432x288 with 1 Axes>"
      ]
     },
     "metadata": {
      "needs_background": "light"
     },
     "output_type": "display_data"
    }
   ],
   "source": [
    "model.compile(loss='binary_crossentropy',\n",
    "             optimizer='ADAM',\n",
    "             metrics=['accuracy'])\n",
    "\n",
    "\n",
    "fit = model.fit(x_train, y_train,\n",
    "               epochs=30, batch_size=50,\n",
    "               validation_data=(x_test, y_test),\n",
    "               shuffle=True #changes composition of mini batch                                \n",
    "               )\n",
    "\n",
    "\n",
    "score = model.evaluate(x_test, y_test, verbose=1)\n",
    "\n",
    "# print performance\n",
    "print()\n",
    "print('Test loss:', score[0])\n",
    "print('Test accuracy:', score[1])\n",
    "\n",
    "# look into training history\n",
    "\n",
    "# summarize history for accuracy\n",
    "plt.plot(fit.history['accuracy'])\n",
    "plt.plot(fit.history['val_accuracy'])\n",
    "plt.ylabel('model accuracy')\n",
    "plt.xlabel('epoch')\n",
    "plt.legend(['train', 'test'], loc='best')\n",
    "plt.show()\n",
    "\n",
    "# summarize history for loss\n",
    "plt.plot(fit.history['loss'])\n",
    "plt.plot(fit.history['val_loss'])\n",
    "plt.ylabel('model loss')\n",
    "plt.xlabel('epoch')\n",
    "plt.legend(['train', 'test'], loc='best')\n",
    "plt.show()"
   ]
  },
  {
   "cell_type": "markdown",
   "metadata": {},
   "source": [
    "## Data augmentation"
   ]
  },
  {
   "cell_type": "code",
   "execution_count": 7,
   "metadata": {},
   "outputs": [],
   "source": [
    "sx_train = sx[:N_train]\n",
    "sx_train_augm = []\n",
    "y_train_augm = []\n",
    "\n",
    "def shifting(x, positions, label):\n",
    "    #function that shifts our srings\n",
    "    shifted_x = []\n",
    "    shifted_y =  []\n",
    "    \n",
    "    shifted_x.append(x)\n",
    "    shifted_y.append(label)\n",
    "    \n",
    "    temp = x\n",
    "    \n",
    "    for j in range(positions):\n",
    "        temp = temp[-1:]+temp[:-1]\n",
    "        shifted_x.append(temp)\n",
    "        shifted_y.append(label)\n",
    "             \n",
    "    return shifted_x, shifted_y\n",
    "            \n",
    "position = 15       \n",
    "\n",
    "for i in range(len(sx_train)):\n",
    "    sx_train_augm += shifting(sx_train[i], position, y_train[i])[0]\n",
    "    y_train_augm += shifting(sx_train[i], position, y_train[i])[1]   "
   ]
  },
  {
   "cell_type": "code",
   "execution_count": 8,
   "metadata": {},
   "outputs": [],
   "source": [
    "N_augm = len(sx_train_augm)"
   ]
  },
  {
   "cell_type": "code",
   "execution_count": 9,
   "metadata": {},
   "outputs": [
    {
     "name": "stdout",
     "output_type": "stream",
     "text": [
      "{'A': 0, 'C': 1, 'G': 2, 'T': 3}\n",
      "64\n",
      "<class 'list'>\n"
     ]
    }
   ],
   "source": [
    "Q = ['A', 'C', 'G', 'T']\n",
    "Nc=4\n",
    "onehc={Q[i]: i for i in range(Nc)}\n",
    "print(onehc)\n",
    "\n",
    "y = sy.astype(int)\n",
    "L = Ls*Nc\n",
    "\n",
    "print(L)#length of array feeding NN\n",
    "\n",
    "x_train_augm = np.zeros((N_augm, L))\n",
    "\n",
    "for n in range(N_augm):\n",
    "    for i in range(Ls):\n",
    "        x_train_augm[n][i*4 + onehc[sx_train_augm[n][i]]] = 1 #for every step in string you jump of 4 i the autoencpding\n",
    "        \n",
    "print( type(y_train_augm) )   "
   ]
  },
  {
   "cell_type": "code",
   "execution_count": 10,
   "metadata": {
    "scrolled": true
   },
   "outputs": [
    {
     "name": "stdout",
     "output_type": "stream",
     "text": [
      "Model: \"sequential_1\"\n",
      "_________________________________________________________________\n",
      "Layer (type)                 Output Shape              Param #   \n",
      "=================================================================\n",
      "dense_4 (Dense)              (None, 64)                4160      \n",
      "_________________________________________________________________\n",
      "dense_5 (Dense)              (None, 32)                2080      \n",
      "_________________________________________________________________\n",
      "dense_6 (Dense)              (None, 16)                528       \n",
      "_________________________________________________________________\n",
      "dropout_1 (Dropout)          (None, 16)                0         \n",
      "_________________________________________________________________\n",
      "dense_7 (Dense)              (None, 1)                 17        \n",
      "=================================================================\n",
      "Total params: 6,785\n",
      "Trainable params: 6,785\n",
      "Non-trainable params: 0\n",
      "_________________________________________________________________\n",
      "None\n"
     ]
    }
   ],
   "source": [
    "np.random.seed(123)\n",
    "\n",
    "model_aug = Sequential()\n",
    "model_aug.add(Dense(L, input_shape=(L,), activation='relu'))\n",
    "model_aug.add(Dense(L/2, activation='relu'))\n",
    "model_aug.add(Dense(L/4, activation='relu'))\n",
    "model_aug.add(Dropout(0.2))\n",
    "model_aug.add(Dense(1, activation='sigmoid'))\n",
    "\n",
    "print(model_aug.summary())"
   ]
  },
  {
   "cell_type": "code",
   "execution_count": 11,
   "metadata": {
    "scrolled": false
   },
   "outputs": [
    {
     "name": "stdout",
     "output_type": "stream",
     "text": [
      "Epoch 1/30\n",
      "68/68 [==============================] - 1s 5ms/step - loss: 0.5880 - accuracy: 0.7192 - val_loss: 0.5082 - val_accuracy: 0.7556\n",
      "Epoch 2/30\n",
      "68/68 [==============================] - 0s 3ms/step - loss: 0.5109 - accuracy: 0.7530 - val_loss: 0.4789 - val_accuracy: 0.7656\n",
      "Epoch 3/30\n",
      "68/68 [==============================] - 0s 2ms/step - loss: 0.4847 - accuracy: 0.7701 - val_loss: 0.4648 - val_accuracy: 0.7844\n",
      "Epoch 4/30\n",
      "68/68 [==============================] - 0s 2ms/step - loss: 0.4624 - accuracy: 0.7865 - val_loss: 0.4420 - val_accuracy: 0.8011\n",
      "Epoch 5/30\n",
      "68/68 [==============================] - 0s 3ms/step - loss: 0.4319 - accuracy: 0.8066 - val_loss: 0.4088 - val_accuracy: 0.8144\n",
      "Epoch 6/30\n",
      "68/68 [==============================] - 0s 3ms/step - loss: 0.3948 - accuracy: 0.8259 - val_loss: 0.3781 - val_accuracy: 0.8289\n",
      "Epoch 7/30\n",
      "68/68 [==============================] - 0s 3ms/step - loss: 0.3682 - accuracy: 0.8392 - val_loss: 0.3697 - val_accuracy: 0.8411\n",
      "Epoch 8/30\n",
      "68/68 [==============================] - 0s 3ms/step - loss: 0.3383 - accuracy: 0.8590 - val_loss: 0.3536 - val_accuracy: 0.8456\n",
      "Epoch 9/30\n",
      "68/68 [==============================] - 0s 3ms/step - loss: 0.3159 - accuracy: 0.8692 - val_loss: 0.3328 - val_accuracy: 0.8467\n",
      "Epoch 10/30\n",
      "68/68 [==============================] - 0s 3ms/step - loss: 0.3008 - accuracy: 0.8787 - val_loss: 0.3287 - val_accuracy: 0.8544\n",
      "Epoch 11/30\n",
      "68/68 [==============================] - 0s 3ms/step - loss: 0.2840 - accuracy: 0.8861 - val_loss: 0.3176 - val_accuracy: 0.8533\n",
      "Epoch 12/30\n",
      "68/68 [==============================] - 0s 3ms/step - loss: 0.2767 - accuracy: 0.8917 - val_loss: 0.3108 - val_accuracy: 0.8611\n",
      "Epoch 13/30\n",
      "68/68 [==============================] - 0s 2ms/step - loss: 0.2583 - accuracy: 0.9000 - val_loss: 0.2990 - val_accuracy: 0.8656\n",
      "Epoch 14/30\n",
      "68/68 [==============================] - 0s 3ms/step - loss: 0.2512 - accuracy: 0.9069 - val_loss: 0.3017 - val_accuracy: 0.8633\n",
      "Epoch 15/30\n",
      "68/68 [==============================] - 0s 3ms/step - loss: 0.2522 - accuracy: 0.9061 - val_loss: 0.2915 - val_accuracy: 0.8733\n",
      "Epoch 16/30\n",
      "68/68 [==============================] - 0s 3ms/step - loss: 0.2402 - accuracy: 0.9122 - val_loss: 0.3008 - val_accuracy: 0.8767\n",
      "Epoch 17/30\n",
      "68/68 [==============================] - 0s 2ms/step - loss: 0.2335 - accuracy: 0.9148 - val_loss: 0.3029 - val_accuracy: 0.8756\n",
      "Epoch 18/30\n",
      "68/68 [==============================] - 0s 2ms/step - loss: 0.2333 - accuracy: 0.9165 - val_loss: 0.3003 - val_accuracy: 0.8733\n",
      "Epoch 19/30\n",
      "68/68 [==============================] - 0s 2ms/step - loss: 0.2266 - accuracy: 0.9189 - val_loss: 0.3023 - val_accuracy: 0.8778\n",
      "Epoch 20/30\n",
      "68/68 [==============================] - 0s 3ms/step - loss: 0.2239 - accuracy: 0.9203 - val_loss: 0.3121 - val_accuracy: 0.8744\n",
      "Epoch 21/30\n",
      "68/68 [==============================] - 0s 4ms/step - loss: 0.2276 - accuracy: 0.9178 - val_loss: 0.3303 - val_accuracy: 0.8700\n",
      "Epoch 22/30\n",
      "68/68 [==============================] - 0s 4ms/step - loss: 0.2193 - accuracy: 0.9208 - val_loss: 0.3032 - val_accuracy: 0.8711\n",
      "Epoch 23/30\n",
      "68/68 [==============================] - 0s 3ms/step - loss: 0.2122 - accuracy: 0.9267 - val_loss: 0.3091 - val_accuracy: 0.8722\n",
      "Epoch 24/30\n",
      "68/68 [==============================] - 0s 3ms/step - loss: 0.2094 - accuracy: 0.9277 - val_loss: 0.3090 - val_accuracy: 0.8756\n",
      "Epoch 25/30\n",
      "68/68 [==============================] - 0s 2ms/step - loss: 0.2057 - accuracy: 0.9291 - val_loss: 0.3067 - val_accuracy: 0.8778\n",
      "Epoch 26/30\n",
      "68/68 [==============================] - 0s 2ms/step - loss: 0.2056 - accuracy: 0.9281 - val_loss: 0.2987 - val_accuracy: 0.8789\n",
      "Epoch 27/30\n",
      "68/68 [==============================] - 0s 2ms/step - loss: 0.2051 - accuracy: 0.9314 - val_loss: 0.3250 - val_accuracy: 0.8711\n",
      "Epoch 28/30\n",
      "68/68 [==============================] - 0s 2ms/step - loss: 0.2007 - accuracy: 0.9318 - val_loss: 0.3129 - val_accuracy: 0.8767\n",
      "Epoch 29/30\n",
      "68/68 [==============================] - 0s 2ms/step - loss: 0.2007 - accuracy: 0.9330 - val_loss: 0.3095 - val_accuracy: 0.8800\n",
      "Epoch 30/30\n",
      "68/68 [==============================] - 0s 2ms/step - loss: 0.1985 - accuracy: 0.9333 - val_loss: 0.3193 - val_accuracy: 0.8800\n",
      "29/29 [==============================] - 0s 931us/step - loss: 0.3193 - accuracy: 0.8800\n",
      "\n",
      "Test loss: 0.31926754117012024\n",
      "Test accuracy: 0.8799999952316284\n"
     ]
    }
   ],
   "source": [
    "model_aug.compile(loss='binary_crossentropy',\n",
    "             optimizer='ADAM',\n",
    "             metrics=['accuracy'])\n",
    "\n",
    "\n",
    "fit_aug = model_aug.fit(np.asarray(x_train_augm), np.asarray(y_train_augm),\n",
    "               epochs=30, batch_size=500,\n",
    "               validation_data=(x_test, y_test),\n",
    "               shuffle=True #changes composition of mini batch                                \n",
    "               )\n",
    "\n",
    "score = model_aug.evaluate(x_test, y_test, verbose=1)\n",
    "\n",
    "# print performance\n",
    "print()\n",
    "print('Test loss:', score[0])\n",
    "print('Test accuracy:', score[1])"
   ]
  },
  {
   "cell_type": "code",
   "execution_count": 12,
   "metadata": {},
   "outputs": [
    {
     "data": {
      "image/png": "[encoded data removed]",
      "text/plain": [
       "<Figure size 432x288 with 1 Axes>"
      ]
     },
     "metadata": {
      "needs_background": "light"
     },
     "output_type": "display_data"
    },
    {
     "data": {
      "image/png": "[encoded data removed]",
      "text/plain": [
       "<Figure size 432x288 with 1 Axes>"
      ]
     },
     "metadata": {
      "needs_background": "light"
     },
     "output_type": "display_data"
    }
   ],
   "source": [
    "# look into training history\n",
    "\n",
    "# summarize history for accuracy\n",
    "plt.plot(fit_aug.history['accuracy'],\n",
    "         label='train accuracy aug',\n",
    "         c='red',\n",
    "         ls='--'\n",
    "        )\n",
    "plt.plot(fit_aug.history['val_accuracy'],\n",
    "         label='test accuracy aug',\n",
    "         c='red'\n",
    "        )\n",
    "plt.plot(fit.history['accuracy'],\n",
    "         label='train accuracy no aug',\n",
    "         c='blue',\n",
    "         ls='--'\n",
    "        )\n",
    "plt.plot(fit.history['val_accuracy'], label='test accuracy no aug',c='blue')\n",
    "plt.ylabel('Accuracy')\n",
    "plt.xlabel('epoch')\n",
    "plt.legend(bbox_to_anchor=(1.05, 1))\n",
    "plt.show()\n",
    "\n",
    "# summarize history for loss\n",
    "plt.plot(fit_aug.history['loss'], label='train loss accuracy aug', c='red', ls='--')\n",
    "plt.plot(fit_aug.history['val_loss'], label='test loss accuracy aug',c='red')\n",
    "plt.plot(fit.history['loss'], label='train loss accuracy no aug',c='blue',ls='--')\n",
    "plt.plot(fit.history['val_loss'], label='test loss accuracy no aug',c='blue')\n",
    "plt.ylabel('Loss')\n",
    "plt.xlabel('epoch')\n",
    "plt.legend(bbox_to_anchor=(1.05, 1))\n",
    "plt.show()"
   ]
  },
  {
   "cell_type": "markdown",
   "metadata": {},
   "source": [
    "It enlarges the number of good samples\n",
    "Podemo anca provar a cambiare el numero de shifting\n"
   ]
  },
  {
   "cell_type": "markdown",
   "metadata": {},
   "source": [
    "## Grid Search"
   ]
  },
  {
   "cell_type": "code",
   "execution_count": 27,
   "metadata": {},
   "outputs": [],
   "source": [
    "from sklearn.model_selection import GridSearchCV\n",
    "from tensorflow.keras.wrappers.scikit_learn import KerasClassifier"
   ]
  },
  {
   "cell_type": "code",
   "execution_count": null,
   "metadata": {
    "scrolled": false
   },
   "outputs": [],
   "source": [
    "# Function to create model, required for KerasClassifier\n",
    "def create_model(optimizer='RMSprop', activation='relu', dropout_rate=0.2):\n",
    "    # create model\n",
    "    model_grid = Sequential()\n",
    "    model_grid.add(Dense(L, input_shape=(L,), activation=activation))\n",
    "    model_grid.add(Dense(L/2, activation=activation))\n",
    "    model_grid.add(Dropout(dropout_rate))\n",
    "    model_grid.add(Dense(1, activation=activation))\n",
    "\n",
    "    model_grid.compile(loss='binary_crossentropy',\n",
    "                       optimizer=optimizer,\n",
    "                       metrics=['accuracy']\n",
    "                      )\n",
    "    return model_grid\n",
    " \n",
    "# create model \n",
    "model_gridsearch = KerasClassifier(build_fn=create_model, \n",
    "                        epochs=30, \n",
    "                        batch_size=800,\n",
    "                        verbose=1)\n",
    "\n",
    "# list of allowed optional arguments for the optimizer, see compile_model()\n",
    "optimizer = ['SGD', 'RMSprop', 'Adam']\n",
    "activation = ['relu', 'elu', 'sigmoid', 'tanh']\n",
    "dropout_rate = [0.1,0.2,0.3,0.4,0.5]\n",
    "\n",
    "# define parameter dictionary\n",
    "param_grid = dict(optimizer     = optimizer,\n",
    "                  dropout_rate  = dropout_rate,\n",
    "                  activation    = activation\n",
    "                 )\n",
    "# call scikit grid search module\n",
    "grid = GridSearchCV(estimator=model_gridsearch,\n",
    "                    param_grid=param_grid,\n",
    "                    n_jobs = 1,\n",
    "                    cv=4)\n",
    "grid_result = grid.fit(np.asarray(x_train_augm),np.asarray(y_train_augm))"
   ]
  },
  {
   "cell_type": "code",
   "execution_count": 41,
   "metadata": {
    "scrolled": true
   },
   "outputs": [
    {
     "name": "stdout",
     "output_type": "stream",
     "text": [
      "Best: 0.873929 using {'optimizer': 'Nadam'}\n",
      "0.816726 (0.010377) with: {'optimizer': 'SGD'}\n",
      "0.872708 (0.007509) with: {'optimizer': 'RMSprop'}\n",
      "0.757679 (0.013907) with: {'optimizer': 'Adagrad'}\n",
      "0.752857 (0.012150) with: {'optimizer': 'Adadelta'}\n",
      "0.873571 (0.011931) with: {'optimizer': 'Adam'}\n",
      "0.869286 (0.007056) with: {'optimizer': 'Adamax'}\n",
      "0.873929 (0.005747) with: {'optimizer': 'Nadam'}\n"
     ]
    }
   ],
   "source": [
    "# summarize results\n",
    "print(\"Best: %f using %s\" % (grid_result.best_score_, grid_result.best_params_))\n",
    "means = grid_result.cv_results_['mean_test_score']\n",
    "stds = grid_result.cv_results_['std_test_score']\n",
    "params = grid_result.cv_results_['params']\n",
    "for mean, stdev, param in zip(means, stds, params):\n",
    "    print(\"%f (%f) with: %r\" % (mean, stdev, param))"
   ]
  },
  {
   "cell_type": "markdown",
   "metadata": {},
   "source": [
    "## Rescale analysis"
   ]
  },
  {
   "cell_type": "code",
   "execution_count": 56,
   "metadata": {},
   "outputs": [
    {
     "name": "stdout",
     "output_type": "stream",
     "text": [
      "[ 4.         -1.33333333 -1.33333333 -1.33333333  4.         -1.33333333\n",
      " -1.33333333 -1.33333333 -1.33333333 -1.33333333  4.         -1.33333333\n",
      " -1.33333333 -1.33333333  4.         -1.33333333 -1.33333333 -1.33333333\n",
      " -1.33333333  4.         -1.33333333  4.         -1.33333333 -1.33333333\n",
      " -1.33333333 -1.33333333 -1.33333333  4.         -1.33333333 -1.33333333\n",
      "  4.         -1.33333333 -1.33333333  4.         -1.33333333 -1.33333333\n",
      " -1.33333333  4.         -1.33333333 -1.33333333 -1.33333333 -1.33333333\n",
      "  4.         -1.33333333 -1.33333333 -1.33333333  4.         -1.33333333\n",
      " -1.33333333  4.         -1.33333333 -1.33333333 -1.33333333  4.\n",
      " -1.33333333 -1.33333333 -1.33333333 -1.33333333  4.         -1.33333333\n",
      "  4.         -1.33333333 -1.33333333 -1.33333333]\n",
      "0.1875\n"
     ]
    }
   ],
   "source": [
    "print(x_train_augm[0])\n",
    "new_hc = [-0.25,-0.25,-0.25,0.75]   ## mean of [0,0,0,1] = 0.25, then x -= 0.25\n",
    "v = np.var(new_hc)\n",
    "print(v)"
   ]
  },
  {
   "cell_type": "code",
   "execution_count": 55,
   "metadata": {},
   "outputs": [],
   "source": [
    "print(x_train_augm[0][:10])\n",
    "x_train_augm = (x_train_augm - 0.25)/v\n",
    "print(x_train_augm[0][:10])"
   ]
  },
  {
   "cell_type": "code",
   "execution_count": 57,
   "metadata": {},
   "outputs": [
    {
     "name": "stdout",
     "output_type": "stream",
     "text": [
      "Model: \"sequential_10\"\n",
      "_________________________________________________________________\n",
      "Layer (type)                 Output Shape              Param #   \n",
      "=================================================================\n",
      "dense_33 (Dense)             (None, 64)                4160      \n",
      "_________________________________________________________________\n",
      "dense_34 (Dense)             (None, 32)                2080      \n",
      "_________________________________________________________________\n",
      "dropout_10 (Dropout)         (None, 32)                0         \n",
      "_________________________________________________________________\n",
      "dense_35 (Dense)             (None, 1)                 33        \n",
      "=================================================================\n",
      "Total params: 6,273\n",
      "Trainable params: 6,273\n",
      "Non-trainable params: 0\n",
      "_________________________________________________________________\n",
      "None\n"
     ]
    }
   ],
   "source": [
    "final_model = create_model(optimizer='RMSprop', activation='relu', dropout_rate=0.1) #Best model from GridSearch\n",
    "print(final_model.summary())"
   ]
  },
  {
   "cell_type": "code",
   "execution_count": 58,
   "metadata": {
    "scrolled": true
   },
   "outputs": [
    {
     "name": "stdout",
     "output_type": "stream",
     "text": [
      "Epoch 1/30\n",
      "42/42 [==============================] - 1s 6ms/step - loss: 4.5508 - accuracy: 0.6400 - val_loss: 3.4958 - val_accuracy: 0.7556\n",
      "Epoch 2/30\n",
      "42/42 [==============================] - 0s 3ms/step - loss: 3.7351 - accuracy: 0.7411 - val_loss: 3.2228 - val_accuracy: 0.7567\n",
      "Epoch 3/30\n",
      "42/42 [==============================] - 0s 3ms/step - loss: 3.6238 - accuracy: 0.7372 - val_loss: 3.1873 - val_accuracy: 0.7556\n",
      "Epoch 4/30\n",
      "42/42 [==============================] - 0s 3ms/step - loss: 3.6195 - accuracy: 0.7392 - val_loss: 3.0305 - val_accuracy: 0.7567\n",
      "Epoch 5/30\n",
      "42/42 [==============================] - 0s 3ms/step - loss: 3.5534 - accuracy: 0.7275 - val_loss: 3.1599 - val_accuracy: 0.7556\n",
      "Epoch 6/30\n",
      "42/42 [==============================] - 0s 3ms/step - loss: 3.5115 - accuracy: 0.7393 - val_loss: 3.3795 - val_accuracy: 0.7556\n",
      "Epoch 7/30\n",
      "42/42 [==============================] - 0s 4ms/step - loss: 3.4939 - accuracy: 0.7448 - val_loss: 3.2509 - val_accuracy: 0.7567\n",
      "Epoch 8/30\n",
      "42/42 [==============================] - 0s 4ms/step - loss: 3.3922 - accuracy: 0.7515 - val_loss: 2.4191 - val_accuracy: 0.7611\n",
      "Epoch 9/30\n",
      "42/42 [==============================] - 0s 4ms/step - loss: 3.1603 - accuracy: 0.7392 - val_loss: 2.1790 - val_accuracy: 0.7611\n",
      "Epoch 10/30\n",
      "42/42 [==============================] - 0s 5ms/step - loss: 3.1243 - accuracy: 0.7254 - val_loss: 2.3254 - val_accuracy: 0.7567\n",
      "Epoch 11/30\n",
      "42/42 [==============================] - 0s 5ms/step - loss: 3.0292 - accuracy: 0.7352 - val_loss: 2.2496 - val_accuracy: 0.7578\n",
      "Epoch 12/30\n",
      "42/42 [==============================] - 0s 4ms/step - loss: 2.8922 - accuracy: 0.7329 - val_loss: 2.2578 - val_accuracy: 0.7567\n",
      "Epoch 13/30\n",
      "42/42 [==============================] - 0s 3ms/step - loss: 2.8205 - accuracy: 0.7444 - val_loss: 2.5428 - val_accuracy: 0.7567\n",
      "Epoch 14/30\n",
      "42/42 [==============================] - 0s 3ms/step - loss: 2.7628 - accuracy: 0.7475 - val_loss: 2.2205 - val_accuracy: 0.7544\n",
      "Epoch 15/30\n",
      "42/42 [==============================] - 0s 3ms/step - loss: 2.5845 - accuracy: 0.7379 - val_loss: 2.2726 - val_accuracy: 0.7544\n",
      "Epoch 16/30\n",
      "42/42 [==============================] - 0s 3ms/step - loss: 2.5032 - accuracy: 0.7434 - val_loss: 2.3657 - val_accuracy: 0.7556\n",
      "Epoch 17/30\n",
      "42/42 [==============================] - 0s 3ms/step - loss: 2.4944 - accuracy: 0.7495 - val_loss: 1.6449 - val_accuracy: 0.7533\n",
      "Epoch 18/30\n",
      "42/42 [==============================] - 0s 3ms/step - loss: 2.3429 - accuracy: 0.7306 - val_loss: 1.6335 - val_accuracy: 0.7544\n",
      "Epoch 19/30\n",
      "42/42 [==============================] - 0s 3ms/step - loss: 2.1134 - accuracy: 0.7359 - val_loss: 1.6697 - val_accuracy: 0.7556\n",
      "Epoch 20/30\n",
      "42/42 [==============================] - 0s 3ms/step - loss: 1.9498 - accuracy: 0.7339 - val_loss: 1.5457 - val_accuracy: 0.7556\n",
      "Epoch 21/30\n",
      "42/42 [==============================] - 0s 3ms/step - loss: 1.7556 - accuracy: 0.7371 - val_loss: 1.3781 - val_accuracy: 0.7556\n",
      "Epoch 22/30\n",
      "42/42 [==============================] - 0s 3ms/step - loss: 1.6622 - accuracy: 0.7389 - val_loss: 1.2325 - val_accuracy: 0.7556\n",
      "Epoch 23/30\n",
      "42/42 [==============================] - 0s 3ms/step - loss: 1.4837 - accuracy: 0.7233 - val_loss: 1.3626 - val_accuracy: 0.7556\n",
      "Epoch 24/30\n",
      "42/42 [==============================] - 0s 3ms/step - loss: 1.3550 - accuracy: 0.7428 - val_loss: 1.1685 - val_accuracy: 0.7556\n",
      "Epoch 25/30\n",
      "42/42 [==============================] - 0s 3ms/step - loss: 1.2190 - accuracy: 0.7333 - val_loss: 0.9699 - val_accuracy: 0.7556\n",
      "Epoch 26/30\n",
      "42/42 [==============================] - 0s 4ms/step - loss: 1.1003 - accuracy: 0.7380 - val_loss: 0.8843 - val_accuracy: 0.7556\n",
      "Epoch 27/30\n",
      "42/42 [==============================] - 0s 3ms/step - loss: 0.9461 - accuracy: 0.7349 - val_loss: 0.7934 - val_accuracy: 0.7556\n",
      "Epoch 28/30\n",
      "42/42 [==============================] - 0s 4ms/step - loss: 0.8330 - accuracy: 0.7455 - val_loss: 0.7483 - val_accuracy: 0.7556\n",
      "Epoch 29/30\n",
      "42/42 [==============================] - 0s 4ms/step - loss: 0.7950 - accuracy: 0.7518 - val_loss: 0.7499 - val_accuracy: 0.7556\n",
      "Epoch 30/30\n",
      "42/42 [==============================] - 0s 4ms/step - loss: 0.6810 - accuracy: 0.7640 - val_loss: 0.7163 - val_accuracy: 0.7556\n",
      "29/29 [==============================] - 0s 1ms/step - loss: 0.7163 - accuracy: 0.7556\n",
      "\n",
      "Test loss: 0.7162942886352539\n",
      "Test accuracy: 0.7555555701255798\n"
     ]
    }
   ],
   "source": [
    "fit_final_model = final_model.fit(np.asarray(x_train_augm), np.asarray(y_train_augm),\n",
    "               epochs=30, batch_size=800,\n",
    "               validation_data=(x_test, y_test),\n",
    "               shuffle=True #changes composition of mini batch                                \n",
    "               )\n",
    "\n",
    "score = final_model.evaluate(x_test, y_test, verbose=0)\n",
    "\n",
    "# print performance\n",
    "print()\n",
    "print('Test loss:', score[0])\n",
    "print('Test accuracy:', score[1])"
   ]
  },
  {
   "cell_type": "markdown",
   "metadata": {},
   "source": [
    "## Appendix"
   ]
  },
  {
   "cell_type": "code",
   "execution_count": 131,
   "metadata": {},
   "outputs": [],
   "source": [
    "shifting_list = [3, 7, 11, 15]\n",
    "\n",
    "def shifting(x, positions, label):\n",
    "    #function that shifts our strings\n",
    "    shifted_x = []\n",
    "    shifted_y =  []\n",
    "    \n",
    "    shifted_x.append(x)\n",
    "    shifted_y.append(label)\n",
    "    \n",
    "    temp = x\n",
    "    \n",
    "    for j in range(positions):\n",
    "        temp = temp[-1:]+temp[:-1]\n",
    "        shifted_x.append(temp)\n",
    "        shifted_y.append(label)\n",
    "             \n",
    "    return shifted_x, shifted_y\n",
    "\n",
    "for shift in shifting_list:\n",
    "    \n",
    "    temp_x = []\n",
    "    temp_y = []\n",
    "    \n",
    "    for i in range(len(sx_train)):\n",
    "        temp_x += shifting(sx_train[i], shift, y_train[i])[0]\n",
    "        temp_y += shifting(sx_train[i], shift, y_train[i])[1] \n",
    "    if shift == 3:\n",
    "        sx_train_4 = temp_x\n",
    "        y_train_4 = temp_y \n",
    "    if shift == 7:\n",
    "        sx_train_8 = temp_x\n",
    "        y_train_8  = temp_y \n",
    "    if shift == 11:\n",
    "        sx_train_12 = temp_x\n",
    "        y_train_12 = temp_y \n",
    "    if shift == 15:\n",
    "        sx_train_16 = temp_x\n",
    "        y_train_16 = temp_y "
   ]
  },
  {
   "cell_type": "code",
   "execution_count": 132,
   "metadata": {},
   "outputs": [
    {
     "name": "stdout",
     "output_type": "stream",
     "text": [
      "Model: \"sequential_40\"\n",
      "_________________________________________________________________\n",
      "Layer (type)                 Output Shape              Param #   \n",
      "=================================================================\n",
      "dense_160 (Dense)            (None, 64)                4160      \n",
      "_________________________________________________________________\n",
      "dense_161 (Dense)            (None, 32)                2080      \n",
      "_________________________________________________________________\n",
      "dense_162 (Dense)            (None, 16)                528       \n",
      "_________________________________________________________________\n",
      "dropout_40 (Dropout)         (None, 16)                0         \n",
      "_________________________________________________________________\n",
      "dense_163 (Dense)            (None, 1)                 17        \n",
      "=================================================================\n",
      "Total params: 6,785\n",
      "Trainable params: 6,785\n",
      "Non-trainable params: 0\n",
      "_________________________________________________________________\n",
      "None\n"
     ]
    }
   ],
   "source": [
    "np.random.seed(123)\n",
    "\n",
    "model_shift = Sequential()\n",
    "model_shift.add(Dense(L, input_shape=(L,), activation='relu'))\n",
    "model_shift.add(Dense(L/2, activation='relu'))\n",
    "model_shift.add(Dense(L/4, activation='relu'))\n",
    "model_shift.add(Dropout(0.2))\n",
    "model_shift.add(Dense(1, activation='sigmoid'))\n",
    "\n",
    "print(model_shift.summary())"
   ]
  },
  {
   "cell_type": "code",
   "execution_count": 133,
   "metadata": {
    "scrolled": false
   },
   "outputs": [
    {
     "name": "stdout",
     "output_type": "stream",
     "text": [
      "\n",
      "Test loss: 0.6037580966949463\n",
      "Test accuracy: 0.8411111235618591\n",
      "\n",
      "Test loss: 0.42905381321907043\n",
      "Test accuracy: 0.8611111044883728\n",
      "\n",
      "Test loss: 0.4013690650463104\n",
      "Test accuracy: 0.8700000047683716\n",
      "\n",
      "Test loss: 0.3580036461353302\n",
      "Test accuracy: 0.8777777552604675\n"
     ]
    },
    {
     "data": {
      "image/png": "[encoded data removed]",
      "text/plain": [
       "<Figure size 720x720 with 2 Axes>"
      ]
     },
     "metadata": {
      "needs_background": "light"
     },
     "output_type": "display_data"
    }
   ],
   "source": [
    "fig, ax = plt.subplots(2,1, figsize=(10,10))\n",
    "\n",
    "model_shift.compile(loss='binary_crossentropy',\n",
    "                    optimizer='ADAM',\n",
    "                    metrics=['accuracy'])\n",
    "\n",
    "shifted_x_list = [sx_train_4, sx_train_8, sx_train_12, sx_train_16]\n",
    "shifted_y_list = [y_train_4, y_train_8, y_train_12, y_train_16]\n",
    "batch_size = [100, 300, 500, 800]\n",
    "color = ['red', 'blue', 'green', 'orange']\n",
    "\n",
    "\n",
    "for i in range(len(shifted_x_list)):\n",
    "    \n",
    "    x_train = np.zeros((len(shifted_x_list[i]), L))\n",
    "    \n",
    "    for j in range(len(shifted_x_list[i])):\n",
    "        for k in range(Ls):\n",
    "            x_train[j][k*4 + onehc[shifted_x_list[i][j][k]]] = 1 #for every step in string you jump of 4 i the autoencpding\n",
    "\n",
    "    fit_shift = model_shift.fit(np.asarray(x_train), np.asarray(shifted_y_list[i]),\n",
    "                   epochs=30, batch_size=batch_size[i],\n",
    "                   validation_data=(x_test, y_test),\n",
    "                   shuffle=True, #changes composition of mini batch                                \n",
    "                   verbose=0)\n",
    "\n",
    "    score = model_shift.evaluate(x_test, y_test, verbose=0)\n",
    "\n",
    "    # print performance\n",
    "    print()\n",
    "    print('Test loss:', score[0])\n",
    "    print('Test accuracy:', score[1])\n",
    "    \n",
    "    final = str(shifting_list[i]+1) + ' shift'\n",
    "    final_2 = str(shifting_list[i]+1) + ' shift'\n",
    "    ax[0].plot(fit_shift.history['val_accuracy'],\n",
    "             label=final,\n",
    "             c=color[i]\n",
    "            )\n",
    "    ax[0].set_title('Accuracy on different datasets vs epochs')\n",
    "    ax[0].set_ylabel('Accuracy')\n",
    "    ax[0].set_xlabel('epoch')\n",
    "    ax[0].legend(bbox_to_anchor=(1.05, 1))\n",
    "    ax[0].set_ylim(0.7,0.9)\n",
    "\n",
    "    # summarize history for loss\n",
    "    ax[1].plot(fit_shift.history['val_loss'],\n",
    "               label=final_2,\n",
    "               c=color[i])\n",
    "    ax[1].set_title('Loss on different datasets vs epochs')\n",
    "    ax[1].set_ylabel('Loss')\n",
    "    ax[1].set_xlabel('epoch')\n",
    "    ax[1].legend(bbox_to_anchor=(1.05, 1))\n",
    "    ax[1].set_ylim(0.2,0.7)"
   ]
  },
  {
   "cell_type": "markdown",
   "metadata": {},
   "source": [
    "aumentare del dataset è meno determinante.\n",
    "Diminuendo il numero di shifts, l'assegnazione sbagliata delle etichettte è sempre più determinante. Definire bene cos'è uno shift"
   ]
  },
  {
   "cell_type": "code",
   "execution_count": null,
   "metadata": {},
   "outputs": [],
   "source": []
  }
 ],
 "metadata": {
  "kernelspec": {
   "display_name": "Python 3",
   "language": "python",
   "name": "python3"
  },
  "language_info": {
   "codemirror_mode": {
    "name": "ipython",
    "version": 3
   },
   "file_extension": ".py",
   "mimetype": "text/x-python",
   "name": "python",
   "nbconvert_exporter": "python",
   "pygments_lexer": "ipython3",
   "version": "3.8.6"
  }
 },
 "nbformat": 4,
 "nbformat_minor": 4
}
