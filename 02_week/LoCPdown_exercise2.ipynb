{
 "cells": [
  {
   "cell_type": "markdown",
   "metadata": {},
   "source": [
    "# Laboratory of Computational Physics mod.B"
   ]
  },
  {
   "cell_type": "markdown",
   "metadata": {},
   "source": [
    "## Second assignment\n",
    "\n",
    "### Group name: LoCPdown\n",
    "### Components:\n",
    "* Campesan Giulia (2027592)\n",
    "* Faorlin Tommaso (2021857)\n",
    "* Marcomini Alessandro (2024286)"
   ]
  },
  {
   "cell_type": "markdown",
   "metadata": {},
   "source": [
    "### Objective:\n",
    "The goal of this project is the analysis of various architectures of Deep Neural Networks (DNNs) and the characterization of how different parameters affects their performances. In particular, the dataset we work on is a sequence of $N=3000$ strings of sixteen characters indicating nucleic bases ('A', 'C', 'G', 'T') where a binary classification has been performed so to find a certain sequence of bases.\n",
    "\n",
    "Here we import data and libraries. In order to perform suitable calculations an one-hot encoding technique has been adopted. "
   ]
  },
  {
   "cell_type": "code",
   "execution_count": 1,
   "metadata": {
    "colab": {
     "base_uri": "https://localhost:8080/",
     "height": 73,
     "resources": {
      "http://localhost:8080/nbextensions/google.colab/files.js": {
       "data": "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",
       "headers": [
        [
         "content-type",
         "application/javascript"
        ]
       ],
       "ok": true,
       "status": 200,
       "status_text": ""
      }
     }
    },
    "id": "5j-krQcXsx__",
    "outputId": "967cd3e1-c0b6-4c6f-cb03-486fa8d2a8a8"
   },
   "outputs": [],
   "source": [
    "#import libraries\n",
    "\n",
    "import time\n",
    "import math\n",
    "import numpy as np\n",
    "from matplotlib import pyplot as plt\n",
    "\n",
    "from sklearn.model_selection import GridSearchCV\n",
    "\n",
    "from tensorflow import keras\n",
    "from tensorflow.keras.models import Sequential\n",
    "from tensorflow.keras.layers import Dense, Dropout\n",
    "from tensorflow.keras.optimizers import SGD\n",
    "from tensorflow.keras.wrappers.scikit_learn import KerasClassifier\n",
    "\n",
    "#from google.colab import files\n",
    "\n",
    "#importing the file of sequences\n",
    "#uploaded_files = files.upload()\n",
    "fname = open('sequences16.csv', 'r')"
   ]
  },
  {
   "cell_type": "code",
   "execution_count": 2,
   "metadata": {
    "colab": {
     "base_uri": "https://localhost:8080/"
    },
    "id": "dASmggA9syAI",
    "outputId": "c1428482-c607-43db-e37f-98d0e7c67ca7"
   },
   "outputs": [
    {
     "name": "stdout",
     "output_type": "stream",
     "text": [
      "Original dataset composition:\n",
      "\n",
      "data: 3000\n",
      "train: 2100\n",
      "test: 900\n"
     ]
    }
   ],
   "source": [
    "#import data\n",
    "\n",
    "sx, sy = np.loadtxt(fname,\n",
    "                    delimiter=',',\n",
    "                    usecols=(0,1),\n",
    "                    unpack=True,\n",
    "                    dtype=str\n",
    "                    )\n",
    "N=len(sy)\n",
    "Ls=len(sx[0])\n",
    "\n",
    "perc_train=0.7\n",
    "N_train= int(N*perc_train)\n",
    "N_test = N-N_train\n",
    "\n",
    "print('Original dataset composition:')\n",
    "print(f'\\ndata: {N}\\ntrain: {N_train}\\ntest: {N_test}')"
   ]
  },
  {
   "cell_type": "code",
   "execution_count": 3,
   "metadata": {
    "id": "BJV6oE4wsyAM"
   },
   "outputs": [],
   "source": [
    "#one hot encoding\n",
    "\n",
    "Q = ['A', 'C', 'G', 'T']\n",
    "Nc=4\n",
    "onehc={Q[i]: i for i in range(Nc)}\n",
    "\n",
    "y = sy.astype(int)\n",
    "L = Ls*Nc\n",
    "\n",
    "x = np.zeros((N, L))\n",
    "\n",
    "for n in range(N):\n",
    "    for i in range(Ls):\n",
    "        x[n][i*4 + onehc[sx[n][i]]] = 1 "
   ]
  },
  {
   "cell_type": "markdown",
   "metadata": {
    "id": "p0uw698OsyAM"
   },
   "source": [
    "## DNN definition, train and test"
   ]
  },
  {
   "cell_type": "markdown",
   "metadata": {},
   "source": [
    "We now exploit the dataset we have to perform a full characterization of a DNN architecture. We firstly divide training and test sets and proceed to define the network. In our case, we decide to implement a four-layers neural network with decreasing number of neurons and rectified linear units as internal activation functions. The one-neuron output function returns a probability density by using a sigmoid function."
   ]
  },
  {
   "cell_type": "code",
   "execution_count": 4,
   "metadata": {
    "colab": {
     "base_uri": "https://localhost:8080/"
    },
    "id": "MjBbymjXsyAN",
    "outputId": "1ec5904b-044f-4bbe-a519-69d93fb8dba2"
   },
   "outputs": [
    {
     "name": "stdout",
     "output_type": "stream",
     "text": [
      "0.24714285714285714 0.24444444444444444\n"
     ]
    }
   ],
   "source": [
    "x_train, y_train = x[:N_train], y[:N_train]\n",
    "x_test, y_test = x[N_train:], y[N_train:]\n",
    "\n",
    "score_train = y_train.sum()/len(y_train)\n",
    "score_test = y_test.sum()/len(y_test)\n",
    "print(score_train, score_test)"
   ]
  },
  {
   "cell_type": "code",
   "execution_count": 5,
   "metadata": {
    "colab": {
     "base_uri": "https://localhost:8080/"
    },
    "id": "r8G_C1gXsyAN",
    "outputId": "262261eb-244d-4474-a691-327b65903203"
   },
   "outputs": [
    {
     "name": "stdout",
     "output_type": "stream",
     "text": [
      "Model: \"sequential\"\n",
      "_________________________________________________________________\n",
      "Layer (type)                 Output Shape              Param #   \n",
      "=================================================================\n",
      "dense (Dense)                (None, 64)                4160      \n",
      "_________________________________________________________________\n",
      "dense_1 (Dense)              (None, 32)                2080      \n",
      "_________________________________________________________________\n",
      "dense_2 (Dense)              (None, 16)                528       \n",
      "_________________________________________________________________\n",
      "dropout (Dropout)            (None, 16)                0         \n",
      "_________________________________________________________________\n",
      "dense_3 (Dense)              (None, 1)                 17        \n",
      "=================================================================\n",
      "Total params: 6,785\n",
      "Trainable params: 6,785\n",
      "Non-trainable params: 0\n",
      "_________________________________________________________________\n",
      "None\n"
     ]
    }
   ],
   "source": [
    "np.random.seed(123)\n",
    "\n",
    "model = Sequential()\n",
    "model.add(Dense(L, input_shape=(L,), activation='relu'))\n",
    "model.add(Dense(L/2, activation='relu'))\n",
    "model.add(Dense(L/4, activation='relu'))\n",
    "model.add(Dropout(0.2))\n",
    "model.add(Dense(1, activation='sigmoid'))\n",
    "\n",
    "print(model.summary())"
   ]
  },
  {
   "cell_type": "markdown",
   "metadata": {},
   "source": [
    "We now compile our model using the binary cross entropy as loss function:\n",
    "$$\n",
    "H\\left(y,\\hat{y}\\right) = -y\\log\\hat{y} - (1-y)\\log\\left(1-\\hat{y}\\right)\n",
    "$$\n",
    "where $\\hat{y}$ is the true label and $y$ is the prediction. \n",
    "\n",
    "The gradient descent is performed over minibatches of size 50 and the optimizer is chosen to be ADAM The number of epochs is set at 30. The graphs below report the trends of loss function and accuracy."
   ]
  },
  {
   "cell_type": "code",
   "execution_count": 6,
   "metadata": {},
   "outputs": [
    {
     "name": "stdout",
     "output_type": "stream",
     "text": [
      "29/29 [==============================] - 0s 1ms/step - loss: 0.8292 - accuracy: 0.8000\n",
      "Test loss: 0.8291758298873901\n",
      "Test accuracy: 0.800000011920929\n"
     ]
    }
   ],
   "source": [
    "model.compile(loss='binary_crossentropy',\n",
    "              optimizer='ADAM',\n",
    "              metrics=['accuracy'])\n",
    "\n",
    "fit = model.fit(x_train, y_train,\n",
    "                epochs = 30,\n",
    "                batch_size = 50,\n",
    "                validation_data = (x_test, y_test),\n",
    "                shuffle = True,\n",
    "                verbose = 0\n",
    "               )\n",
    "\n",
    "score = model.evaluate(x_test, y_test, verbose=1)\n",
    "\n",
    "# print performance\n",
    "print('Test loss:', score[0])\n",
    "print('Test accuracy:', score[1])"
   ]
  },
  {
   "cell_type": "code",
   "execution_count": 7,
   "metadata": {
    "colab": {
     "base_uri": "https://localhost:8080/",
     "height": 592
    },
    "id": "pzo9_GFYsyAO",
    "outputId": "985f6fdc-362b-4bd3-efb0-f770ddbda505",
    "scrolled": false
   },
   "outputs": [
    {
     "data": {
      "image/png": "[encoded data removed]",
      "text/plain": [
       "<Figure size 432x288 with 1 Axes>"
      ]
     },
     "metadata": {
      "needs_background": "light"
     },
     "output_type": "display_data"
    },
    {
     "data": {
      "image/png": "[encoded data removed]",
      "text/plain": [
       "<Figure size 432x288 with 1 Axes>"
      ]
     },
     "metadata": {
      "needs_background": "light"
     },
     "output_type": "display_data"
    }
   ],
   "source": [
    "#Plot\n",
    "\n",
    "# accuracy\n",
    "plt.plot(fit.history['accuracy'])\n",
    "plt.plot(fit.history['val_accuracy'])\n",
    "plt.title('Accuracy vs epochs')\n",
    "plt.ylabel('model accuracy')\n",
    "plt.xlabel('epoch')\n",
    "plt.legend(['train', 'test'], loc='best')\n",
    "plt.grid()\n",
    "plt.show()\n",
    "# loss\n",
    "plt.plot(fit.history['loss'])\n",
    "plt.plot(fit.history['val_loss'])\n",
    "plt.title('Loss function vs epochs')\n",
    "plt.ylabel('model loss')\n",
    "plt.xlabel('epoch')\n",
    "plt.legend(['train', 'test'], loc='best')\n",
    "plt.grid()\n",
    "plt.show()"
   ]
  },
  {
   "cell_type": "markdown",
   "metadata": {},
   "source": [
    "As graphs above show, there is a clear overfitting phenomenon due to the small size of the training set with respect to the amount of parameters of the DNN. In fact, we notice that the training error decreases sistematically until reaching almost zero, while the test error diverges and at the end of the process is greatly different from the training one."
   ]
  },
  {
   "cell_type": "markdown",
   "metadata": {
    "id": "lOYpfFRssyAP"
   },
   "source": [
    "## Data augmentation"
   ]
  },
  {
   "cell_type": "markdown",
   "metadata": {},
   "source": [
    "Since the predictive power of our network is rather limited because of the small training set, the best solution would be to enlarge the among of training samples. Since we do not know the teorethical distribution of istances and we do not have access to more real data, we need to simulate an enlarged dataset. Given the nature of inputs, the optimal way to do it is to generate for each string other fifteen strings obtained by cyclic translations of the basis, like in the example below:\n",
    "\n",
    "$$\n",
    "\\mbox{ACGTACGTACGTACGT} \\rightarrow \\mbox{CGTACGTACGTACGTA} \\rightarrow \\mbox{GTACGTACGTACGTAC} \\ldots\n",
    "$$\n",
    "\n",
    "and assign to each generated sample the true label of the training data. This will eventually result in some additional error, since the patterns we are looking for in the original sequences will be broken in some of the shifted strings. On the other hand, also the number of good samples will be enlarged. Our purpose will eventually be the estimation of the most dominant of those behaviours.\n",
    "\n",
    "We start by defining a shifting function acting on original strings and proceed repeating all previous stemps on the same architecture with the new training set. "
   ]
  },
  {
   "cell_type": "code",
   "execution_count": 8,
   "metadata": {
    "id": "dJ0Rsn2YsyAP"
   },
   "outputs": [],
   "source": [
    "#one hot encoding\n",
    "\n",
    "sx_train = sx[:N_train]\n",
    "sx_train_augm = []\n",
    "y_train_augm = []\n",
    "\n",
    "def shifting(x, positions, label):\n",
    "    '''\n",
    "    \n",
    "    function that shifts our strings\n",
    "    \n",
    "    '''\n",
    "    shifted_x = []\n",
    "    shifted_y =  []\n",
    "    \n",
    "    shifted_x.append(x)\n",
    "    shifted_y.append(label)\n",
    "    \n",
    "    temp = x\n",
    "    \n",
    "    for j in range(positions):\n",
    "        temp = temp[-1:]+temp[:-1]\n",
    "        shifted_x.append(temp)\n",
    "        shifted_y.append(label)\n",
    "             \n",
    "    return shifted_x, shifted_y\n",
    "          \n",
    "position = 15       \n",
    "\n",
    "for i in range(len(sx_train)):\n",
    "    sx_train_augm += shifting(sx_train[i], position, y_train[i])[0]\n",
    "    y_train_augm += shifting(sx_train[i], position, y_train[i])[1]   "
   ]
  },
  {
   "cell_type": "code",
   "execution_count": 9,
   "metadata": {
    "id": "3tNY5w-gsyAQ"
   },
   "outputs": [],
   "source": [
    "N_augm = len(sx_train_augm)\n",
    "\n",
    "Q = ['A', 'C', 'G', 'T']\n",
    "Nc=4\n",
    "onehc={Q[i]: i for i in range(Nc)}\n",
    "\n",
    "y = sy.astype(int)\n",
    "L = Ls*Nc\n",
    "\n",
    "x_train_augm = np.zeros((N_augm, L))\n",
    "\n",
    "for n in range(N_augm):\n",
    "    for i in range(Ls):\n",
    "        x_train_augm[n][i*4 + onehc[sx_train_augm[n][i]]] = 1"
   ]
  },
  {
   "cell_type": "code",
   "execution_count": 10,
   "metadata": {
    "colab": {
     "base_uri": "https://localhost:8080/"
    },
    "id": "YLP68h2GsyAR",
    "outputId": "7a00d88e-6317-4d10-8908-418b6d732fd9",
    "scrolled": true
   },
   "outputs": [
    {
     "name": "stdout",
     "output_type": "stream",
     "text": [
      "Model: \"sequential_1\"\n",
      "_________________________________________________________________\n",
      "Layer (type)                 Output Shape              Param #   \n",
      "=================================================================\n",
      "dense_4 (Dense)              (None, 64)                4160      \n",
      "_________________________________________________________________\n",
      "dense_5 (Dense)              (None, 32)                2080      \n",
      "_________________________________________________________________\n",
      "dense_6 (Dense)              (None, 16)                528       \n",
      "_________________________________________________________________\n",
      "dropout_1 (Dropout)          (None, 16)                0         \n",
      "_________________________________________________________________\n",
      "dense_7 (Dense)              (None, 1)                 17        \n",
      "=================================================================\n",
      "Total params: 6,785\n",
      "Trainable params: 6,785\n",
      "Non-trainable params: 0\n",
      "_________________________________________________________________\n",
      "None\n"
     ]
    }
   ],
   "source": [
    "np.random.seed(123)\n",
    "\n",
    "model_aug = Sequential()\n",
    "model_aug.add(Dense(L, input_shape=(L,), activation='relu'))\n",
    "model_aug.add(Dense(L/2, activation='relu'))\n",
    "model_aug.add(Dense(L/4, activation='relu'))\n",
    "model_aug.add(Dropout(0.2))\n",
    "model_aug.add(Dense(1, activation='sigmoid'))\n",
    "\n",
    "print(model_aug.summary())"
   ]
  },
  {
   "cell_type": "code",
   "execution_count": 11,
   "metadata": {
    "colab": {
     "base_uri": "https://localhost:8080/"
    },
    "id": "suTjWrXPsyAS",
    "outputId": "82b28971-edf7-4cc9-c7c8-d820ec62e37f",
    "scrolled": false
   },
   "outputs": [
    {
     "name": "stdout",
     "output_type": "stream",
     "text": [
      "29/29 [==============================] - 0s 885us/step - loss: 0.3130 - accuracy: 0.8811\n",
      "Test loss: 0.31299930810928345\n",
      "Test accuracy: 0.8811110854148865\n"
     ]
    }
   ],
   "source": [
    "model_aug.compile(loss='binary_crossentropy',\n",
    "                  optimizer='ADAM',\n",
    "                  metrics=['accuracy']\n",
    "                  )\n",
    "\n",
    "\n",
    "fit_aug = model_aug.fit(np.asarray(x_train_augm),\n",
    "                        np.asarray(y_train_augm),\n",
    "                        epochs=30,\n",
    "                        batch_size=500,\n",
    "                        validation_data=(x_test, y_test),\n",
    "                        shuffle=True,\n",
    "                        verbose = 0                    \n",
    "                        )\n",
    "\n",
    "score = model_aug.evaluate(x_test, y_test, verbose=1)\n",
    "\n",
    "# print performance\n",
    "print('Test loss:', score[0])\n",
    "print('Test accuracy:', score[1])"
   ]
  },
  {
   "cell_type": "code",
   "execution_count": 12,
   "metadata": {
    "colab": {
     "base_uri": "https://localhost:8080/",
     "height": 592
    },
    "id": "uRqZcgmFsyAV",
    "outputId": "20174594-7344-4f1d-ac63-441afa4b2423"
   },
   "outputs": [
    {
     "name": "stderr",
     "output_type": "stream",
     "text": [
      "<ipython-input-12-95fb5bfb73cb>:53: UserWarning: Matplotlib is currently using module://ipykernel.pylab.backend_inline, which is a non-GUI backend, so cannot show the figure.\n",
      "  plt.show()\n"
     ]
    },
    {
     "data": {
      "image/png": "[encoded data removed]",
      "text/plain": [
       "<Figure size 720x720 with 2 Axes>"
      ]
     },
     "metadata": {
      "needs_background": "light"
     },
     "output_type": "display_data"
    }
   ],
   "source": [
    "# look into training history\n",
    "plt, ax = plt.subplots(2,1,figsize=(10,10))\n",
    "#accuracy\n",
    "ax[0].plot(fit_aug.history['accuracy'],\n",
    "         label='train accuracy (augmented data)',\n",
    "         c='red',\n",
    "         ls='--'\n",
    "        )\n",
    "ax[0].plot(fit_aug.history['val_accuracy'],\n",
    "         label='test accuracy (augmented data)',\n",
    "         c='red'\n",
    "        )\n",
    "ax[0].plot(fit.history['accuracy'],\n",
    "         label='train accuracy (non-augmented data)',\n",
    "         c='blue',\n",
    "         ls='--'\n",
    "        )\n",
    "ax[0].plot(fit.history['val_accuracy'],\n",
    "         label='test accuracy (non-augmented data)',\n",
    "         c='blue'\n",
    "         )\n",
    "ax[0].set_ylabel('Accuracy')\n",
    "ax[0].set_xlabel('epoch')\n",
    "ax[0].set_title('Accuracy vs epochs')\n",
    "ax[0].grid()\n",
    "ax[0].legend(bbox_to_anchor=(1.05, 1))\n",
    "\n",
    "#loss\n",
    "ax[1].plot(fit_aug.history['loss'],\n",
    "         label='train loss accuracy (augmented data)',\n",
    "         c='red',\n",
    "         ls='--'\n",
    "         )\n",
    "ax[1].plot(fit_aug.history['val_loss'],\n",
    "           label='test loss accuracy (augmented data)',\n",
    "           c='red'\n",
    "           )\n",
    "ax[1].plot(fit.history['loss'],\n",
    "           label='train loss accuracy (non-augmented data)',\n",
    "           c='blue',\n",
    "           ls='--'\n",
    "           )\n",
    "ax[1].plot(fit.history['val_loss'],\n",
    "           label='test loss accuracy (non-augmented data)',\n",
    "           c='blue'\n",
    "           )\n",
    "ax[1].set_ylabel('Loss')\n",
    "ax[1].set_ylabel('epoch')\n",
    "ax[1].set_title('Loss function vs epochs')\n",
    "ax[1].grid()\n",
    "ax[1].legend(bbox_to_anchor=(1.05, 1))\n",
    "\n",
    "plt.show()"
   ]
  },
  {
   "cell_type": "markdown",
   "metadata": {
    "id": "3czqgnydsyAX"
   },
   "source": [
    "As we can notice from the plot just above, enlarging the dataset helps us to avoid overfitting in 30 epochs and to achieve a higher test accuracy (in fact, the test and train results are closer at the end of the run). Therefore, we conclude that when enlarging the dataset, the prevalent effect is the increase in the number of useful training samples rather than the introduction of bad ones (label mistakenly associated). \n"
   ]
  },
  {
   "cell_type": "markdown",
   "metadata": {
    "id": "0_I1TgbisyAX"
   },
   "source": [
    "## Grid Search"
   ]
  },
  {
   "cell_type": "code",
   "execution_count": null,
   "metadata": {
    "id": "KNw-tnajsyAZ",
    "scrolled": false
   },
   "outputs": [],
   "source": [
    "# Function to create model, required for KerasClassifier\n",
    "def create_model(optimizer='RMSprop', activation='relu', dropout_rate=0.2):\n",
    "    # create model\n",
    "    model_grid = Sequential()\n",
    "    model_grid.add(Dense(L, input_shape=(L,), activation=activation))\n",
    "    model_grid.add(Dense(L/2, activation=activation))\n",
    "    model_grid.add(Dropout(dropout_rate))\n",
    "    model_grid.add(Dense(1, activation=activation))\n",
    "\n",
    "    model_grid.compile(loss='binary_crossentropy',\n",
    "                       optimizer=optimizer,\n",
    "                       metrics=['accuracy']\n",
    "                      )\n",
    "    return model_grid\n",
    " \n",
    "# create model \n",
    "model_gridsearch = KerasClassifier(build_fn=create_model, \n",
    "                        epochs=30, \n",
    "                        batch_size=800,\n",
    "                        verbose=0)\n",
    "\n",
    "# list of allowed optional arguments for the optimizer, see compile_model()\n",
    "optimizer = ['SGD', 'RMSprop', 'Adam']\n",
    "activation = ['relu', 'elu', 'sigmoid', 'tanh']\n",
    "dropout_rate = [0.1, 0.2, 0.3, 0.4, 0.5]\n",
    "\n",
    "# define parameter dictionary\n",
    "param_grid = dict(optimizer     = optimizer,\n",
    "                  dropout_rate  = dropout_rate,\n",
    "                  activation    = activation\n",
    "                 )\n",
    "# call scikit grid search module\n",
    "grid = GridSearchCV(estimator = model_gridsearch,\n",
    "                    param_grid = param_grid,\n",
    "                    n_jobs = 1,\n",
    "                    cv = 4,\n",
    "                    verbose=0)\n",
    "grid_result = grid.fit(np.asarray(x_train_augm),np.asarray(y_train_augm))"
   ]
  },
  {
   "cell_type": "code",
   "execution_count": null,
   "metadata": {
    "colab": {
     "base_uri": "https://localhost:8080/"
    },
    "id": "X4JzHWUlsyAa",
    "outputId": "3f8d50c4-213e-480a-beb5-cb096f7b9c18",
    "scrolled": true
   },
   "outputs": [],
   "source": [
    "# summarize results\n",
    "print(\"Best: %f using %s\" % (grid_result.best_score_, grid_result.best_params_))\n",
    "means = grid_result.cv_results_['mean_test_score']\n",
    "stds = grid_result.cv_results_['std_test_score']\n",
    "params = grid_result.cv_results_['params']\n",
    "for mean, stdev, param in zip(means, stds, params):\n",
    "    print(\"%f (%f) with: %r\" % (mean, stdev, param))"
   ]
  },
  {
   "cell_type": "markdown",
   "metadata": {
    "id": "J9HoL8G9syAb"
   },
   "source": [
    "## Rescale analysis"
   ]
  },
  {
   "cell_type": "code",
   "execution_count": null,
   "metadata": {
    "colab": {
     "base_uri": "https://localhost:8080/"
    },
    "id": "v6jLC-8nzLpw",
    "outputId": "a273328a-b3cb-4515-fcc2-135c4f2f5a9f"
   },
   "outputs": [],
   "source": [
    "mean = x_train_augm.mean()\n",
    "stdev = x_train_augm.std()\n",
    "\n",
    "x_train_augm = (x_train_augm - mean)/stdev #TO CHECK!\n",
    "print('mean', x_train_augm.mean())\n",
    "print('stdev', x_train_augm.std())"
   ]
  },
  {
   "cell_type": "code",
   "execution_count": null,
   "metadata": {
    "colab": {
     "base_uri": "https://localhost:8080/"
    },
    "id": "kwicvmvfsyAd",
    "outputId": "c882c675-5c22-4ad0-d282-1ef14d036329"
   },
   "outputs": [],
   "source": [
    "final_model = create_model(optimizer='RMSprop', activation='relu', dropout_rate=0.2) #Best model from GridSearch\n",
    "print(final_model.summary())"
   ]
  },
  {
   "cell_type": "code",
   "execution_count": null,
   "metadata": {
    "colab": {
     "base_uri": "https://localhost:8080/",
     "height": 593
    },
    "id": "wMYuPpU0syAd",
    "outputId": "66149175-9ab4-4742-9844-723ef58afd60",
    "scrolled": true
   },
   "outputs": [],
   "source": [
    "fit_final_model = final_model.fit(np.asarray(x_train_augm), np.asarray(y_train_augm),\n",
    "                                  epochs = 30,\n",
    "                                  batch_size=800,\n",
    "                                  validation_data = (x_test, y_test),\n",
    "                                  shuffle = True,\n",
    "                                  verbose = 0                          \n",
    "                                  )\n",
    "\n",
    "score = final_model.evaluate(x_test, y_test, verbose=0)\n",
    "\n",
    "# print performance\n",
    "print()\n",
    "print('Test loss:', score[0])\n",
    "print('Test accuracy:', score[1])\n",
    "\n",
    "# accuracy\n",
    "plt.plot(fit_final_model.history['accuracy'])\n",
    "plt.plot(fit_final_model.history['val_accuracy'])\n",
    "plt.ylabel('model accuracy')\n",
    "plt.xlabel('epoch')\n",
    "plt.legend(['train', 'test'], loc='best')\n",
    "plt.show()\n",
    "# loss\n",
    "plt.plot(fit_final_model.history['loss'])\n",
    "plt.plot(fit_final_model.history['val_loss'])\n",
    "plt.ylabel('model loss')\n",
    "plt.xlabel('epoch')\n",
    "plt.legend(['train', 'test'], loc='best')\n",
    "plt.show()"
   ]
  },
  {
   "cell_type": "markdown",
   "metadata": {
    "id": "NKrtVsOesyAd"
   },
   "source": [
    "## Appendix"
   ]
  },
  {
   "cell_type": "code",
   "execution_count": null,
   "metadata": {
    "id": "uom_i5_Ty4DE"
   },
   "outputs": [],
   "source": [
    "# Trials with different shifts"
   ]
  },
  {
   "cell_type": "code",
   "execution_count": null,
   "metadata": {
    "id": "rhRhJu8WsyAe"
   },
   "outputs": [],
   "source": [
    "shifting_list = [3, 7, 11, 15]\n",
    "\n",
    "def shifting(x, positions, label):\n",
    "    #function that shifts our strings\n",
    "    shifted_x = []\n",
    "    shifted_y =  []\n",
    "    \n",
    "    shifted_x.append(x)\n",
    "    shifted_y.append(label)\n",
    "    \n",
    "    temp = x\n",
    "    \n",
    "    for j in range(positions):\n",
    "        temp = temp[-1:]+temp[:-1]\n",
    "        shifted_x.append(temp)\n",
    "        shifted_y.append(label)\n",
    "             \n",
    "    return shifted_x, shifted_y\n",
    "\n",
    "for shift in shifting_list:\n",
    "    \n",
    "    temp_x = []\n",
    "    temp_y = []\n",
    "    \n",
    "    for i in range(len(sx_train)):\n",
    "        temp_x += shifting(sx_train[i], shift, y_train[i])[0]\n",
    "        temp_y += shifting(sx_train[i], shift, y_train[i])[1] \n",
    "    if shift == 3:\n",
    "        sx_train_4 = temp_x\n",
    "        y_train_4 = temp_y \n",
    "    if shift == 7:\n",
    "        sx_train_8 = temp_x\n",
    "        y_train_8  = temp_y \n",
    "    if shift == 11:\n",
    "        sx_train_12 = temp_x\n",
    "        y_train_12 = temp_y \n",
    "    if shift == 15:\n",
    "        sx_train_16 = temp_x\n",
    "        y_train_16 = temp_y "
   ]
  },
  {
   "cell_type": "code",
   "execution_count": null,
   "metadata": {
    "colab": {
     "base_uri": "https://localhost:8080/"
    },
    "id": "nnIozeplsyAg",
    "outputId": "16c2df5c-750e-4887-b103-5e2842f766f2"
   },
   "outputs": [],
   "source": [
    "np.random.seed(123)\n",
    "\n",
    "model_shift = Sequential()\n",
    "model_shift.add(Dense(L, input_shape=(L,), activation='relu'))\n",
    "model_shift.add(Dense(L/2, activation='relu'))\n",
    "model_shift.add(Dense(L/4, activation='relu'))\n",
    "model_shift.add(Dropout(0.2))\n",
    "model_shift.add(Dense(1, activation='sigmoid'))\n",
    "\n",
    "print(model_shift.summary())"
   ]
  },
  {
   "cell_type": "code",
   "execution_count": null,
   "metadata": {
    "colab": {
     "base_uri": "https://localhost:8080/",
     "height": 232
    },
    "id": "_ciwVP2UsyAg",
    "outputId": "fc53b94d-89a6-4b12-a13f-6823da30cf2b",
    "scrolled": false
   },
   "outputs": [],
   "source": [
    "fig, ax = plt.subplots(2,1, figsize=(10,10))\n",
    "\n",
    "model_shift.compile(loss='binary_crossentropy',\n",
    "                    optimizer='ADAM',\n",
    "                    metrics=['accuracy'])\n",
    "\n",
    "shifted_x_list = [sx_train_4, sx_train_8, sx_train_12, sx_train_16]\n",
    "shifted_y_list = [y_train_4, y_train_8, y_train_12, y_train_16]\n",
    "batch_size = [100, 300, 500, 800]\n",
    "color = ['red', 'blue', 'green', 'orange']\n",
    "\n",
    "\n",
    "for i in range(len(shifted_x_list)):\n",
    "    \n",
    "    x_train = np.zeros((len(shifted_x_list[i]), L))\n",
    "    \n",
    "    for j in range(len(shifted_x_list[i])):\n",
    "        for k in range(Ls):\n",
    "            x_train[j][k*4 + onehc[shifted_x_list[i][j][k]]] = 1 #for every step in string you jump of 4 i the autoencpding\n",
    "\n",
    "    fit_shift = model_shift.fit(np.asarray(x_train), np.asarray(shifted_y_list[i]),\n",
    "                   epochs=30, batch_size=batch_size[i],\n",
    "                   validation_data=(x_test, y_test),\n",
    "                   shuffle=True, #changes composition of mini batch                                \n",
    "                   verbose=0)\n",
    "\n",
    "    score = model_shift.evaluate(x_test, y_test, verbose=0)\n",
    "\n",
    "    # print performance\n",
    "    print()\n",
    "    print('Test loss:', score[0])\n",
    "    print('Test accuracy:', score[1])\n",
    "    \n",
    "    final = str(shifting_list[i]+1) + ' shift'\n",
    "    final_2 = str(shifting_list[i]+1) + ' shift'\n",
    "    ax[0].plot(fit_shift.history['val_accuracy'],\n",
    "               label=final,\n",
    "               c=color[i]\n",
    "               )\n",
    "    ax[0].set_title('Accuracy on different datasets vs epochs')\n",
    "    ax[0].set_ylabel('Accuracy')\n",
    "    ax[0].set_xlabel('epoch')\n",
    "    ax[0].legend(bbox_to_anchor=(1.05, 1))\n",
    "    ax[0].set_ylim(0.7,0.9)\n",
    "\n",
    "    # summarize history for loss\n",
    "    ax[1].plot(fit_shift.history['val_loss'],\n",
    "               label=final_2,\n",
    "               c=color[i])\n",
    "    ax[1].set_title('Loss on different datasets vs epochs')\n",
    "    ax[1].set_ylabel('Loss')\n",
    "    ax[1].set_xlabel('epoch')\n",
    "    ax[1].legend(bbox_to_anchor=(1.05, 1))\n",
    "    ax[1].set_ylim(0.2,0.7)"
   ]
  },
  {
   "cell_type": "markdown",
   "metadata": {
    "id": "eHvwwJIIsyAh"
   },
   "source": [
    "aumentare del dataset è meno determinante.\n",
    "Diminuendo il numero di shifts, l'assegnazione sbagliata delle etichettte è sempre più determinante. Definire bene cos'è uno shift"
   ]
  }
 ],
 "metadata": {
  "accelerator": "TPU",
  "colab": {
   "collapsed_sections": [],
   "name": "LoCPdown_exercise2.ipynb",
   "provenance": []
  },
  "kernelspec": {
   "display_name": "Python 3",
   "language": "python",
   "name": "python3"
  },
  "language_info": {
   "codemirror_mode": {
    "name": "ipython",
    "version": 3
   },
   "file_extension": ".py",
   "mimetype": "text/x-python",
   "name": "python",
   "nbconvert_exporter": "python",
   "pygments_lexer": "ipython3",
   "version": "3.8.8"
  }
 },
 "nbformat": 4,
 "nbformat_minor": 1
}
