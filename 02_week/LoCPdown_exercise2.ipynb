{
  "nbformat": 4,
  "nbformat_minor": 0,
  "metadata": {
    "kernelspec": {
      "display_name": "Python 3",
      "language": "python",
      "name": "python3"
    },
    "language_info": {
      "codemirror_mode": {
        "name": "ipython",
        "version": 3
      },
      "file_extension": ".py",
      "mimetype": "text/x-python",
      "name": "python",
      "nbconvert_exporter": "python",
      "pygments_lexer": "ipython3",
      "version": "3.8.6"
    },
    "colab": {
      "name": "LoCPdown_exercise2.ipynb",
      "provenance": [],
      "collapsed_sections": []
    },
    "accelerator": "TPU"
  },
  "cells": [
    {
      "cell_type": "code",
      "metadata": {
        "colab": {
          "resources": {
            "http://localhost:8080/nbextensions/google.colab/files.js": {
              "data": "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",
              "ok": true,
              "headers": [
                [
                  "content-type",
                  "application/javascript"
                ]
              ],
              "status": 200,
              "status_text": ""
            }
          },
          "base_uri": "https://localhost:8080/",
          "height": 73
        },
        "id": "5j-krQcXsx__",
        "outputId": "967cd3e1-c0b6-4c6f-cb03-486fa8d2a8a8"
      },
      "source": [
        "import time\n",
        "import math\n",
        "import numpy as np\n",
        "from matplotlib import pyplot as plt\n",
        "\n",
        "from sklearn.model_selection import GridSearchCV\n",
        "\n",
        "from tensorflow import keras\n",
        "from tensorflow.keras.models import Sequential\n",
        "from tensorflow.keras.layers import Dense, Dropout\n",
        "from tensorflow.keras.optimizers import SGD\n",
        "from tensorflow.keras.wrappers.scikit_learn import KerasClassifier\n",
        "\n",
        "from google.colab import files\n",
        "\n",
        "#importing the file of sequences\n",
        "uploaded_files = files.upload()\n",
        "fname = open('sequences16.csv', 'r')"
      ],
      "execution_count": 1,
      "outputs": [
        {
          "output_type": "display_data",
          "data": {
            "text/html": [
              "\n",
              "     <input type=\"file\" id=\"files-70352ce4-c821-43c0-8f82-def2414967b4\" name=\"files[]\" multiple disabled\n",
              "        style=\"border:none\" />\n",
              "     <output id=\"result-70352ce4-c821-43c0-8f82-def2414967b4\">\n",
              "      Upload widget is only available when the cell has been executed in the\n",
              "      current browser session. Please rerun this cell to enable.\n",
              "      </output>\n",
              "      <script src=\"/nbextensions/google.colab/files.js\"></script> "
            ],
            "text/plain": [
              "<IPython.core.display.HTML object>"
            ]
          },
          "metadata": {
            "tags": []
          }
        },
        {
          "output_type": "stream",
          "text": [
            "Saving sequences16.csv to sequences16.csv\n"
          ],
          "name": "stdout"
        }
      ]
    },
    {
      "cell_type": "code",
      "metadata": {
        "colab": {
          "base_uri": "https://localhost:8080/"
        },
        "id": "dASmggA9syAI",
        "outputId": "c1428482-c607-43db-e37f-98d0e7c67ca7"
      },
      "source": [
        "sx, sy = np.loadtxt(fname,\n",
        "                    delimiter=',',\n",
        "                    usecols=(0,1),\n",
        "                    unpack=True,\n",
        "                    dtype=str\n",
        "                    )\n",
        "N=len(sy)\n",
        "Ls=len(sx[0])\n",
        "\n",
        "perc_train=0.7\n",
        "N_train= int(N*perc_train)\n",
        "N_test = N-N_train\n",
        "\n",
        "print('Original dataset composition:\\n')\n",
        "print(f'\\ndata: {N}\\ntrain: {N_train}\\ntest: {N_test}')"
      ],
      "execution_count": 2,
      "outputs": [
        {
          "output_type": "stream",
          "text": [
            "Original dataset composition:\n",
            "\n",
            "\n",
            "data: 3000\n",
            "train: 2100\n",
            "test: 900\n"
          ],
          "name": "stdout"
        }
      ]
    },
    {
      "cell_type": "code",
      "metadata": {
        "id": "BJV6oE4wsyAM"
      },
      "source": [
        "#one hot encoding\n",
        "Q = ['A', 'C', 'G', 'T']\n",
        "Nc=4\n",
        "onehc={Q[i]: i for i in range(Nc)}\n",
        "\n",
        "y = sy.astype(int)\n",
        "L = Ls*Nc\n",
        "\n",
        "x = np.zeros((N, L))\n",
        "\n",
        "for n in range(N):\n",
        "    for i in range(Ls):\n",
        "        x[n][i*4 + onehc[sx[n][i]]] = 1 "
      ],
      "execution_count": 3,
      "outputs": []
    },
    {
      "cell_type": "markdown",
      "metadata": {
        "id": "p0uw698OsyAM"
      },
      "source": [
        "## Point 1"
      ]
    },
    {
      "cell_type": "code",
      "metadata": {
        "colab": {
          "base_uri": "https://localhost:8080/"
        },
        "id": "MjBbymjXsyAN",
        "outputId": "1ec5904b-044f-4bbe-a519-69d93fb8dba2"
      },
      "source": [
        "x_train, y_train = x[:N_train], y[:N_train]\n",
        "x_test, y_test = x[N_train:], y[N_train:]\n",
        "\n",
        "score_train = y_train.sum()/len(y_train)\n",
        "score_test = y_test.sum()/len(y_test)\n",
        "print(score_train, score_test)"
      ],
      "execution_count": 4,
      "outputs": [
        {
          "output_type": "stream",
          "text": [
            "0.24714285714285714 0.24444444444444444\n"
          ],
          "name": "stdout"
        }
      ]
    },
    {
      "cell_type": "code",
      "metadata": {
        "colab": {
          "base_uri": "https://localhost:8080/"
        },
        "id": "r8G_C1gXsyAN",
        "outputId": "262261eb-244d-4474-a691-327b65903203"
      },
      "source": [
        "np.random.seed(123)\n",
        "\n",
        "model = Sequential()\n",
        "model.add(Dense(L, input_shape=(L,), activation='relu'))\n",
        "model.add(Dense(L/2, activation='relu'))\n",
        "model.add(Dense(L/4, activation='relu'))\n",
        "model.add(Dropout(0.2))\n",
        "model.add(Dense(1, activation='sigmoid'))\n",
        "\n",
        "print(model.summary())"
      ],
      "execution_count": 5,
      "outputs": [
        {
          "output_type": "stream",
          "text": [
            "Model: \"sequential\"\n",
            "_________________________________________________________________\n",
            "Layer (type)                 Output Shape              Param #   \n",
            "=================================================================\n",
            "dense (Dense)                (None, 64)                4160      \n",
            "_________________________________________________________________\n",
            "dense_1 (Dense)              (None, 32)                2080      \n",
            "_________________________________________________________________\n",
            "dense_2 (Dense)              (None, 16)                528       \n",
            "_________________________________________________________________\n",
            "dropout (Dropout)            (None, 16)                0         \n",
            "_________________________________________________________________\n",
            "dense_3 (Dense)              (None, 1)                 17        \n",
            "=================================================================\n",
            "Total params: 6,785\n",
            "Trainable params: 6,785\n",
            "Non-trainable params: 0\n",
            "_________________________________________________________________\n",
            "None\n"
          ],
          "name": "stdout"
        }
      ]
    },
    {
      "cell_type": "code",
      "metadata": {
        "scrolled": false,
        "colab": {
          "base_uri": "https://localhost:8080/",
          "height": 592
        },
        "id": "pzo9_GFYsyAO",
        "outputId": "985f6fdc-362b-4bd3-efb0-f770ddbda505"
      },
      "source": [
        "model.compile(loss='binary_crossentropy',\n",
        "              optimizer='ADAM',\n",
        "              metrics=['accuracy'])\n",
        "\n",
        "fit = model.fit(x_train, y_train,\n",
        "                epochs = 30,\n",
        "                batch_size = 50,\n",
        "                validation_data = (x_test, y_test),\n",
        "                shuffle = True,\n",
        "                verbose = 0\n",
        "               )\n",
        "\n",
        "score = model.evaluate(x_test, y_test, verbose=1)\n",
        "\n",
        "# print performance\n",
        "print('Test loss:', score[0])\n",
        "print('Test accuracy:', score[1])\n",
        "\n",
        "# accuracy\n",
        "plt.plot(fit.history['accuracy'])\n",
        "plt.plot(fit.history['val_accuracy'])\n",
        "plt.ylabel('model accuracy')\n",
        "plt.xlabel('epoch')\n",
        "plt.legend(['train', 'test'], loc='best')\n",
        "plt.show()\n",
        "# loss\n",
        "plt.plot(fit.history['loss'])\n",
        "plt.plot(fit.history['val_loss'])\n",
        "plt.ylabel('model loss')\n",
        "plt.xlabel('epoch')\n",
        "plt.legend(['train', 'test'], loc='best')\n",
        "plt.show()"
      ],
      "execution_count": 6,
      "outputs": [
        {
          "output_type": "stream",
          "text": [
            "29/29 [==============================] - 0s 1ms/step - loss: 0.9807 - accuracy: 0.7989\n",
            "Test loss: 0.9807488322257996\n",
            "Test accuracy: 0.7988888621330261\n"
          ],
          "name": "stdout"
        },
        {
          "output_type": "display_data",
          "data": {
            "image/png": "[encoded data removed]",
            "text/plain": [
              "<Figure size 432x288 with 1 Axes>"
            ]
          },
          "metadata": {
            "tags": [],
            "needs_background": "light"
          }
        },
        {
          "output_type": "display_data",
          "data": {
            "image/png": "[encoded data removed]",
            "text/plain": [
              "<Figure size 432x288 with 1 Axes>"
            ]
          },
          "metadata": {
            "tags": [],
            "needs_background": "light"
          }
        }
      ]
    },
    {
      "cell_type": "markdown",
      "metadata": {
        "id": "lOYpfFRssyAP"
      },
      "source": [
        "## Data augmentation"
      ]
    },
    {
      "cell_type": "code",
      "metadata": {
        "id": "dJ0Rsn2YsyAP"
      },
      "source": [
        "#one hot encoding\n",
        "\n",
        "sx_train = sx[:N_train]\n",
        "sx_train_augm = []\n",
        "y_train_augm = []\n",
        "\n",
        "def shifting(x, positions, label):\n",
        "    '''\n",
        "    \n",
        "    function that shifts our srings\n",
        "    \n",
        "    '''\n",
        "    shifted_x = []\n",
        "    shifted_y =  []\n",
        "    \n",
        "    shifted_x.append(x)\n",
        "    shifted_y.append(label)\n",
        "    \n",
        "    temp = x\n",
        "    \n",
        "    for j in range(positions):\n",
        "        temp = temp[-1:]+temp[:-1]\n",
        "        shifted_x.append(temp)\n",
        "        shifted_y.append(label)\n",
        "             \n",
        "    return shifted_x, shifted_y\n",
        "          \n",
        "position = 15       \n",
        "\n",
        "for i in range(len(sx_train)):\n",
        "    sx_train_augm += shifting(sx_train[i], position, y_train[i])[0]\n",
        "    y_train_augm += shifting(sx_train[i], position, y_train[i])[1]   "
      ],
      "execution_count": 7,
      "outputs": []
    },
    {
      "cell_type": "code",
      "metadata": {
        "id": "3tNY5w-gsyAQ"
      },
      "source": [
        "N_augm = len(sx_train_augm)\n",
        "\n",
        "Q = ['A', 'C', 'G', 'T']\n",
        "Nc=4\n",
        "onehc={Q[i]: i for i in range(Nc)}\n",
        "\n",
        "y = sy.astype(int)\n",
        "L = Ls*Nc\n",
        "\n",
        "x_train_augm = np.zeros((N_augm, L))\n",
        "\n",
        "for n in range(N_augm):\n",
        "    for i in range(Ls):\n",
        "        x_train_augm[n][i*4 + onehc[sx_train_augm[n][i]]] = 1"
      ],
      "execution_count": 8,
      "outputs": []
    },
    {
      "cell_type": "code",
      "metadata": {
        "scrolled": true,
        "colab": {
          "base_uri": "https://localhost:8080/"
        },
        "id": "YLP68h2GsyAR",
        "outputId": "7a00d88e-6317-4d10-8908-418b6d732fd9"
      },
      "source": [
        "np.random.seed(123)\n",
        "\n",
        "model_aug = Sequential()\n",
        "model_aug.add(Dense(L, input_shape=(L,), activation='relu'))\n",
        "model_aug.add(Dense(L/2, activation='relu'))\n",
        "model_aug.add(Dense(L/4, activation='relu'))\n",
        "model_aug.add(Dropout(0.2))\n",
        "model_aug.add(Dense(1, activation='sigmoid'))\n",
        "\n",
        "print(model_aug.summary())"
      ],
      "execution_count": 9,
      "outputs": [
        {
          "output_type": "stream",
          "text": [
            "Model: \"sequential_1\"\n",
            "_________________________________________________________________\n",
            "Layer (type)                 Output Shape              Param #   \n",
            "=================================================================\n",
            "dense_4 (Dense)              (None, 64)                4160      \n",
            "_________________________________________________________________\n",
            "dense_5 (Dense)              (None, 32)                2080      \n",
            "_________________________________________________________________\n",
            "dense_6 (Dense)              (None, 16)                528       \n",
            "_________________________________________________________________\n",
            "dropout_1 (Dropout)          (None, 16)                0         \n",
            "_________________________________________________________________\n",
            "dense_7 (Dense)              (None, 1)                 17        \n",
            "=================================================================\n",
            "Total params: 6,785\n",
            "Trainable params: 6,785\n",
            "Non-trainable params: 0\n",
            "_________________________________________________________________\n",
            "None\n"
          ],
          "name": "stdout"
        }
      ]
    },
    {
      "cell_type": "code",
      "metadata": {
        "scrolled": false,
        "colab": {
          "base_uri": "https://localhost:8080/"
        },
        "id": "suTjWrXPsyAS",
        "outputId": "82b28971-edf7-4cc9-c7c8-d820ec62e37f"
      },
      "source": [
        "model_aug.compile(loss='binary_crossentropy',\n",
        "                  optimizer='ADAM',\n",
        "                  metrics=['accuracy']\n",
        "                  )\n",
        "\n",
        "\n",
        "fit_aug = model_aug.fit(np.asarray(x_train_augm),\n",
        "                        np.asarray(y_train_augm),\n",
        "                        epochs=30,\n",
        "                        batch_size=500,\n",
        "                        validation_data=(x_test, y_test),\n",
        "                        shuffle=True,\n",
        "                        verbose = 0                    \n",
        "                        )\n",
        "\n",
        "score = model_aug.evaluate(x_test, y_test, verbose=1)\n",
        "\n",
        "# print performance\n",
        "print('Test loss:', score[0])\n",
        "print('Test accuracy:', score[1])"
      ],
      "execution_count": 10,
      "outputs": [
        {
          "output_type": "stream",
          "text": [
            "29/29 [==============================] - 0s 1ms/step - loss: 0.2808 - accuracy: 0.8956\n",
            "Test loss: 0.2807908356189728\n",
            "Test accuracy: 0.8955555558204651\n"
          ],
          "name": "stdout"
        }
      ]
    },
    {
      "cell_type": "code",
      "metadata": {
        "colab": {
          "base_uri": "https://localhost:8080/",
          "height": 592
        },
        "id": "uRqZcgmFsyAV",
        "outputId": "20174594-7344-4f1d-ac63-441afa4b2423"
      },
      "source": [
        "# look into training history\n",
        "plt, ax = plt.subplots(2,1,figsize=(10,10))\n",
        "#accuracy\n",
        "ax[0].plot(fit_aug.history['accuracy'],\n",
        "         label='train accuracy (augmented data)',\n",
        "         c='red',\n",
        "         ls='--'\n",
        "        )\n",
        "ax[0].plot(fit_aug.history['val_accuracy'],\n",
        "         label='test accuracy (augmented data)',\n",
        "         c='red'\n",
        "        )\n",
        "ax[0].plot(fit.history['accuracy'],\n",
        "         label='train accuracy (non-augmented data)',\n",
        "         c='blue',\n",
        "         ls='--'\n",
        "        )\n",
        "ax[0].plot(fit.history['val_accuracy'],\n",
        "         label='test accuracy (non-augmented data)',\n",
        "         c='blue'\n",
        "         )\n",
        "ax[0].set_ylabel('Accuracy')\n",
        "ax[0].set_xlabel('epoch')\n",
        "ax[0].legend(bbox_to_anchor=(1.05, 1))\n",
        "\n",
        "#loss\n",
        "ax[1].plot(fit_aug.history['loss'],\n",
        "         label='train loss accuracy (augmented data)',\n",
        "         c='red',\n",
        "         ls='--'\n",
        "         )\n",
        "ax[1].plot(fit_aug.history['val_loss'],\n",
        "           label='test loss accuracy (augmented data)',\n",
        "           c='red'\n",
        "           )\n",
        "ax[1].plot(fit.history['loss'],\n",
        "           label='train loss accuracy (non-augmented data)',\n",
        "           c='blue',\n",
        "           ls='--'\n",
        "           )\n",
        "ax[1].plot(fit.history['val_loss'],\n",
        "           label='test loss accuracy (non-augmented data)',\n",
        "           c='blue'\n",
        "           )\n",
        "ax[1].set_ylabel('Loss')\n",
        "ax[1].set_ylabel('epoch')\n",
        "ax[1].legend(bbox_to_anchor=(1.05, 1))\n",
        "\n",
        "plt.show()"
      ],
      "execution_count": 11,
      "outputs": [
        {
          "output_type": "display_data",
          "data": {
            "image/png": "[encoded data removed]",
            "text/plain": [
              "<Figure size 720x720 with 2 Axes>"
            ]
          },
          "metadata": {
            "tags": [],
            "needs_background": "light"
          }
        }
      ]
    },
    {
      "cell_type": "markdown",
      "metadata": {
        "id": "3czqgnydsyAX"
      },
      "source": [
        "As we can notice from the plot just above, enlarging the dataset helps us to avoid overfitting in 30 epochs and to achieve a higher test accuracy. When enlarging the dataset, the prevalent effect is the increase in the number of useful training samples, rather than the introduction of bad ones (label mistakenly associated). \n"
      ]
    },
    {
      "cell_type": "markdown",
      "metadata": {
        "id": "0_I1TgbisyAX"
      },
      "source": [
        "## Grid Search"
      ]
    },
    {
      "cell_type": "code",
      "metadata": {
        "scrolled": false,
        "id": "KNw-tnajsyAZ"
      },
      "source": [
        "# Function to create model, required for KerasClassifier\n",
        "def create_model(optimizer='RMSprop', activation='relu', dropout_rate=0.2):\n",
        "    # create model\n",
        "    model_grid = Sequential()\n",
        "    model_grid.add(Dense(L, input_shape=(L,), activation=activation))\n",
        "    model_grid.add(Dense(L/2, activation=activation))\n",
        "    model_grid.add(Dropout(dropout_rate))\n",
        "    model_grid.add(Dense(1, activation=activation))\n",
        "\n",
        "    model_grid.compile(loss='binary_crossentropy',\n",
        "                       optimizer=optimizer,\n",
        "                       metrics=['accuracy']\n",
        "                      )\n",
        "    return model_grid\n",
        " \n",
        "# create model \n",
        "model_gridsearch = KerasClassifier(build_fn=create_model, \n",
        "                        epochs=30, \n",
        "                        batch_size=800,\n",
        "                        verbose=0)\n",
        "\n",
        "# list of allowed optional arguments for the optimizer, see compile_model()\n",
        "optimizer = ['SGD', 'RMSprop', 'Adam']\n",
        "activation = ['relu', 'elu', 'sigmoid', 'tanh']\n",
        "dropout_rate = [0.1, 0.2, 0.3, 0.4, 0.5]\n",
        "\n",
        "# define parameter dictionary\n",
        "param_grid = dict(optimizer     = optimizer,\n",
        "                  dropout_rate  = dropout_rate,\n",
        "                  activation    = activation\n",
        "                 )\n",
        "# call scikit grid search module\n",
        "grid = GridSearchCV(estimator = model_gridsearch,\n",
        "                    param_grid = param_grid,\n",
        "                    n_jobs = 1,\n",
        "                    cv = 4,\n",
        "                    verbose=0)\n",
        "grid_result = grid.fit(np.asarray(x_train_augm),np.asarray(y_train_augm))"
      ],
      "execution_count": 12,
      "outputs": []
    },
    {
      "cell_type": "code",
      "metadata": {
        "scrolled": true,
        "colab": {
          "base_uri": "https://localhost:8080/"
        },
        "id": "X4JzHWUlsyAa",
        "outputId": "3f8d50c4-213e-480a-beb5-cb096f7b9c18"
      },
      "source": [
        "# summarize results\n",
        "print(\"Best: %f using %s\" % (grid_result.best_score_, grid_result.best_params_))\n",
        "means = grid_result.cv_results_['mean_test_score']\n",
        "stds = grid_result.cv_results_['std_test_score']\n",
        "params = grid_result.cv_results_['params']\n",
        "for mean, stdev, param in zip(means, stds, params):\n",
        "    print(\"%f (%f) with: %r\" % (mean, stdev, param))"
      ],
      "execution_count": 13,
      "outputs": [
        {
          "output_type": "stream",
          "text": [
            "Best: 0.840030 using {'activation': 'relu', 'dropout_rate': 0.2, 'optimizer': 'RMSprop'}\n",
            "0.629018 (0.220523) with: {'activation': 'relu', 'dropout_rate': 0.1, 'optimizer': 'SGD'}\n",
            "0.836399 (0.008074) with: {'activation': 'relu', 'dropout_rate': 0.1, 'optimizer': 'RMSprop'}\n",
            "0.789851 (0.017333) with: {'activation': 'relu', 'dropout_rate': 0.1, 'optimizer': 'Adam'}\n",
            "0.756071 (0.012330) with: {'activation': 'relu', 'dropout_rate': 0.2, 'optimizer': 'SGD'}\n",
            "0.840030 (0.010359) with: {'activation': 'relu', 'dropout_rate': 0.2, 'optimizer': 'RMSprop'}\n",
            "0.788095 (0.017588) with: {'activation': 'relu', 'dropout_rate': 0.2, 'optimizer': 'Adam'}\n",
            "0.753155 (0.012070) with: {'activation': 'relu', 'dropout_rate': 0.3, 'optimizer': 'SGD'}\n",
            "0.828780 (0.011938) with: {'activation': 'relu', 'dropout_rate': 0.3, 'optimizer': 'RMSprop'}\n",
            "0.787470 (0.023982) with: {'activation': 'relu', 'dropout_rate': 0.3, 'optimizer': 'Adam'}\n",
            "0.752827 (0.012216) with: {'activation': 'relu', 'dropout_rate': 0.4, 'optimizer': 'SGD'}\n",
            "0.826190 (0.012440) with: {'activation': 'relu', 'dropout_rate': 0.4, 'optimizer': 'RMSprop'}\n",
            "0.777113 (0.021971) with: {'activation': 'relu', 'dropout_rate': 0.4, 'optimizer': 'Adam'}\n",
            "0.618363 (0.224078) with: {'activation': 'relu', 'dropout_rate': 0.5, 'optimizer': 'SGD'}\n",
            "0.817292 (0.009674) with: {'activation': 'relu', 'dropout_rate': 0.5, 'optimizer': 'RMSprop'}\n",
            "0.767946 (0.017654) with: {'activation': 'relu', 'dropout_rate': 0.5, 'optimizer': 'Adam'}\n",
            "0.754524 (0.014985) with: {'activation': 'elu', 'dropout_rate': 0.1, 'optimizer': 'SGD'}\n",
            "0.771071 (0.017725) with: {'activation': 'elu', 'dropout_rate': 0.1, 'optimizer': 'RMSprop'}\n",
            "0.756280 (0.022247) with: {'activation': 'elu', 'dropout_rate': 0.1, 'optimizer': 'Adam'}\n",
            "0.740149 (0.034291) with: {'activation': 'elu', 'dropout_rate': 0.2, 'optimizer': 'SGD'}\n",
            "0.764137 (0.018428) with: {'activation': 'elu', 'dropout_rate': 0.2, 'optimizer': 'RMSprop'}\n",
            "0.704048 (0.021020) with: {'activation': 'elu', 'dropout_rate': 0.2, 'optimizer': 'Adam'}\n",
            "0.752857 (0.012150) with: {'activation': 'elu', 'dropout_rate': 0.3, 'optimizer': 'SGD'}\n",
            "0.762976 (0.017600) with: {'activation': 'elu', 'dropout_rate': 0.3, 'optimizer': 'RMSprop'}\n",
            "0.734940 (0.011550) with: {'activation': 'elu', 'dropout_rate': 0.3, 'optimizer': 'Adam'}\n",
            "0.625714 (0.219728) with: {'activation': 'elu', 'dropout_rate': 0.4, 'optimizer': 'SGD'}\n",
            "0.761786 (0.015531) with: {'activation': 'elu', 'dropout_rate': 0.4, 'optimizer': 'RMSprop'}\n",
            "0.753958 (0.010454) with: {'activation': 'elu', 'dropout_rate': 0.4, 'optimizer': 'Adam'}\n",
            "0.752827 (0.012146) with: {'activation': 'elu', 'dropout_rate': 0.5, 'optimizer': 'SGD'}\n",
            "0.761042 (0.017904) with: {'activation': 'elu', 'dropout_rate': 0.5, 'optimizer': 'RMSprop'}\n",
            "0.742917 (0.025627) with: {'activation': 'elu', 'dropout_rate': 0.5, 'optimizer': 'Adam'}\n",
            "0.752857 (0.012150) with: {'activation': 'sigmoid', 'dropout_rate': 0.1, 'optimizer': 'SGD'}\n",
            "0.769524 (0.020490) with: {'activation': 'sigmoid', 'dropout_rate': 0.1, 'optimizer': 'RMSprop'}\n",
            "0.769792 (0.018998) with: {'activation': 'sigmoid', 'dropout_rate': 0.1, 'optimizer': 'Adam'}\n",
            "0.752857 (0.012150) with: {'activation': 'sigmoid', 'dropout_rate': 0.2, 'optimizer': 'SGD'}\n",
            "0.767440 (0.017990) with: {'activation': 'sigmoid', 'dropout_rate': 0.2, 'optimizer': 'RMSprop'}\n",
            "0.770893 (0.017831) with: {'activation': 'sigmoid', 'dropout_rate': 0.2, 'optimizer': 'Adam'}\n",
            "0.752857 (0.012150) with: {'activation': 'sigmoid', 'dropout_rate': 0.3, 'optimizer': 'SGD'}\n",
            "0.770179 (0.017234) with: {'activation': 'sigmoid', 'dropout_rate': 0.3, 'optimizer': 'RMSprop'}\n",
            "0.769792 (0.019638) with: {'activation': 'sigmoid', 'dropout_rate': 0.3, 'optimizer': 'Adam'}\n",
            "0.752857 (0.012150) with: {'activation': 'sigmoid', 'dropout_rate': 0.4, 'optimizer': 'SGD'}\n",
            "0.770982 (0.018595) with: {'activation': 'sigmoid', 'dropout_rate': 0.4, 'optimizer': 'RMSprop'}\n",
            "0.767500 (0.014326) with: {'activation': 'sigmoid', 'dropout_rate': 0.4, 'optimizer': 'Adam'}\n",
            "0.752857 (0.012150) with: {'activation': 'sigmoid', 'dropout_rate': 0.5, 'optimizer': 'SGD'}\n",
            "0.768690 (0.016141) with: {'activation': 'sigmoid', 'dropout_rate': 0.5, 'optimizer': 'RMSprop'}\n",
            "0.767202 (0.014872) with: {'activation': 'sigmoid', 'dropout_rate': 0.5, 'optimizer': 'Adam'}\n",
            "0.754881 (0.014657) with: {'activation': 'tanh', 'dropout_rate': 0.1, 'optimizer': 'SGD'}\n",
            "0.762202 (0.012448) with: {'activation': 'tanh', 'dropout_rate': 0.1, 'optimizer': 'RMSprop'}\n",
            "0.691429 (0.044978) with: {'activation': 'tanh', 'dropout_rate': 0.1, 'optimizer': 'Adam'}\n",
            "0.636042 (0.214467) with: {'activation': 'tanh', 'dropout_rate': 0.2, 'optimizer': 'SGD'}\n",
            "0.758899 (0.015273) with: {'activation': 'tanh', 'dropout_rate': 0.2, 'optimizer': 'RMSprop'}\n",
            "0.650595 (0.063768) with: {'activation': 'tanh', 'dropout_rate': 0.2, 'optimizer': 'Adam'}\n",
            "0.716935 (0.063981) with: {'activation': 'tanh', 'dropout_rate': 0.3, 'optimizer': 'SGD'}\n",
            "0.758393 (0.015784) with: {'activation': 'tanh', 'dropout_rate': 0.3, 'optimizer': 'RMSprop'}\n",
            "0.702649 (0.060967) with: {'activation': 'tanh', 'dropout_rate': 0.3, 'optimizer': 'Adam'}\n",
            "0.752887 (0.012149) with: {'activation': 'tanh', 'dropout_rate': 0.4, 'optimizer': 'SGD'}\n",
            "0.758958 (0.015135) with: {'activation': 'tanh', 'dropout_rate': 0.4, 'optimizer': 'RMSprop'}\n",
            "0.679435 (0.083463) with: {'activation': 'tanh', 'dropout_rate': 0.4, 'optimizer': 'Adam'}\n",
            "0.752857 (0.012150) with: {'activation': 'tanh', 'dropout_rate': 0.5, 'optimizer': 'SGD'}\n",
            "0.757649 (0.013421) with: {'activation': 'tanh', 'dropout_rate': 0.5, 'optimizer': 'RMSprop'}\n",
            "0.591607 (0.013353) with: {'activation': 'tanh', 'dropout_rate': 0.5, 'optimizer': 'Adam'}\n"
          ],
          "name": "stdout"
        }
      ]
    },
    {
      "cell_type": "markdown",
      "metadata": {
        "id": "J9HoL8G9syAb"
      },
      "source": [
        "## Rescale analysis"
      ]
    },
    {
      "cell_type": "code",
      "metadata": {
        "colab": {
          "base_uri": "https://localhost:8080/"
        },
        "id": "v6jLC-8nzLpw",
        "outputId": "a273328a-b3cb-4515-fcc2-135c4f2f5a9f"
      },
      "source": [
        "mean = x_train_augm.mean()\n",
        "stdev = x_train_augm.std()\n",
        "\n",
        "x_train_augm = (x_train_augm - mean)/stdev #TO CHECK!\n",
        "print('mean', x_train_augm.mean())\n",
        "print('stdev', x_train_augm.std())"
      ],
      "execution_count": 21,
      "outputs": [
        {
          "output_type": "stream",
          "text": [
            "mean -3.026405804203621e-17\n",
            "stdev 1.0\n"
          ],
          "name": "stdout"
        }
      ]
    },
    {
      "cell_type": "code",
      "metadata": {
        "colab": {
          "base_uri": "https://localhost:8080/"
        },
        "id": "kwicvmvfsyAd",
        "outputId": "c882c675-5c22-4ad0-d282-1ef14d036329"
      },
      "source": [
        "final_model = create_model(optimizer='RMSprop', activation='relu', dropout_rate=0.2) #Best model from GridSearch\n",
        "print(final_model.summary())"
      ],
      "execution_count": 22,
      "outputs": [
        {
          "output_type": "stream",
          "text": [
            "Model: \"sequential_245\"\n",
            "_________________________________________________________________\n",
            "Layer (type)                 Output Shape              Param #   \n",
            "=================================================================\n",
            "dense_738 (Dense)            (None, 64)                4160      \n",
            "_________________________________________________________________\n",
            "dense_739 (Dense)            (None, 32)                2080      \n",
            "_________________________________________________________________\n",
            "dropout_245 (Dropout)        (None, 32)                0         \n",
            "_________________________________________________________________\n",
            "dense_740 (Dense)            (None, 1)                 33        \n",
            "=================================================================\n",
            "Total params: 6,273\n",
            "Trainable params: 6,273\n",
            "Non-trainable params: 0\n",
            "_________________________________________________________________\n",
            "None\n"
          ],
          "name": "stdout"
        }
      ]
    },
    {
      "cell_type": "code",
      "metadata": {
        "scrolled": true,
        "colab": {
          "base_uri": "https://localhost:8080/",
          "height": 593
        },
        "id": "wMYuPpU0syAd",
        "outputId": "66149175-9ab4-4742-9844-723ef58afd60"
      },
      "source": [
        "fit_final_model = final_model.fit(np.asarray(x_train_augm), np.asarray(y_train_augm),\n",
        "                                  epochs = 30,\n",
        "                                  batch_size=800,\n",
        "                                  validation_data = (x_test, y_test),\n",
        "                                  shuffle = True,\n",
        "                                  verbose = 0                          \n",
        "                                  )\n",
        "\n",
        "score = final_model.evaluate(x_test, y_test, verbose=0)\n",
        "\n",
        "# print performance\n",
        "print()\n",
        "print('Test loss:', score[0])\n",
        "print('Test accuracy:', score[1])\n",
        "\n",
        "# accuracy\n",
        "plt.plot(fit_final_model.history['accuracy'])\n",
        "plt.plot(fit_final_model.history['val_accuracy'])\n",
        "plt.ylabel('model accuracy')\n",
        "plt.xlabel('epoch')\n",
        "plt.legend(['train', 'test'], loc='best')\n",
        "plt.show()\n",
        "# loss\n",
        "plt.plot(fit_final_model.history['loss'])\n",
        "plt.plot(fit_final_model.history['val_loss'])\n",
        "plt.ylabel('model loss')\n",
        "plt.xlabel('epoch')\n",
        "plt.legend(['train', 'test'], loc='best')\n",
        "plt.show()"
      ],
      "execution_count": 26,
      "outputs": [
        {
          "output_type": "stream",
          "text": [
            "\n",
            "Test loss: 3.770543336868286\n",
            "Test accuracy: 0.7555555701255798\n"
          ],
          "name": "stdout"
        },
        {
          "output_type": "display_data",
          "data": {
            "image/png": "[encoded data removed]",
            "text/plain": [
              "<Figure size 432x288 with 1 Axes>"
            ]
          },
          "metadata": {
            "tags": [],
            "needs_background": "light"
          }
        },
        {
          "output_type": "display_data",
          "data": {
            "image/png": "[encoded data removed]",
            "text/plain": [
              "<Figure size 432x288 with 1 Axes>"
            ]
          },
          "metadata": {
            "tags": [],
            "needs_background": "light"
          }
        }
      ]
    },
    {
      "cell_type": "markdown",
      "metadata": {
        "id": "NKrtVsOesyAd"
      },
      "source": [
        "## Appendix"
      ]
    },
    {
      "cell_type": "code",
      "metadata": {
        "id": "uom_i5_Ty4DE"
      },
      "source": [
        "# Trials with different shifts"
      ],
      "execution_count": 17,
      "outputs": []
    },
    {
      "cell_type": "code",
      "metadata": {
        "id": "rhRhJu8WsyAe"
      },
      "source": [
        "shifting_list = [3, 7, 11, 15]\n",
        "\n",
        "def shifting(x, positions, label):\n",
        "    #function that shifts our strings\n",
        "    shifted_x = []\n",
        "    shifted_y =  []\n",
        "    \n",
        "    shifted_x.append(x)\n",
        "    shifted_y.append(label)\n",
        "    \n",
        "    temp = x\n",
        "    \n",
        "    for j in range(positions):\n",
        "        temp = temp[-1:]+temp[:-1]\n",
        "        shifted_x.append(temp)\n",
        "        shifted_y.append(label)\n",
        "             \n",
        "    return shifted_x, shifted_y\n",
        "\n",
        "for shift in shifting_list:\n",
        "    \n",
        "    temp_x = []\n",
        "    temp_y = []\n",
        "    \n",
        "    for i in range(len(sx_train)):\n",
        "        temp_x += shifting(sx_train[i], shift, y_train[i])[0]\n",
        "        temp_y += shifting(sx_train[i], shift, y_train[i])[1] \n",
        "    if shift == 3:\n",
        "        sx_train_4 = temp_x\n",
        "        y_train_4 = temp_y \n",
        "    if shift == 7:\n",
        "        sx_train_8 = temp_x\n",
        "        y_train_8  = temp_y \n",
        "    if shift == 11:\n",
        "        sx_train_12 = temp_x\n",
        "        y_train_12 = temp_y \n",
        "    if shift == 15:\n",
        "        sx_train_16 = temp_x\n",
        "        y_train_16 = temp_y "
      ],
      "execution_count": 18,
      "outputs": []
    },
    {
      "cell_type": "code",
      "metadata": {
        "colab": {
          "base_uri": "https://localhost:8080/"
        },
        "id": "nnIozeplsyAg",
        "outputId": "16c2df5c-750e-4887-b103-5e2842f766f2"
      },
      "source": [
        "np.random.seed(123)\n",
        "\n",
        "model_shift = Sequential()\n",
        "model_shift.add(Dense(L, input_shape=(L,), activation='relu'))\n",
        "model_shift.add(Dense(L/2, activation='relu'))\n",
        "model_shift.add(Dense(L/4, activation='relu'))\n",
        "model_shift.add(Dropout(0.2))\n",
        "model_shift.add(Dense(1, activation='sigmoid'))\n",
        "\n",
        "print(model_shift.summary())"
      ],
      "execution_count": 19,
      "outputs": [
        {
          "output_type": "stream",
          "text": [
            "Model: \"sequential_244\"\n",
            "_________________________________________________________________\n",
            "Layer (type)                 Output Shape              Param #   \n",
            "=================================================================\n",
            "dense_734 (Dense)            (None, 64)                4160      \n",
            "_________________________________________________________________\n",
            "dense_735 (Dense)            (None, 32)                2080      \n",
            "_________________________________________________________________\n",
            "dense_736 (Dense)            (None, 16)                528       \n",
            "_________________________________________________________________\n",
            "dropout_244 (Dropout)        (None, 16)                0         \n",
            "_________________________________________________________________\n",
            "dense_737 (Dense)            (None, 1)                 17        \n",
            "=================================================================\n",
            "Total params: 6,785\n",
            "Trainable params: 6,785\n",
            "Non-trainable params: 0\n",
            "_________________________________________________________________\n",
            "None\n"
          ],
          "name": "stdout"
        }
      ]
    },
    {
      "cell_type": "code",
      "metadata": {
        "scrolled": false,
        "colab": {
          "base_uri": "https://localhost:8080/",
          "height": 232
        },
        "id": "_ciwVP2UsyAg",
        "outputId": "fc53b94d-89a6-4b12-a13f-6823da30cf2b"
      },
      "source": [
        "fig, ax = plt.subplots(2,1, figsize=(10,10))\n",
        "\n",
        "model_shift.compile(loss='binary_crossentropy',\n",
        "                    optimizer='ADAM',\n",
        "                    metrics=['accuracy'])\n",
        "\n",
        "shifted_x_list = [sx_train_4, sx_train_8, sx_train_12, sx_train_16]\n",
        "shifted_y_list = [y_train_4, y_train_8, y_train_12, y_train_16]\n",
        "batch_size = [100, 300, 500, 800]\n",
        "color = ['red', 'blue', 'green', 'orange']\n",
        "\n",
        "\n",
        "for i in range(len(shifted_x_list)):\n",
        "    \n",
        "    x_train = np.zeros((len(shifted_x_list[i]), L))\n",
        "    \n",
        "    for j in range(len(shifted_x_list[i])):\n",
        "        for k in range(Ls):\n",
        "            x_train[j][k*4 + onehc[shifted_x_list[i][j][k]]] = 1 #for every step in string you jump of 4 i the autoencpding\n",
        "\n",
        "    fit_shift = model_shift.fit(np.asarray(x_train), np.asarray(shifted_y_list[i]),\n",
        "                   epochs=30, batch_size=batch_size[i],\n",
        "                   validation_data=(x_test, y_test),\n",
        "                   shuffle=True, #changes composition of mini batch                                \n",
        "                   verbose=0)\n",
        "\n",
        "    score = model_shift.evaluate(x_test, y_test, verbose=0)\n",
        "\n",
        "    # print performance\n",
        "    print()\n",
        "    print('Test loss:', score[0])\n",
        "    print('Test accuracy:', score[1])\n",
        "    \n",
        "    final = str(shifting_list[i]+1) + ' shift'\n",
        "    final_2 = str(shifting_list[i]+1) + ' shift'\n",
        "    ax[0].plot(fit_shift.history['val_accuracy'],\n",
        "               label=final,\n",
        "               c=color[i]\n",
        "               )\n",
        "    ax[0].set_title('Accuracy on different datasets vs epochs')\n",
        "    ax[0].set_ylabel('Accuracy')\n",
        "    ax[0].set_xlabel('epoch')\n",
        "    ax[0].legend(bbox_to_anchor=(1.05, 1))\n",
        "    ax[0].set_ylim(0.7,0.9)\n",
        "\n",
        "    # summarize history for loss\n",
        "    ax[1].plot(fit_shift.history['val_loss'],\n",
        "               label=final_2,\n",
        "               c=color[i])\n",
        "    ax[1].set_title('Loss on different datasets vs epochs')\n",
        "    ax[1].set_ylabel('Loss')\n",
        "    ax[1].set_xlabel('epoch')\n",
        "    ax[1].legend(bbox_to_anchor=(1.05, 1))\n",
        "    ax[1].set_ylim(0.2,0.7)"
      ],
      "execution_count": 20,
      "outputs": [
        {
          "output_type": "error",
          "ename": "TypeError",
          "evalue": "ignored",
          "traceback": [
            "\u001b[0;31m---------------------------------------------------------------------------\u001b[0m",
            "\u001b[0;31mTypeError\u001b[0m                                 Traceback (most recent call last)",
            "\u001b[0;32m<ipython-input-20-51b5c44dd26f>\u001b[0m in \u001b[0;36m<module>\u001b[0;34m()\u001b[0m\n\u001b[0;32m----> 1\u001b[0;31m \u001b[0mfig\u001b[0m\u001b[0;34m,\u001b[0m \u001b[0max\u001b[0m \u001b[0;34m=\u001b[0m \u001b[0mplt\u001b[0m\u001b[0;34m.\u001b[0m\u001b[0msubplots\u001b[0m\u001b[0;34m(\u001b[0m\u001b[0;36m2\u001b[0m\u001b[0;34m,\u001b[0m\u001b[0;36m1\u001b[0m\u001b[0;34m,\u001b[0m \u001b[0mfigsize\u001b[0m\u001b[0;34m=\u001b[0m\u001b[0;34m(\u001b[0m\u001b[0;36m10\u001b[0m\u001b[0;34m,\u001b[0m\u001b[0;36m10\u001b[0m\u001b[0;34m)\u001b[0m\u001b[0;34m)\u001b[0m\u001b[0;34m\u001b[0m\u001b[0;34m\u001b[0m\u001b[0m\n\u001b[0m\u001b[1;32m      2\u001b[0m \u001b[0;34m\u001b[0m\u001b[0m\n\u001b[1;32m      3\u001b[0m model_shift.compile(loss='binary_crossentropy',\n\u001b[1;32m      4\u001b[0m                     \u001b[0moptimizer\u001b[0m\u001b[0;34m=\u001b[0m\u001b[0;34m'ADAM'\u001b[0m\u001b[0;34m,\u001b[0m\u001b[0;34m\u001b[0m\u001b[0;34m\u001b[0m\u001b[0m\n\u001b[1;32m      5\u001b[0m                     metrics=['accuracy'])\n",
            "\u001b[0;31mTypeError\u001b[0m: subplots() got an unexpected keyword argument 'figsize'"
          ]
        }
      ]
    },
    {
      "cell_type": "markdown",
      "metadata": {
        "id": "eHvwwJIIsyAh"
      },
      "source": [
        "aumentare del dataset è meno determinante.\n",
        "Diminuendo il numero di shifts, l'assegnazione sbagliata delle etichettte è sempre più determinante. Definire bene cos'è uno shift"
      ]
    }
  ]
}