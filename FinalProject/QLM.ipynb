{
 "cells": [
  {
   "cell_type": "code",
   "execution_count": 1,
   "id": "celtic-honor",
   "metadata": {},
   "outputs": [],
   "source": [
    "import numpy as np\n",
    "import numpy.random as npr\n",
    "from IPython.display import Latex"
   ]
  },
  {
   "cell_type": "code",
   "execution_count": 2,
   "id": "annual-zambia",
   "metadata": {},
   "outputs": [
    {
     "name": "stdout",
     "output_type": "stream",
     "text": [
      "[ 0.5 -0.5  0.5  0.5 -0.5 -0.5 -0.5  0.5 -0.5 -0.5  0.5  0.5]\n",
      "[-0.5  0.5  0.5  0.5  0.5 -0.5  0.5  0.5  0.5 -0.5 -0.5  0.5]\n"
     ]
    }
   ],
   "source": [
    "npr.seed(10)\n",
    "\n",
    "sites = np.ones(12)*1/2*np.sign(npr.random(12)-0.5)\n",
    "links = np.ones(12)*1/2*np.sign(npr.random(12)-0.5)\n",
    "print(sites)\n",
    "print(links)"
   ]
  },
  {
   "cell_type": "code",
   "execution_count": 3,
   "id": "packed-ribbon",
   "metadata": {},
   "outputs": [],
   "source": [
    "leg_sites = {\n",
    "    1/2 : '$\\circ$',\n",
    "    -1/2 : '$\\\\bullet$'\n",
    "}\n",
    "\n",
    "leg_links = {\n",
    "    1/2 : '$\\leftarrow$',\n",
    "    -1/2 : '$\\\\rightarrow$'\n",
    "}\n",
    "\n",
    "def Visualize(sites, links):\n",
    "    sites_symbols = np.vectorize(leg_sites.get)(sites)\n",
    "    links_symbols = np.vectorize(leg_links.get)(links)\n",
    "    seq_list = [i + j for i, j in zip(sites_symbols, links_symbols)]\n",
    "    total_list = ''.join(seq_list)\n",
    "    return total_list\n",
    "\n",
    "def Gaggiublock(i, sites, links):\n",
    "    s1, l1 = sites[i],links[i]\n",
    "    s2, l2 = sites[i+1],links[i+1]\n",
    "    g = s2 - l2 + l1 + (-1)**(i)*1/2 == 0     \n",
    "    '''\n",
    "    Since numering start from 0 instead of 1 like in the review, \n",
    "    we absorbe a '-1' sign (exponent of last term becomes i instead of i+1)\n",
    "    '''\n",
    "    return g"
   ]
  },
  {
   "cell_type": "code",
   "execution_count": 4,
   "id": "simple-backup",
   "metadata": {},
   "outputs": [
    {
     "name": "stdout",
     "output_type": "stream",
     "text": [
      "(-0.5, 0.5) (-0.5, 0.5)\n"
     ]
    },
    {
     "data": {
      "text/plain": [
       "True"
      ]
     },
     "execution_count": 4,
     "metadata": {},
     "output_type": "execute_result"
    }
   ],
   "source": [
    "sigma1 = (-1/2,-1/2)\n",
    "sigma2 = (1/2,1/2)\n",
    "\n",
    "sites = sigma1[0], sigma2[0]\n",
    "links = sigma1[1], sigma2[1]\n",
    "    \n",
    "print(sites, links)\n",
    "    \n",
    "Gaggiublock(0,sites,links)"
   ]
  },
  {
   "cell_type": "code",
   "execution_count": 5,
   "id": "undefined-administration",
   "metadata": {},
   "outputs": [],
   "source": [
    "from itertools import permutations, product\n",
    "\n",
    "all_sit = list(product([0.5,-0.5], repeat=12))\n",
    "all_lin = list(product([0.5,-0.5], repeat=12))\n",
    "ok = []\n",
    "\n",
    "for s in all_sit:\n",
    "    for l in all_lin:\n",
    "        check = True\n",
    "        for i in range(len(s)-1):\n",
    "            if not Gaggiublock(i, s, l): \n",
    "                check = False\n",
    "                break\n",
    "        if check == True: ok.append((s,l))\n",
    "        \n",
    "            \n",
    "        "
   ]
  },
  {
   "cell_type": "code",
   "execution_count": 14,
   "id": "portuguese-excuse",
   "metadata": {},
   "outputs": [
    {
     "data": {
      "text/latex": [
       "$\\circ$$\\rightarrow$$\\circ$$\\leftarrow$$\\circ$$\\leftarrow$$\\bullet$$\\leftarrow$$\\circ$$\\leftarrow$$\\bullet$$\\leftarrow$$\\bullet$$\\rightarrow$$\\circ$$\\leftarrow$$\\circ$$\\leftarrow$$\\bullet$$\\leftarrow$$\\bullet$$\\rightarrow$$\\bullet$$\\rightarrow$"
      ],
      "text/plain": [
       "<IPython.core.display.Latex object>"
      ]
     },
     "execution_count": 14,
     "metadata": {},
     "output_type": "execute_result"
    }
   ],
   "source": [
    "n = 10\n",
    "x = Visualize(ok[n][0],ok[n][1]) \n",
    "Latex(x)"
   ]
  },
  {
   "cell_type": "code",
   "execution_count": 15,
   "id": "every-rainbow",
   "metadata": {},
   "outputs": [
    {
     "name": "stdout",
     "output_type": "stream",
     "text": [
      "754\n"
     ]
    },
    {
     "data": {
      "text/plain": [
       "'$\\\\circ$$\\\\rightarrow$$\\\\circ$$\\\\leftarrow$$\\\\circ$$\\\\leftarrow$$\\\\bullet$$\\\\leftarrow$$\\\\circ$$\\\\leftarrow$$\\\\bullet$$\\\\leftarrow$$\\\\bullet$$\\\\rightarrow$$\\\\circ$$\\\\leftarrow$$\\\\circ$$\\\\leftarrow$$\\\\bullet$$\\\\leftarrow$$\\\\bullet$$\\\\rightarrow$$\\\\bullet$$\\\\rightarrow$'"
      ]
     },
     "execution_count": 15,
     "metadata": {},
     "output_type": "execute_result"
    }
   ],
   "source": [
    "print(len(ok))\n"
   ]
  },
  {
   "cell_type": "code",
   "execution_count": 18,
   "id": "7ec9d866-0b2d-449a-9ddb-2ce578b89fb9",
   "metadata": {},
   "outputs": [
    {
     "data": {
      "text/plain": [
       "((0.5, 0.5, 0.5, -0.5, 0.5, -0.5, -0.5, 0.5, 0.5, -0.5, -0.5, -0.5),\n",
       " (-0.5, 0.5, 0.5, 0.5, 0.5, 0.5, -0.5, 0.5, 0.5, 0.5, -0.5, -0.5))"
      ]
     },
     "execution_count": 18,
     "metadata": {},
     "output_type": "execute_result"
    }
   ],
   "source": [
    "ok[n]"
   ]
  },
  {
   "cell_type": "code",
   "execution_count": 20,
   "id": "0f8ad821-86a5-4d71-944a-c8ad23980d1a",
   "metadata": {},
   "outputs": [
    {
     "data": {
      "text/plain": [
       "[<matplotlib.lines.Line2D at 0x12054bfa0>]"
      ]
     },
     "execution_count": 20,
     "metadata": {},
     "output_type": "execute_result"
    },
    {
     "data": {
      "image/png": "[encoded data removed]",
      "text/plain": [
       "<Figure size 432x288 with 1 Axes>"
      ]
     },
     "metadata": {
      "needs_background": "light"
     },
     "output_type": "display_data"
    }
   ],
   "source": [
    "import matplotlib.pyplot as plt\n",
    "plt.plot(ok[n][0],ok[n][1], 'o')"
   ]
  },
  {
   "cell_type": "code",
   "execution_count": null,
   "id": "0ca8d0b3-847b-4eef-8a9c-0100c0c7ec97",
   "metadata": {},
   "outputs": [],
   "source": []
  }
 ],
 "metadata": {
  "kernelspec": {
   "display_name": "Python 3",
   "language": "python",
   "name": "python3"
  },
  "language_info": {
   "codemirror_mode": {
    "name": "ipython",
    "version": 3
   },
   "file_extension": ".py",
   "mimetype": "text/x-python",
   "name": "python",
   "nbconvert_exporter": "python",
   "pygments_lexer": "ipython3",
   "version": "3.8.7"
  }
 },
 "nbformat": 4,
 "nbformat_minor": 5
}
