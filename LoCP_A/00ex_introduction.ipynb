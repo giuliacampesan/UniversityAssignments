{
 "cells": [
  {
   "cell_type": "markdown",
   "metadata": {},
   "source": [
    "1. The MickeyMouse problem\n",
    "\n",
    "a) Write a program that prints the numbers from 1 to 100. But for multiples of three print Mickey instead of the number and for the multiples of five print Mouse. For numbers which are multiples of both three and five print MickeyMouse\n",
    "\n",
    "b) Put the result in a tuple and substitute Mickey with Donald and Mouse with Duck"
   ]
  },
  {
   "cell_type": "code",
   "execution_count": 1,
   "metadata": {},
   "outputs": [
    {
     "name": "stdout",
     "output_type": "stream",
     "text": [
      "1\n",
      "2\n",
      "Mickey\n",
      "4\n",
      "Mouse\n",
      "Mickey\n",
      "7\n",
      "8\n",
      "Mickey\n",
      "Mouse\n",
      "11\n",
      "Mickey\n",
      "13\n",
      "14\n",
      "Mickey Mouse\n",
      "16\n",
      "17\n",
      "Mickey\n",
      "19\n",
      "Mouse\n",
      "Mickey\n",
      "22\n",
      "23\n",
      "Mickey\n",
      "Mouse\n",
      "26\n",
      "Mickey\n",
      "28\n",
      "29\n",
      "Mickey Mouse\n",
      "31\n",
      "32\n",
      "Mickey\n",
      "34\n",
      "Mouse\n",
      "Mickey\n",
      "37\n",
      "38\n",
      "Mickey\n",
      "Mouse\n",
      "41\n",
      "Mickey\n",
      "43\n",
      "44\n",
      "Mickey Mouse\n",
      "46\n",
      "47\n",
      "Mickey\n",
      "49\n",
      "Mouse\n",
      "Mickey\n",
      "52\n",
      "53\n",
      "Mickey\n",
      "Mouse\n",
      "56\n",
      "Mickey\n",
      "58\n",
      "59\n",
      "Mickey Mouse\n",
      "61\n",
      "62\n",
      "Mickey\n",
      "64\n",
      "Mouse\n",
      "Mickey\n",
      "67\n",
      "68\n",
      "Mickey\n",
      "Mouse\n",
      "71\n",
      "Mickey\n",
      "73\n",
      "74\n",
      "Mickey Mouse\n",
      "76\n",
      "77\n",
      "Mickey\n",
      "79\n",
      "Mouse\n",
      "Mickey\n",
      "82\n",
      "83\n",
      "Mickey\n",
      "Mouse\n",
      "86\n",
      "Mickey\n",
      "88\n",
      "89\n",
      "Mickey Mouse\n",
      "91\n",
      "92\n",
      "Mickey\n",
      "94\n",
      "Mouse\n",
      "Mickey\n",
      "97\n",
      "98\n",
      "Mickey\n",
      "Mouse\n"
     ]
    }
   ],
   "source": [
    "a = ()\n",
    "\n",
    "for i in range (1, 101): \n",
    "    \n",
    "    if i%3 ==0 and i%5 !=0: \n",
    "        print (\"Mickey\")\n",
    "        a += (\"Mickey\",)\n",
    "        \n",
    "        \n",
    "    elif i%5 ==0 and i%3 !=0: \n",
    "        print (\"Mouse\")\n",
    "        a += (\"Mouse\",)\n",
    "        \n",
    "        \n",
    "    elif i%5 ==0 and i%3 ==0: \n",
    "        print (\"Mickey Mouse\")\n",
    "        a += (\"Mickey Mouse\",)\n",
    "  \n",
    "    else :\n",
    "        print (i)\n",
    "        a += (i,)\n",
    "        \n",
    "a = list ( a )\n",
    "\n",
    "for i in a:\n",
    "    \n",
    "    if i==\"Mickey\" or i==\"Mouse\" or i==\"Mickey Mouse\":\n",
    "        \n",
    "        i=i.replace(\"Mickey\", \"Donald\")\n",
    "        i=i.replace(\"Mouse\", \"Duck\")\n",
    "        \n",
    "    \n",
    "\n",
    "    \n",
    "        \n",
    "\n"
   ]
  },
  {
   "cell_type": "markdown",
   "metadata": {},
   "source": [
    "2\\. The swap function\n",
    "\n",
    "Write a function that swap the values of two input variables x and y (whatever the type). Try to do that also without a temporary variable"
   ]
  },
  {
   "cell_type": "code",
   "execution_count": 2,
   "metadata": {},
   "outputs": [
    {
     "name": "stdout",
     "output_type": "stream",
     "text": [
      "set the value of x: 2\n",
      "set the value of y: 3\n",
      "after calling swap function: x = 3 , y = 2\n"
     ]
    }
   ],
   "source": [
    "x=input(\"set the value of x: \")\n",
    "y=input(\"set the value of y: \")\n",
    "\n",
    "def swap():\n",
    "    global x\n",
    "    global y\n",
    "    z=x\n",
    "    x=y\n",
    "    y=z\n",
    "    \n",
    "swap ()\n",
    "print(\"after calling swap function: x =\", x, \", y =\", y)"
   ]
  },
  {
   "cell_type": "code",
   "execution_count": 3,
   "metadata": {},
   "outputs": [
    {
     "name": "stdout",
     "output_type": "stream",
     "text": [
      "set the value of x: 3\n",
      "set the value of y: 4\n",
      "after calling swap function: x = 4 , y = 3\n"
     ]
    }
   ],
   "source": [
    "x=input(\"set the value of x: \")\n",
    "y=input(\"set the value of y: \")\n",
    "\n",
    "\n",
    "def swap(x, y):\n",
    "   \n",
    "    return y, x\n",
    "    \n",
    "    \n",
    "    \n",
    "x, y = swap (x, y)\n",
    "print(\"after calling swap function: x =\", x, \", y =\", y)"
   ]
  },
  {
   "cell_type": "markdown",
   "metadata": {},
   "source": [
    "3\\. Computing the distance\n",
    "\n",
    "Write a function that calculates and returns the euclidean distance between two points *u* and *v*, where *u* and *v* are both 2-tuples *(x,y)*. For example, if *u=(3,0)* and *v=(0,4)*, the function should return 5"
   ]
  },
  {
   "cell_type": "code",
   "execution_count": 4,
   "metadata": {},
   "outputs": [
    {
     "data": {
      "text/plain": [
       "5.0"
      ]
     },
     "execution_count": 4,
     "metadata": {},
     "output_type": "execute_result"
    }
   ],
   "source": [
    "import math\n",
    "def distance (a, b):\n",
    "    try:\n",
    "        d = math.sqrt ( math.pow ( a[0] - b[0], 2) + math.pow ( a[1] - b[1], 2) )\n",
    "        return (d)\n",
    "    except:\n",
    "        print (\"can't compute distance for this type of objects\")\n",
    "        \n",
    "        \n",
    "u = (3, 0)\n",
    "v = (0, 4)\n",
    "\n",
    "distance (u, v)"
   ]
  },
  {
   "cell_type": "markdown",
   "metadata": {},
   "source": [
    "4\\. Counting letters\n",
    "\n",
    "Write a program to calculate the number of times each character occurs in a given string *s*. Ignore differneces in capitalization"
   ]
  },
  {
   "cell_type": "code",
   "execution_count": 1,
   "metadata": {},
   "outputs": [
    {
     "name": "stdout",
     "output_type": "stream",
     "text": [
      "i appears 4 times\n",
      "  appears 4 times\n",
      "t appears 2 times\n",
      "o appears 4 times\n",
      "p appears 2 times\n",
      "n appears 4 times\n",
      "a appears 2 times\n",
      "v appears 2 times\n",
      "e appears 1 times\n"
     ]
    }
   ],
   "source": [
    "s = \"I Topi non avevano NIPOTI\"\n",
    "s = s.lower()\n",
    "dict = {}\n",
    "for i in s:\n",
    "    try:\n",
    "        dict[i] += 1\n",
    "    \n",
    "    except:\n",
    "        dict[i]=1\n",
    "\n",
    "for key, value in dict.items():\n",
    "    print(key, \"appears\", value, \"times\")\n"
   ]
  },
  {
   "cell_type": "markdown",
   "metadata": {},
   "source": [
    "5\\. Isolating the unique\n",
    "\n",
    "Write a function that determines and count the unique numbers in the list *l*"
   ]
  },
  {
   "cell_type": "code",
   "execution_count": 2,
   "metadata": {},
   "outputs": [
    {
     "name": "stdout",
     "output_type": "stream",
     "text": [
      "58 is unique in the list\n",
      "74 is unique in the list\n",
      "96 is unique in the list\n",
      "64 is unique in the list\n",
      "10 is unique in the list\n",
      "24 is unique in the list\n",
      "19 is unique in the list\n",
      "33 is unique in the list\n",
      "86 is unique in the list\n",
      "99 is unique in the list\n",
      "18 is unique in the list\n",
      "47 is unique in the list\n",
      "88 is unique in the list\n",
      "55 is unique in the list\n",
      "54 is unique in the list\n",
      "8 is unique in the list\n",
      "79 is unique in the list\n",
      "81 is unique in the list\n",
      "57 is unique in the list\n",
      "37 is unique in the list\n",
      "1 is unique in the list\n",
      "9 is unique in the list\n",
      "95 is unique in the list\n",
      "90 is unique in the list\n",
      "98 is unique in the list\n",
      "39 is unique in the list\n",
      "16 is unique in the list\n",
      "82 is unique in the list\n",
      "92 is unique in the list\n",
      "41 is unique in the list\n",
      "30 is unique in the list\n",
      "94 is unique in the list\n",
      "5 is unique in the list\n",
      "72 is unique in the list\n",
      "87 is unique in the list\n",
      "75 is unique in the list\n",
      "53 is unique in the list\n",
      "there are 37 unique numbers in the list\n"
     ]
    }
   ],
   "source": [
    "l = [36, 45, 58, 3, 74, 96, 64, 45, 31, 10, 24, 19, 33, 86, 99, 18, 63, 70, 85,\n",
    " 85, 63, 47, 56, 42, 70, 84, 88, 55, 20, 54, 8, 56, 51, 79, 81, 57, 37, 91,\n",
    " 1, 84, 84, 36, 66, 9, 89, 50, 42, 91, 50, 95, 90, 98, 39, 16, 82, 31, 92, 41,\n",
    " 45, 30, 66, 70, 34, 85, 94, 5, 3, 36, 72, 91, 84, 34, 87, 75, 53, 51, 20, 89, 51, 20]\n",
    "\n",
    "def unique(a):\n",
    "    count = 0\n",
    "    rdict = {}\n",
    "    for i in a:\n",
    "        try:\n",
    "            rdict[i]+= 1\n",
    "        except:\n",
    "            rdict[i] = 1\n",
    "    \n",
    "    for key, value in rdict.items():\n",
    "        if value == 1:\n",
    "            print(key, \"is unique in the list\")\n",
    "            count += 1\n",
    "    print (\"there are\", count,\"unique numbers in the list\")\n",
    "    \n",
    "    \n",
    "unique(l)    "
   ]
  },
  {
   "cell_type": "markdown",
   "metadata": {},
   "source": [
    "6\\. Combination of functions\n",
    "\n",
    "Write two functions - one that returns the square of a number, and one that returns the cube. Now write a third function that returns the number raised to the 6th power using the two previous functions."
   ]
  },
  {
   "cell_type": "code",
   "execution_count": 3,
   "metadata": {},
   "outputs": [
    {
     "data": {
      "text/plain": [
       "64.0"
      ]
     },
     "execution_count": 3,
     "metadata": {},
     "output_type": "execute_result"
    }
   ],
   "source": [
    "import math\n",
    "def square (a):\n",
    "    try:\n",
    "        return ( math.pow( a, 2 ) )\n",
    "    except:\n",
    "        print (\"can't do this operation on \", a)\n",
    "\n",
    "def cube (a):\n",
    "    try:\n",
    "        return ( math.pow(a, 3) )\n",
    "    except:\n",
    "        print (\"can't do this operation on \", a)\n",
    "        \n",
    "def sixthPower (a):\n",
    "    try:\n",
    "        return ( cube ( square(a) ) )\n",
    "    except:\n",
    "        print (\"can't do this operation on \", a)\n",
    "        \n",
    "        \n",
    "sixthPower(2)\n"
   ]
  },
  {
   "cell_type": "markdown",
   "metadata": {},
   "source": [
    "7\\. Cubes\n",
    "\n",
    "Create a list of the cubes of x for x in *[0, 10]* using:\n",
    "\n",
    "a) a for loop\n",
    "\n",
    "b) a list comprehension"
   ]
  },
  {
   "cell_type": "code",
   "execution_count": 8,
   "metadata": {},
   "outputs": [
    {
     "name": "stdout",
     "output_type": "stream",
     "text": [
      "0.0\n",
      "1.0\n",
      "8.0\n",
      "27.0\n",
      "64.0\n",
      "125.0\n",
      "216.0\n",
      "343.0\n",
      "512.0\n",
      "729.0\n",
      "1000.0\n"
     ]
    }
   ],
   "source": [
    "for i in range (11):\n",
    "    print ( cube(i) )"
   ]
  },
  {
   "cell_type": "code",
   "execution_count": 9,
   "metadata": {},
   "outputs": [
    {
     "name": "stdout",
     "output_type": "stream",
     "text": [
      "[0.0, 1.0, 8.0, 27.0, 64.0, 125.0, 216.0, 343.0, 512.0, 729.0, 1000.0]\n"
     ]
    }
   ],
   "source": [
    "cubes = [ cube(x) for x in range(11) ]\n",
    "print ( cubes )\n"
   ]
  },
  {
   "cell_type": "markdown",
   "metadata": {},
   "source": [
    "8\\. Nested list comprehension\n",
    "\n",
    "A Pythagorean triple is an integer solution to the Pythagorean theorem $a^2+b^2=c^2$. The first Pythagorean triple is (3,4,5). Find and put in a tuple all unique Pythagorean triples for the positive integers a, b and c less than 100."
   ]
  },
  {
   "cell_type": "code",
   "execution_count": 10,
   "metadata": {},
   "outputs": [
    {
     "name": "stdout",
     "output_type": "stream",
     "text": [
      "[3, 4, 5.0]\n",
      "[5, 12, 13.0]\n",
      "[6, 8, 10.0]\n",
      "[7, 24, 25.0]\n",
      "[8, 15, 17.0]\n",
      "[9, 12, 15.0]\n",
      "[9, 40, 41.0]\n",
      "[10, 24, 26.0]\n",
      "[11, 60, 61.0]\n",
      "[12, 16, 20.0]\n",
      "[12, 35, 37.0]\n",
      "[13, 84, 85.0]\n",
      "[14, 48, 50.0]\n",
      "[15, 20, 25.0]\n",
      "[15, 36, 39.0]\n",
      "[16, 30, 34.0]\n",
      "[16, 63, 65.0]\n",
      "[18, 24, 30.0]\n",
      "[18, 80, 82.0]\n",
      "[20, 21, 29.0]\n",
      "[20, 48, 52.0]\n",
      "[21, 28, 35.0]\n",
      "[21, 72, 75.0]\n",
      "[24, 32, 40.0]\n",
      "[24, 45, 51.0]\n",
      "[24, 70, 74.0]\n",
      "[25, 60, 65.0]\n",
      "[27, 36, 45.0]\n",
      "[28, 45, 53.0]\n",
      "[30, 40, 50.0]\n",
      "[30, 72, 78.0]\n",
      "[32, 60, 68.0]\n",
      "[33, 44, 55.0]\n",
      "[33, 56, 65.0]\n",
      "[35, 84, 91.0]\n",
      "[36, 48, 60.0]\n",
      "[36, 77, 85.0]\n",
      "[39, 52, 65.0]\n",
      "[39, 80, 89.0]\n",
      "[40, 42, 58.0]\n",
      "[40, 75, 85.0]\n",
      "[42, 56, 70.0]\n",
      "[45, 60, 75.0]\n",
      "[48, 55, 73.0]\n",
      "[48, 64, 80.0]\n",
      "[51, 68, 85.0]\n",
      "[54, 72, 90.0]\n",
      "[57, 76, 95.0]\n",
      "[60, 63, 87.0]\n",
      "[65, 72, 97.0]\n"
     ]
    }
   ],
   "source": [
    "def c(a,b):\n",
    "    return (a**2+b**2)**0.5\n",
    "\n",
    "\n",
    "triple = [ [a,b, c(a,b)] for a in range(1, 100) for b in range(1, 100) if c(a,b)<100 and c(a,b)==int(c(a,b)) and a<=b]\n",
    "\n",
    "for i in triple:\n",
    "    print(i)\n"
   ]
  },
  {
   "cell_type": "markdown",
   "metadata": {},
   "source": [
    "9\\. Normalization\n",
    "\n",
    "Write a function that takes a tuple of numbers and returns it with the entries normalized to one"
   ]
  },
  {
   "cell_type": "code",
   "execution_count": 6,
   "metadata": {},
   "outputs": [
    {
     "name": "stdout",
     "output_type": "stream",
     "text": [
      "0.21081851067789195\n",
      "0.31622776601683794\n",
      "0.4216370213557839\n",
      "0.5270462766947299\n",
      "0.6324555320336759\n"
     ]
    }
   ],
   "source": [
    "import math as m\n",
    "\n",
    "def modulo(a):\n",
    "    m=0\n",
    "    for i in a:\n",
    "        m+= math.pow(i, 2)\n",
    "        \n",
    "    return math.sqrt(m)\n",
    " \n",
    "def normalize(a):\n",
    "    for i in a:\n",
    "        i = i/modulo(a)\n",
    "        print(i)\n",
    "\n",
    "a=[2,3,4,5,6]\n",
    "\n",
    "a=normalize(a)\n"
   ]
  },
  {
   "cell_type": "code",
   "execution_count": null,
   "metadata": {},
   "outputs": [],
   "source": []
  }
 ],
 "metadata": {
  "kernelspec": {
   "display_name": "Python 3",
   "language": "python",
   "name": "python3"
  },
  "language_info": {
   "codemirror_mode": {
    "name": "ipython",
    "version": 3
   },
   "file_extension": ".py",
   "mimetype": "text/x-python",
   "name": "python",
   "nbconvert_exporter": "python",
   "pygments_lexer": "ipython3",

   "version": "3.6.9"

  }
 },
 "nbformat": 4,
 "nbformat_minor": 2
}
