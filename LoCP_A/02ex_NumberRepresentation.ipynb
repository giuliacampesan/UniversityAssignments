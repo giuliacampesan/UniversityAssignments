{
 "cells": [
  {
   "cell_type": "markdown",
   "metadata": {},
   "source": [
    "1\\. Write a function that converts number representation (bin<->dec<->hex)"
   ]
  },
  {
   "cell_type": "code",
   "execution_count": 1,
   "metadata": {},
   "outputs": [
    {
     "name": "stdout",
     "output_type": "stream",
     "text": [
      "the input number is 0x12 expressed in base 16\n",
      "that in base 10 is expressed as 18\n",
      "the input number is 40 expressed in base 10\n",
      "that in base 2 is expressed as 0b101000\n",
      "the input number is 0b1010 expressed in base 2\n",
      "that in base 10 is expressed as 10\n",
      "the input number is 0x10 expressed in base 16\n",
      "that in base 2 is expressed as 0b10000\n"
     ]
    }
   ],
   "source": [
    "def converter(n, oldBase, newBase):\n",
    "    if(oldBase==2):\n",
    "        m = bin( n )\n",
    "    elif(oldBase==16):\n",
    "        m = hex( n )\n",
    "    else:\n",
    "        m = n\n",
    "        \n",
    "        \n",
    "    print (\"the input number is\", m, \"expressed in base\", oldBase)\n",
    "    \n",
    "    if  newBase==10:\n",
    "        n = int ( n )\n",
    "        \n",
    "        \n",
    "    elif newBase==2:\n",
    "        \n",
    "        n = bin( n ) \n",
    "        \n",
    "    elif newBase==16:\n",
    "       \n",
    "        n= hex( n ) \n",
    "    \n",
    "    else:\n",
    "        print(\"unknown conversion\")\n",
    "    \n",
    "    \n",
    "    print(\"that in base\", newBase, \"is expressed as\", n)\n",
    "        \n",
    "converter(0x12, 16, 10)\n",
    "converter(40, 10, 2)\n",
    "converter(0b1010, 2, 10)\n",
    "converter(0x10, 16, 2)"
   ]
  },
  {
   "cell_type": "markdown",
   "metadata": {},
   "source": [
    "2\\. Write a function that converts a 32 bit word into a single precision floating point (i.e. interprets the various bits as sign, mantissa and exponent)"
   ]
  },
  {
   "cell_type": "code",
   "execution_count": 1,
   "metadata": {},
   "outputs": [
    {
     "name": "stdout",
     "output_type": "stream",
     "text": [
      "-5.5\n"
     ]
    }
   ],
   "source": [
    "import math as m\n",
    "def IEEE_single(n):\n",
    "\n",
    "    \n",
    "    number = list (map(int, str(n)))\n",
    "    \n",
    "    sign = (-1) ** number[0]\n",
    "    exp = 0\n",
    "    \n",
    "    for i in range(1, 9):\n",
    "        exp += number[i] * m.pow (2, (8-i))\n",
    "    \n",
    "    exp -= 127\n",
    "    \n",
    "    mantissa = 1\n",
    "    for i in range(1, 24):\n",
    "        mantissa += number[i+8] * m.pow(2, (-i))\n",
    "    \n",
    "    return sign * mantissa * m.pow (2, exp)\n",
    "    \n",
    "    \n",
    "  \n",
    "    \n",
    "n=\"11000000101100000000000000000000\"\n",
    "c = IEEE_single(n)\n",
    "\n",
    "print(c)"
   ]
  },
  {
   "cell_type": "markdown",
   "metadata": {},
   "source": [
    "3\\. Write a program to determine the underflow and overflow limits (within a factor of 2) for python on your computer. \n",
    "\n",
    "**Tips**: define two variables inizialized to 1 and halve/double them enough time to exceed the under/over-flow limits  "
   ]
  },
  {
   "cell_type": "code",
   "execution_count": 2,
   "metadata": {},
   "outputs": [
    {
     "name": "stdout",
     "output_type": "stream",
     "text": [
      "8.98846567431158e+307\n"
     ]
    }
   ],
   "source": [
    "import math as m\n",
    "def overflow():\n",
    "    a, b = m.pow(10, 0), m.pow(10, 0)\n",
    "    while ( (a - a) == 0):\n",
    "        b = a\n",
    "        a = b*2\n",
    "       \n",
    "    return b\n",
    "\n",
    "\n",
    "\n",
    "\n",
    "c = overflow()\n",
    "print(c)\n",
    "\n"
   ]
  },
  {
   "cell_type": "code",
   "execution_count": 3,
   "metadata": {},
   "outputs": [
    {
     "name": "stdout",
     "output_type": "stream",
     "text": [
      "5e-324\n"
     ]
    }
   ],
   "source": [
    "\n",
    "def underflow():\n",
    "    a = 1\n",
    "    while ( a != 0):\n",
    "        b = a\n",
    "        a = b/2\n",
    "        \n",
    "    return b\n",
    "\n",
    "d = underflow()\n",
    "print(d)\n",
    "\n",
    "#%timeit overflow()\n",
    "#%timeit underflow()"
   ]
  },
  {
   "cell_type": "markdown",
   "metadata": {},
   "source": [
    "4\\. Write a program to determine the machine precision\n",
    "\n",
    "**Tips**: define a new variable by adding a smaller and smaller value (proceeding similarly to prob. 2) to an original variable and check the point where the two are the same "
   ]
  },
  {
   "cell_type": "code",
   "execution_count": 4,
   "metadata": {},
   "outputs": [
    {
     "name": "stdout",
     "output_type": "stream",
     "text": [
      "2.220446049250313e-16\n"
     ]
    }
   ],
   "source": [
    "import math as m\n",
    "a = 3\n",
    "b = 1 #m.pow(10, -14)\n",
    "\n",
    "while ( a != a+b ):\n",
    "    c = b\n",
    "    b /= 2\n",
    "\n",
    "print ( b ) "
   ]
  },
  {
   "cell_type": "markdown",
   "metadata": {},
   "source": [
    "5\\. Write a function that takes in input three parameters $a$, $b$ and $c$ and prints out the two solutions to the quadratic equation $ax^2+bx+c=0$ using the standard formula:\n",
    "$$\n",
    "x=\\frac{-b\\pm\\sqrt{b^2-4ac}}{2a}\n",
    "$$\n",
    "\n",
    "(a) use the program to compute the solution for $a=0.001$, $b=1000$ and $c=0.001$\n",
    "\n",
    "(b) re-express the standard solution formula by multiplying top and bottom by $-b\\mp\\sqrt{b^2-4ac}$ and again find the solution for $a=0.001$, $b=1000$ and $c=0.001$. How does it compare with what previously obtained? Why?\n",
    "\n",
    "(c) write a function that compute the roots of a quadratic equation accurately in all cases"
   ]
  },
  {
   "cell_type": "code",
   "execution_count": 5,
   "metadata": {},
   "outputs": [
    {
     "name": "stdout",
     "output_type": "stream",
     "text": [
      "999.999999998\n",
      "-9.999894245993346e-07 -999999.999999\n",
      "-1.000000000001e-06 -1000010.5755125057\n",
      "-1.000000000001e-06 -999999.999999\n"
     ]
    }
   ],
   "source": [
    "import numpy as np\n",
    "def quad_sol(a,b,c):\n",
    "    det = m.sqrt( m.pow( b, 2 )- 4*a*c )\n",
    "    print(det)\n",
    "    x_plus = ( -b + det ) / ( 2*a )\n",
    "    x_minus = ( -b - det ) / ( 2*a )\n",
    "    return x_plus, x_minus\n",
    "\n",
    "\n",
    "\n",
    "def quad_sol2(a,b,c):\n",
    "    x_plus = 2*c / ( -b - m.sqrt(m.pow(b, 2)-4*a*c) )\n",
    "    x_minus = 2*c / ( -b + m.sqrt(m.pow(b, 2)-4*a*c) )\n",
    "    return x_plus, x_minus\n",
    "\n",
    "\n",
    "def quad_accurate(a,b,c):\n",
    "    det = m.sqrt( m.pow( b, 2 )- 4*a*c )\n",
    "    x_plus = 2*c / ( -b - np.sign(b)* det)\n",
    "    x_minus = (-b - np.sign(b) * det ) / ( 2*a )\n",
    "    \n",
    "    return x_plus, x_minus\n",
    "\n",
    "\n",
    "x_plus, x_minus = quad_sol(0.001, 1000, 0.001)\n",
    "x_plus2, x_minus2 = quad_sol2(0.001, 1000, 0.001)\n",
    "x_plusacc, x_minusacc = quad_accurate(0.001, 1000, 0.001)\n",
    "\n",
    "print(x_plus, x_minus)\n",
    "print(x_plus2, x_minus2) \n",
    "print(x_plusacc, x_minusacc)\n"
   ]
  },
  {
   "cell_type": "markdown",
   "metadata": {},
   "source": [
    "6\\. Write a program that implements the function $f(x)=x(x−1)$\n",
    "\n",
    "(a) Calculate the derivative of the function at the point $x = 1$ using the derivative definition:\n",
    "\n",
    "$$\n",
    "\\frac{{\\rm d}f}{{\\rm d}x} = \\lim_{\\delta\\to0} \\frac{f(x+\\delta)-f(x)}{\\delta}\n",
    "$$\n",
    "\n",
    "with $\\delta = 10^{−2}$. Calculate the true value of the same derivative analytically and compare with the answer your program gives. The two will not agree perfectly. Why not?\n",
    "\n",
    "(b) Repeat the calculation for $\\delta = 10^{−4}, 10^{−6}, 10^{−8}, 10^{−10}, 10^{−12}$ and $10^{−14}$. How does the accuracy scales with $\\delta$?"
   ]
  },
  {
   "cell_type": "code",
   "execution_count": 6,
   "metadata": {},
   "outputs": [
    {
     "name": "stdout",
     "output_type": "stream",
     "text": [
      "derivata:  1.010000000000001 calcolata con delta = 0.01\n",
      "derivata:  1.0000999999998899 calcolata con delta = 0.0001\n",
      "derivata:  1.0000009999177333 calcolata con delta = 1e-06\n",
      "derivata:  1.0000000039225287 calcolata con delta = 1e-08\n",
      "derivata:  1.000000082840371 calcolata con delta = 1e-10\n",
      "derivata:  1.0000889005833413 calcolata con delta = 1e-12\n",
      "derivata:  0.9992007221626509 calcolata con delta = 1e-14\n",
      "derivata analitica:  1\n"
     ]
    }
   ],
   "source": [
    "import math as m\n",
    "\n",
    "\n",
    "def function(x):\n",
    "    return x*(x-1)\n",
    "\n",
    "def derivative(x, d):\n",
    "    deriv = ( function(x+d) - function(x) ) / d\n",
    "    return deriv\n",
    "\n",
    "def deriv_analitical(x):\n",
    "    return 2*x -1\n",
    "\n",
    "\n",
    "for i in range(1,8):\n",
    "    print (\"derivata: \", derivative(1, m.pow(10, -2*i)), \n",
    "           \"calcolata con delta =\", m.pow(10, -2*i))\n",
    "\n",
    "print (\"derivata analitica: \", deriv_analitical(1))"
   ]
  },
  {
   "cell_type": "markdown",
   "metadata": {},
   "source": [
    "7\\. Consider the integral of the semicircle of radius 1:\n",
    "$$\n",
    "I=\\int_{-1}^{1} \\sqrt(1-x^2) {\\rm d}x\n",
    "$$\n",
    "which it's known to be $I=\\frac{\\pi}{2}=1.57079632679...$.\n",
    "Alternatively we can use the Riemann definition of the integral:\n",
    "$$\n",
    "I=\\lim_{N\\to\\infty} \\sum_{k=1}^{N} h y_k \n",
    "$$\n",
    "\n",
    "with $h=2/N$ the width of each of the $N$ slices the domain is divided into and where\n",
    "$y_k$ is the value of the function at the $k-$th slice.\n",
    "\n",
    "(a) Write a programe to compute the integral with $N=100$. How does the result compares to the true value?\n",
    "\n",
    "(b) How much can $N$ be increased if the computation needs to be run in less than a second? What is the gain in running it for 1 minute? \n"
   ]
  },
  {
   "cell_type": "code",
   "execution_count": null,
   "metadata": {},
   "outputs": [
    {
     "name": "stdout",
     "output_type": "stream",
     "text": [
      "0.00048644943489928316 0.03096833285139202\n"
     ]
    }
   ],
   "source": [
    "import math as m\n",
    "import timeit\n",
    "\n",
    "def riemanIntegral(a, b, N,  func):\n",
    "    h = (b-a) / N\n",
    "    I=0\n",
    "    for i in range(N):\n",
    "        I += h * func(a+h/2+i*h)\n",
    "    return I\n",
    "\n",
    "def semicircle(x):\n",
    "    f = m.sqrt (1-x*x)\n",
    "    return f\n",
    "\n",
    "\n",
    "accuracy = riemanIntegral(-1, 1, 100, semicircle) - m.pi / 2\n",
    "percent_accuracy = accuracy / (m.pi / 2) *100\n",
    "print (accuracy, percent_accuracy)\n",
    "n = int(2*m.pow(10, 6))\n",
    "\n",
    "\n",
    "def wrapper(func, *args, **kwargs):\n",
    "    def wrapped():\n",
    "        return func(*args, **kwargs)\n",
    "    return wrapped\n",
    "\n",
    "i, x =1, 1\n",
    "wrapped = wrapper (riemanIntegral, -1, 1, i, semicircle)\n",
    "q = timeit.timeit(wrapped, number=1)\n",
    "\n",
    "\n",
    "\n",
    "\n",
    "while (q < 1):\n",
    "    x = i\n",
    "    wrapped = wrapper (riemanIntegral, -1, 1, i, semicircle)\n",
    "    q = timeit.timeit(wrapped, number=1)\n",
    "    #print()\n",
    "    i+=1\n",
    "    \n",
    "    \n",
    "    \n",
    "print(x)\n",
    "%timeit riemanIntegral(-1, 1, x, semicircle)\n"
   ]
  },
  {
   "cell_type": "code",
   "execution_count": null,
   "metadata": {},
   "outputs": [],
   "source": [
    "\n",
    "\n"
   ]
  },
  {
   "cell_type": "code",
   "execution_count": null,
   "metadata": {},
   "outputs": [],
   "source": []
  }
 ],
 "metadata": {
  "kernelspec": {
   "display_name": "Python 3",
   "language": "python",
   "name": "python3"
  },
  "language_info": {
   "codemirror_mode": {
    "name": "ipython",
    "version": 3
   },
   "file_extension": ".py",
   "mimetype": "text/x-python",
   "name": "python",
   "nbconvert_exporter": "python",
   "pygments_lexer": "ipython3",
   "version": "3.6.9"
  }
 },
 "nbformat": 4,
 "nbformat_minor": 2
}
