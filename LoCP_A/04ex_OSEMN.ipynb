{
 "cells": [
  {
   "cell_type": "markdown",
   "metadata": {},
   "source": [
    "# OSEMN Exercises"
   ]
  },
  {
   "cell_type": "code",
   "execution_count": 1,
   "metadata": {},
   "outputs": [],
   "source": [
    "%matplotlib inline\n",
    "import pandas as pd\n",
    "import numpy as np\n",
    "import matplotlib.pyplot as plt"
   ]
  },
  {
   "cell_type": "markdown",
   "metadata": {},
   "source": [
    "1\\. Create a random list of number and then save it to a text file named \"simple_data.txt\""
   ]
  },
  {
   "cell_type": "code",
   "execution_count": 2,
   "metadata": {},
   "outputs": [],
   "source": [
    "x = np.random.random(345)\n",
    "file_name='random.txt'\n",
    "\n",
    "with open(file_name, mode='w') as f:\n",
    "    for i in x:\n",
    "        f.write(str(i)+'\\n')\n",
    "        "
   ]
  },
  {
   "cell_type": "markdown",
   "metadata": {},
   "source": [
    "2\\. Create a random matrix of 5x5 and then save it to a text file named \"data.txt\""
   ]
  },
  {
   "cell_type": "code",
   "execution_count": 3,
   "metadata": {},
   "outputs": [],
   "source": [
    "#dumb way\n",
    "m = np.random.random_sample((5,5))\n",
    "file_name ='matrix.txt'\n",
    "\n",
    "rows, columns = np.shape(m)\n",
    "with open(file_name, mode='w') as f:\n",
    "    for i in range(rows):\n",
    "        for j in range(columns):\n",
    "            f.write(str(m[i][j])+'\\t')\n",
    "        f.write('\\n')"
   ]
  },
  {
   "cell_type": "code",
   "execution_count": 4,
   "metadata": {},
   "outputs": [],
   "source": [
    "#smart way\n",
    "m = np.random.random_sample((5,5))\n",
    "file_name ='matrix_2.txt'\n",
    "\n",
    "with open(file_name, mode='w') as f:\n",
    "    \n",
    "    np.savetxt(file_name, m, delimiter=' ', newline='\\n')"
   ]
  },
  {
   "cell_type": "markdown",
   "metadata": {},
   "source": [
    "3\\. Load the saved txt file of point 2 and convert it to a csv file (by hand)"
   ]
  },
  {
   "cell_type": "code",
   "execution_count": 5,
   "metadata": {},
   "outputs": [],
   "source": [
    "import csv\n",
    "\n",
    "txt_file = \"matrix_2.txt\"\n",
    "csv_file = \"matrix_2.csv\"\n",
    "\n",
    "\n",
    "with open(txt_file, mode='r') as r, open(csv_file, mode='w') as w:\n",
    "    stripped = (line.strip() for line in r)\n",
    "    lines = (line.split(',') for line in stripped if line)\n",
    "    writer=csv.writer(w)\n",
    "    writer.writerows(lines)\n",
    "   "
   ]
  },
  {
   "cell_type": "markdown",
   "metadata": {},
   "source": [
    "4\\. load the binary file named *credit_card.dat* and convert the data into the real credit-card number.\n",
    "Each line correspond to a credit card number.\n",
    "Each character is composed by 6 bit (even the space) and the last 4 bit are just a padding\n",
    "\n",
    "**hint**: use the `chr()` function to convert a number to a char"
   ]
  },
  {
   "cell_type": "code",
   "execution_count": 6,
   "metadata": {},
   "outputs": [],
   "source": [
    "infile='credit_card.dat'\n",
    "outfile='credit_card.txt'\n",
    "with open(infile, 'r') as r, open(outfile, 'w') as w:\n",
    "    \n",
    "    for line in r:\n",
    "        \n",
    "        stripped = line.strip()\n",
    "        line_array = stripped[:-4]\n",
    "        \n",
    "        N = len(line_array)\n",
    "        \n",
    "        converted = \"\"\n",
    "        \n",
    "        for i in range(0, int(N), 6):\n",
    "            num = int (line_array[i:i+6], 2)\n",
    "            \n",
    "            converted += chr(num)\n",
    "        \n",
    "        w.write(converted+'\\n')    \n",
    "         \n",
    "        \n",
    "        \n",
    "  \n",
    "             "
   ]
  },
  {
   "cell_type": "markdown",
   "metadata": {},
   "source": [
    "5\\. Load the file \"user_data.json\", filter the data by the \"CreditCardType\" field equals to \"American Express\". Than save the data a to CSV."
   ]
  },
  {
   "cell_type": "code",
   "execution_count": 7,
   "metadata": {},
   "outputs": [],
   "source": [
    "import json\n",
    "import csv\n",
    "data = json.load( open ('user_data.json') )\n",
    "\n",
    "data = [j for j in data if j['CreditCardType']=='American Express']\n",
    "\n",
    "csv_file = 'user_data1.csv'\n",
    "with open(csv_file, mode='w') as w:\n",
    "    \n",
    "    writer=csv.writer(w)\n",
    "    writer.writerow(data[0].keys())\n",
    "    for row in data:\n",
    "        writer.writerow(row.values())\n",
    "    "
   ]
  },
  {
   "cell_type": "markdown",
   "metadata": {},
   "source": [
    "6\\. Load the file from this url: [https://www.dropbox.com/s/7u3lm737ogbqsg8/mushrooms_categorized.csv?dl=1](https://www.dropbox.com/s/7u3lm737ogbqsg8/mushrooms_categorized.csv?dl=1) with Pandas. \n",
    "+ Explore the data (see the info of the data)\n",
    "+ Draw the istogram of the 'class' field. Decribe wath yuou see\n"
   ]
  },
  {
   "cell_type": "code",
   "execution_count": 8,
   "metadata": {},
   "outputs": [
    {
     "data": {
      "text/plain": [
       "array([[<AxesSubplot:title={'center':'class'}>]], dtype=object)"
      ]
     },
     "execution_count": 8,
     "metadata": {},
     "output_type": "execute_result"
    },
    {
     "data": {
      "text/plain": [
       "<Figure size 432x288 with 0 Axes>"
      ]
     },
     "metadata": {},
     "output_type": "display_data"
    },
    {
     "data": {
      "image/png": "[encoded data removed]",
      "text/plain": [
       "<Figure size 432x288 with 1 Axes>"
      ]
     },
     "metadata": {
      "needs_background": "light"
     },
     "output_type": "display_data"
    }
   ],
   "source": [
    "#! wget https://www.dropbox.com/s/7u3lm737ogbqsg8/mushrooms_categorized.csv?dl=1 -P ~/data/\n",
    "#!cat /home/giulia/data/mushrooms_categorized.csv?dl=1 \n",
    "data = pd.read_csv(r'/home/giulia/data/mushrooms_categorized.csv?dl=1')\n",
    "#print(data)\n",
    "\n",
    "ax  = plt.figure(figsize=(6,4))\n",
    "data.hist(column='class', bins=10)\n"
   ]
  },
  {
   "cell_type": "markdown",
   "metadata": {},
   "source": [
    "7\\. Load the remote file [https://www.dropbox.com/s/vkl89yce7xjdq4n/regression_generated.csv?dl=1](https://www.dropbox.com/s/vkl89yce7xjdq4n/regression_generated.csv?dl=1) with Pandas and plot a scatter plot all possible combination of the following fields:\n",
    "    \n",
    "  + features_1\n",
    "  + features_2\n",
    "  + features_3"
   ]
  },
  {
   "cell_type": "code",
   "execution_count": 9,
   "metadata": {},
   "outputs": [
    {
     "data": {
      "text/plain": [
       "Text(0, 0.5, 'features_3')"
      ]
     },
     "execution_count": 9,
     "metadata": {},
     "output_type": "execute_result"
    },
    {
     "data": {
      "image/png": "[encoded data removed]",
      "text/plain": [
       "<Figure size 720x360 with 3 Axes>"
      ]
     },
     "metadata": {
      "needs_background": "light"
     },
     "output_type": "display_data"
    }
   ],
   "source": [
    "#!wget  https://www.dropbox.com/s/vkl89yce7xjdq4n/regression_generated.csv?dl=1 -P ~/data/\n",
    "data = pd.read_csv(r'~/data/regression_generated.csv?dl=1')\n",
    "#print(data)\n",
    "fig, ax = plt.subplots(1,3, figsize=(10,5))\n",
    "ax[0].scatter(data['features_1'], data['features_2'])\n",
    "ax[0].set_xlabel('features_1')\n",
    "ax[0].set_ylabel('features_2')\n",
    "ax[1].scatter(data['features_1'], data['features_3'])\n",
    "ax[1].set_xlabel('features_1')\n",
    "ax[1].set_ylabel('features_3')\n",
    "ax[2].scatter(data['features_2'], data['features_3'])\n",
    "ax[2].set_xlabel('features_2')\n",
    "ax[2].set_ylabel('features_3')"
   ]
  },
  {
   "cell_type": "markdown",
   "metadata": {},
   "source": [
    "8\\. Load the same file of point 6, and convert the file to json with Pandas."
   ]
  },
  {
   "cell_type": "code",
   "execution_count": 10,
   "metadata": {},
   "outputs": [],
   "source": [
    "import json \n",
    "\n",
    "data = pd.read_json(r'user_data.json', orient='record' )\n",
    "\n",
    "data = data[data['CreditCardType']=='American Express']\n",
    "#print(data)\n",
    "\n",
    "export_csv = data.to_csv (r'user_data.csv', index = None, header=True, sep = '\\t')"
   ]
  }
 ],
 "metadata": {
  "kernelspec": {
   "display_name": "Python 3",
   "language": "python",
   "name": "python3"
  },
  "language_info": {
   "codemirror_mode": {
    "name": "ipython",
    "version": 3
   },
   "file_extension": ".py",
   "mimetype": "text/x-python",
   "name": "python",
   "nbconvert_exporter": "python",
   "pygments_lexer": "ipython3",
   "version": "3.6.9"
  }
 },
 "nbformat": 4,
 "nbformat_minor": 2
}
