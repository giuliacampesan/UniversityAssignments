{
 "cells": [
  {
   "cell_type": "markdown",
   "metadata": {
    "id": "Jnb02bv8mhPW"
   },
   "source": [
    "## Exercise 1\n",
    "\n",
    "Create a vectorized version of log and exp math function for 1D array A = [2, 5, 10, 3, 8]\n",
    "\n",
    "Results should be: \n",
    "+ [0.6931472 1.609438  2.3025851 1.0986123 2.0794415]\n",
    "+ [7.3890562e+00 1.4841316e+02 2.2026465e+04 2.0085537e+01 2.9809580e+03]"
   ]
  },
  {
   "cell_type": "code",
   "execution_count": null,
   "metadata": {
    "colab": {
     "base_uri": "https://localhost:8080/"
    },
    "id": "E8BWZkt7mhPe",
    "outputId": "f8d0e703-2a0e-4f1e-c943-d9e81b9f41ac"
   },
   "outputs": [
    {
     "name": "stdout",
     "output_type": "stream",
     "text": [
      "[0.6931472 1.609438  2.3025851 1.0986123 2.0794415]\n",
      "[7.3890562e+00 1.4841316e+02 2.2026465e+04 2.0085537e+01 2.9809580e+03]\n"
     ]
    }
   ],
   "source": [
    " import numpy as np\n",
    " import numba\n",
    " from numba import cuda , vectorize, int64, float32, float64\n",
    " @vectorize([float32(float32)])\n",
    " def exp(x):\n",
    "   return np.exp(x)\n",
    " def log(x):\n",
    "   return np.log(x)\n",
    "\n",
    "A = np.asarray([2, 5, 10, 3, 8]).astype(np.float32)\n",
    "\n",
    "print(log(A))\n",
    "print(exp(A))"
   ]
  },
  {
   "cell_type": "markdown",
   "metadata": {
    "id": "Mlnkp6oZmhPh"
   },
   "source": [
    "## Exerice 2\n",
    "Compute the value of a Gaussian probability density function at $x$ with $mean = 1$, $\\sigma = 1$, lower and upper bound in $(-3, 3)$ and $size = 100000$"
   ]
  },
  {
   "cell_type": "code",
   "execution_count": null,
   "metadata": {
    "colab": {
     "base_uri": "https://localhost:8080/",
     "height": 282
    },
    "id": "PcdgLOwKmhPl",
    "outputId": "db734801-96af-41ae-ced7-71323f8227e8"
   },
   "outputs": [
    {
     "data": {
      "text/plain": [
       "[<matplotlib.lines.Line2D at 0x7fc3a273b940>]"
      ]
     },
     "execution_count": 4,
     "metadata": {
      "tags": []
     },
     "output_type": "execute_result"
    },
    {
     "data": {
      "image/png": "[encoded data removed]",
      "text/plain": [
       "<Figure size 432x288 with 1 Axes>"
      ]
     },
     "metadata": {
      "needs_background": "light",
      "tags": []
     },
     "output_type": "display_data"
    }
   ],
   "source": [
    "import math as m\n",
    "import matplotlib.pyplot as plt\n",
    "\n",
    "@vectorize([float64(float64, int64, int64)])\n",
    "def gaussian(x, mean,sigma):\n",
    "  return 1./(m.sqrt(2.*m.pi)*sigma)*m.exp(-m.pow((x - mean)/sigma, 2.)/2)\n",
    "\n",
    "x = np.random.uniform(-3,3, 100000)\n",
    "mean = 1\n",
    "sigma = 1\n",
    "y=gaussian(x,mean, sigma)\n",
    "plt.plot(x,y, '.', color='red')"
   ]
  },
  {
   "cell_type": "markdown",
   "metadata": {
    "id": "ptJ8uYKgmhPo"
   },
   "source": [
    "## Exercise 3\n",
    "\n",
    "Create a \"zero suppression\" function. A common operation when working with waveforms is to force all samples values below a certain absolute magnitude to be zero, as a way to eliminate low amplitude noise. \n",
    "Plot the data before and after the application of the zero_suppress function.\n",
    "\n",
    "$thresold = 15$"
   ]
  },
  {
   "cell_type": "code",
   "execution_count": null,
   "metadata": {
    "colab": {
     "base_uri": "https://localhost:8080/",
     "height": 265
    },
    "id": "c1erefrsmhPr",
    "outputId": "1150129a-bbdc-4a1c-bc97-23d94d2b5287"
   },
   "outputs": [
    {
     "data": {
      "image/png": "[encoded data removed]",
      "text/plain": [
       "<Figure size 432x288 with 1 Axes>"
      ]
     },
     "metadata": {
      "needs_background": "light",
      "tags": []
     },
     "output_type": "display_data"
    }
   ],
   "source": [
    "%matplotlib inline\n",
    "from matplotlib import pyplot as plt\n",
    "\n",
    "n = 100000\n",
    "noise = np.random.normal(size=n) * 3\n",
    "pulses = np.maximum(np.sin(np.arange(n) / (n / 23)) - 0.3, 0.0)\n",
    "data = ((pulses * 300) + noise).astype(np.int16)\n",
    "\n",
    "plt.plot(data, '.')\n",
    "\n",
    "@vectorize([float64(float64, int64)])\n",
    "def zero_supp(x, treshold):\n",
    "  if x <= 15:\n",
    "    return 0\n",
    "  else:\n",
    "     return x\n",
    "\n",
    "threshold = 15\n",
    "data = zero_supp(data, threshold)\n",
    "plt.plot(data, '.', color='red')\n",
    "plt.show()"
   ]
  },
  {
   "cell_type": "markdown",
   "metadata": {
    "id": "kdprlNkGmhPv"
   },
   "source": [
    "## Exercise 4\n",
    "\n",
    "Calculate the Sigmoid kernel between the matrix X and Y defined as below. The Sigmoid kernel is defined as:\n",
    "\n",
    "$k(x,y) = \\tanh(\\alpha x^T y + c) $"
   ]
  },
  {
   "cell_type": "code",
   "execution_count": null,
   "metadata": {
    "colab": {
     "base_uri": "https://localhost:8080/"
    },
    "id": "N9rYJvvhmhPw",
    "outputId": "534bb3dc-fec8-4ac9-e175-477b42ab0eb6"
   },
   "outputs": [
    {
     "name": "stdout",
     "output_type": "stream",
     "text": [
      "[[0.95064036 0.89541271 0.8899454 ]\n",
      " [0.98361173 0.95202567 0.9511515 ]\n",
      " [0.9787001  0.95269626 0.91624154]]\n"
     ]
    }
   ],
   "source": [
    "X = np.random.rand(3,3)\n",
    "Y = np.random.rand(3,3)\n",
    "\n",
    "from numba import cuda\n",
    "import math\n",
    "\n",
    "X = np.random.rand(3,3).astype('float64')\n",
    "Y = np.random.rand(3,3).astype('float64')\n",
    "res = np.zeros((3,3), dtype='float64')\n",
    "\n",
    "\n",
    "@cuda.jit\n",
    "def sigmoid_kernel(x, y, result, a, c):    \n",
    "    \n",
    "    row, col = cuda.grid(2)\n",
    "    \n",
    "    if row < result.shape[0] and col < result.shape[1]:\n",
    "        tmp = 0.\n",
    "        for k in range(x.shape[0]):\n",
    "            tmp += x[k, row] * y[k, col]\n",
    "        \n",
    "        result[row, col] = math.tanh(a * tmp + c)\n",
    "\n",
    "        \n",
    "sigmoid_kernel[(1,1),(3,3)](X, Y, res, 1., 1.)\n",
    "\n",
    "print(res)\n",
    "\n",
    "\n"
   ]
  },
  {
   "cell_type": "markdown",
   "metadata": {
    "id": "wc4kHO6ImhPz"
   },
   "source": [
    "## Exercise 5\n",
    "\n",
    "Create a kernel function similar to the ```double_kernel``` see during the lecture and create a new function that takes a 3 dimensional matrix as input calculating the $cos$ for each element and then returns the result. The shape of the matrix must be $256X256X256$. The matrix can be randomly generated"
   ]
  },
  {
   "cell_type": "code",
   "execution_count": null,
   "metadata": {
    "colab": {
     "base_uri": "https://localhost:8080/"
    },
    "id": "ZthYP-rKc8U1",
    "outputId": "0285a1da-3fa3-406c-9455-5b32339fa919"
   },
   "outputs": [
    {
     "data": {
      "text/plain": [
       "array([[[0.60279812, 0.76975434, 0.60877687, ..., 0.99997284,\n",
       "         0.99856529, 0.99998013],\n",
       "        [0.62449594, 0.96700957, 0.67787705, ..., 0.98115367,\n",
       "         0.86403785, 0.90995394],\n",
       "        [0.97777306, 0.62175195, 0.72098429, ..., 0.72310071,\n",
       "         0.69286988, 0.98702445],\n",
       "        ...,\n",
       "        [0.97510547, 0.68014096, 0.83150018, ..., 0.68417102,\n",
       "         0.58463803, 0.99775865],\n",
       "        [0.72873852, 0.62671836, 0.97090359, ..., 0.58914135,\n",
       "         0.97221979, 0.97727025],\n",
       "        [0.84405897, 0.67720094, 0.94010485, ..., 0.56606401,\n",
       "         0.99905522, 0.76694352]],\n",
       "\n",
       "       [[0.84515907, 0.80060623, 0.992698  , ..., 0.80731627,\n",
       "         0.93580626, 0.89691484],\n",
       "        [0.85692563, 0.67963484, 0.78500167, ..., 0.99398345,\n",
       "         0.89896287, 0.92746801],\n",
       "        [0.96904509, 0.97512536, 0.93886036, ..., 0.761213  ,\n",
       "         0.55363794, 0.76330402],\n",
       "        ...,\n",
       "        [0.9881316 , 0.79402168, 0.9383476 , ..., 0.81881317,\n",
       "         0.77033657, 0.96324681],\n",
       "        [0.91650034, 0.76486956, 0.9979426 , ..., 0.75267879,\n",
       "         0.96031177, 0.74508806],\n",
       "        [0.83815307, 0.62380492, 0.9686945 , ..., 0.94734193,\n",
       "         0.99353644, 0.99166889]],\n",
       "\n",
       "       [[0.72432378, 0.74423954, 0.67437757, ..., 0.73256865,\n",
       "         0.84373205, 0.70212199],\n",
       "        [0.99722735, 0.98062169, 0.93643348, ..., 0.58131791,\n",
       "         0.97816684, 0.77839994],\n",
       "        [0.99945408, 0.94120373, 0.85874191, ..., 0.63462478,\n",
       "         0.99156671, 0.82933421],\n",
       "        ...,\n",
       "        [0.97439587, 0.80160159, 0.98355022, ..., 0.88640844,\n",
       "         0.88545844, 0.90943106],\n",
       "        [0.9576662 , 0.54035892, 0.98797916, ..., 0.87725655,\n",
       "         0.96698865, 0.88134285],\n",
       "        [0.97396059, 0.93160337, 0.83211582, ..., 0.72684357,\n",
       "         0.81164837, 0.87133556]],\n",
       "\n",
       "       ...,\n",
       "\n",
       "       [[0.80459441, 0.9884142 , 0.97604938, ..., 0.95118194,\n",
       "         0.99262074, 0.86167256],\n",
       "        [0.55497071, 0.87814995, 0.99855635, ..., 0.99966521,\n",
       "         0.72907964, 0.99660438],\n",
       "        [0.91647049, 0.99894645, 0.77665925, ..., 0.94495901,\n",
       "         0.97376536, 0.70947152],\n",
       "        ...,\n",
       "        [0.89696126, 0.75808882, 0.63219476, ..., 0.82353807,\n",
       "         0.6648753 , 0.97690417],\n",
       "        [0.7001004 , 0.81450479, 0.64373575, ..., 0.95453801,\n",
       "         0.98830341, 0.90752793],\n",
       "        [0.9892384 , 0.99888426, 0.97335827, ..., 0.99610517,\n",
       "         0.99997268, 0.98027343]],\n",
       "\n",
       "       [[0.57871243, 0.5814432 , 0.67830747, ..., 0.78757824,\n",
       "         0.83673035, 0.96781235],\n",
       "        [0.98455984, 0.59011374, 0.81240097, ..., 0.61468178,\n",
       "         0.95726246, 0.96088176],\n",
       "        [0.77647175, 0.87820878, 0.93597632, ..., 0.98784538,\n",
       "         0.99878753, 0.9273432 ],\n",
       "        ...,\n",
       "        [0.78479772, 0.81341551, 0.98201435, ..., 0.63974621,\n",
       "         0.66454049, 0.99933415],\n",
       "        [0.99046291, 0.87412225, 0.91694532, ..., 0.70231648,\n",
       "         0.99917553, 0.99449659],\n",
       "        [0.96221541, 0.66410006, 0.80657661, ..., 0.96302348,\n",
       "         0.9989489 , 0.5605974 ]],\n",
       "\n",
       "       [[0.99996988, 0.99996714, 0.82994745, ..., 0.96095038,\n",
       "         0.86952073, 0.88504005],\n",
       "        [0.62177464, 0.94904913, 0.99473921, ..., 0.63261518,\n",
       "         0.98991025, 0.91177882],\n",
       "        [0.99903036, 0.8034949 , 0.9800044 , ..., 0.83017689,\n",
       "         0.79680684, 0.81365905],\n",
       "        ...,\n",
       "        [0.99124615, 0.66554707, 0.98879998, ..., 0.81710456,\n",
       "         0.96404443, 0.96991293],\n",
       "        [0.98093023, 0.99428905, 0.91690686, ..., 0.72302298,\n",
       "         0.99991361, 0.65243456],\n",
       "        [0.90359277, 0.88825166, 0.98313347, ..., 0.85485065,\n",
       "         0.90680205, 0.98554428]]])"
      ]
     },
     "execution_count": 7,
     "metadata": {
      "tags": []
     },
     "output_type": "execute_result"
    }
   ],
   "source": [
    "\n",
    "M = np.random.rand(256,256,256)\n",
    "\n",
    "@cuda.jit\n",
    "def cosine_kernel(M):\n",
    "  row, col, side = cuda.grid(3)\n",
    "  if row < M.shape[0] and col < M.shape[1] and side <M.shape[2]:\n",
    "    M[row][col][side] = math.cos(M[row][col][side])\n",
    " \n",
    " \n",
    "threadsperblock = (8,8,8)\n",
    "blockspergrid_x = int(math.ceil(M.shape[0] / threadsperblock[0]))\n",
    "blockspergrid_y = math.ceil(M.shape[1]/threadsperblock[1])\n",
    "blockspergrid_z = math.ceil(M.shape[2]/threadsperblock[2])\n",
    "\n",
    "blockspergrid = (blockspergrid_x, blockspergrid_y, blockspergrid_z)\n",
    "\n",
    "cosine_kernel[blockspergrid, threadsperblock](M)\n",
    "M"
   ]
  },
  {
   "cell_type": "markdown",
   "metadata": {
    "id": "BPeopTNumhP1"
   },
   "source": [
    "## Exercise 6\n",
    "\n",
    "Create a matrix multiplication kernel function, called ```matmul``` that takes as input two 2D matrices:\n",
    "+ A of shape $24x12$\n",
    "+ B of shape $12x22$\n",
    "and that computes the multiplication and put the results into a third matrix C of shape $24x12$\n",
    "\n",
    "A and B must be randomly generated and only int values are allowed.\n"
   ]
  },
  {
   "cell_type": "code",
   "execution_count": null,
   "metadata": {
    "colab": {
     "base_uri": "https://localhost:8080/"
    },
    "id": "hi3wwfgimhP3",
    "outputId": "a37a59dc-dbd3-4a0b-9707-101f3228af5a"
   },
   "outputs": [
    {
     "data": {
      "text/plain": [
       "array([[3.09071444, 3.01256656, 2.91440121, 4.49247722, 3.76086441,\n",
       "        2.63724231, 3.90773543, 2.14353276, 3.28968105, 3.63950353,\n",
       "        3.9106022 , 2.40238657, 2.21418609, 3.03678341, 4.15279926,\n",
       "        2.25693917, 3.40949774, 2.65136402, 3.94331384, 2.64567639,\n",
       "        2.68309284, 3.56973136],\n",
       "       [3.84690366, 3.8488049 , 4.23254674, 5.39551143, 4.54693016,\n",
       "        3.76963477, 4.66723127, 3.01075479, 3.76019681, 4.68868345,\n",
       "        5.31880485, 3.27052283, 2.30523742, 4.20878311, 5.0669338 ,\n",
       "        2.48375825, 4.11328643, 3.4792221 , 4.97793989, 3.15882977,\n",
       "        3.29247241, 4.19144434],\n",
       "       [3.21564144, 3.34032847, 3.70826574, 4.82523865, 4.16300543,\n",
       "        3.11604466, 4.0435821 , 2.70375041, 3.1710021 , 4.38225262,\n",
       "        4.19074495, 2.68091152, 2.55222861, 3.25859149, 3.95889327,\n",
       "        2.61409901, 3.99834215, 2.45716378, 4.06267363, 3.05517486,\n",
       "        2.80865675, 3.50720515],\n",
       "       [3.76713272, 3.29183425, 3.72832316, 5.43555252, 4.62435729,\n",
       "        3.08270105, 4.98160445, 3.29632996, 3.70213035, 4.31709642,\n",
       "        4.08512376, 2.8189573 , 2.61360813, 3.96159252, 4.02829903,\n",
       "        3.10117136, 4.16055472, 2.86954411, 5.02974832, 3.39524276,\n",
       "        3.22965972, 3.74416658],\n",
       "       [2.87143535, 2.34038108, 2.83959533, 4.26910684, 3.5404515 ,\n",
       "        2.24609327, 3.86025195, 2.62824701, 2.84043085, 3.02973918,\n",
       "        2.95449653, 2.06905019, 1.96166527, 3.24798024, 2.82785071,\n",
       "        2.48906845, 3.16139151, 2.07998766, 3.93100902, 2.75514516,\n",
       "        2.62497414, 2.75731945],\n",
       "       [3.19698567, 2.90346765, 2.89251586, 4.19269211, 3.83877934,\n",
       "        3.02100328, 4.273568  , 2.45056215, 2.83240158, 2.9137791 ,\n",
       "        3.31001208, 1.83631526, 2.0899873 , 3.21449265, 3.54822115,\n",
       "        2.93896007, 3.07948957, 2.83537616, 4.07247838, 3.19453337,\n",
       "        2.47143473, 3.48989074],\n",
       "       [2.65723423, 2.29611923, 1.88566984, 2.87667533, 2.64133042,\n",
       "        2.11928292, 3.45651394, 1.97039882, 2.46717646, 2.28590679,\n",
       "        2.12812602, 1.85405507, 1.14758737, 2.16717762, 2.67210189,\n",
       "        2.13748394, 2.23640227, 2.33848743, 3.19388406, 1.87468108,\n",
       "        1.81414615, 2.36710829],\n",
       "       [2.58373089, 3.03809875, 2.3451167 , 3.42318875, 3.09984804,\n",
       "        2.29360956, 3.36542347, 1.76378215, 3.03438337, 3.31826898,\n",
       "        2.57030443, 1.92850381, 1.97277684, 1.83066163, 3.2801868 ,\n",
       "        2.45973354, 2.89805455, 2.46470836, 3.41180271, 2.13442165,\n",
       "        2.06715731, 3.08925894],\n",
       "       [3.04039472, 2.99286014, 3.19546851, 4.32663915, 3.76965102,\n",
       "        2.56531614, 3.87288429, 2.9324346 , 3.49122707, 3.43873747,\n",
       "        4.07040959, 2.58143214, 1.61285485, 4.06797123, 3.73323623,\n",
       "        2.47867418, 3.19456764, 3.01872207, 4.40933819, 3.29326503,\n",
       "        3.59183289, 2.83438795],\n",
       "       [2.96027691, 3.05644428, 2.97965847, 4.29390269, 3.59878271,\n",
       "        2.82616723, 4.20262471, 2.72353616, 3.33343883, 3.23575726,\n",
       "        3.44590473, 2.28602331, 2.30008667, 3.59715674, 3.58807042,\n",
       "        2.83419619, 3.18275059, 2.9456951 , 3.89865939, 2.90413325,\n",
       "        3.09850592, 2.88760375],\n",
       "       [3.23638204, 3.05353139, 2.7429254 , 4.17575622, 3.58511983,\n",
       "        2.56400243, 4.31909446, 2.83163762, 3.56986191, 3.11134728,\n",
       "        3.21942638, 2.52296775, 1.69916926, 3.67354372, 3.59895037,\n",
       "        2.8777249 , 3.00689569, 3.24780936, 4.39029865, 2.93699404,\n",
       "        3.30240901, 2.77126923],\n",
       "       [2.81492945, 2.95242685, 3.22721851, 4.3206734 , 3.42835381,\n",
       "        2.48358479, 3.4555256 , 2.30658291, 3.42498935, 3.31315942,\n",
       "        3.75707336, 2.43981653, 1.71176365, 3.34674845, 3.58932904,\n",
       "        2.08682936, 3.21746875, 2.60572934, 4.1300288 , 2.55999963,\n",
       "        3.0311408 , 3.22958077],\n",
       "       [1.8655155 , 1.75587601, 2.09872144, 2.90162067, 2.50250634,\n",
       "        1.63245677, 2.41426232, 1.60019988, 1.76915171, 2.322167  ,\n",
       "        2.41605786, 1.36641698, 1.52817235, 2.16939638, 2.2964259 ,\n",
       "        1.44952841, 2.13506333, 1.63201884, 2.61869404, 1.80062204,\n",
       "        1.70093705, 2.00522718],\n",
       "       [2.58808116, 2.27258099, 2.25661531, 3.67466834, 3.01798095,\n",
       "        2.39011681, 3.32699429, 2.12947543, 2.25946262, 3.18414968,\n",
       "        2.71950109, 2.0640808 , 1.53234685, 2.69891779, 2.93597543,\n",
       "        2.49898806, 2.66267803, 1.91544508, 3.14623077, 2.70602676,\n",
       "        2.19043194, 2.3885374 ],\n",
       "       [2.78631576, 2.51176497, 2.41379595, 3.77730599, 3.34848702,\n",
       "        2.1897186 , 3.63334148, 1.92004891, 2.50384103, 2.39554896,\n",
       "        2.56909729, 1.73392405, 2.21439887, 2.48902852, 3.01180539,\n",
       "        2.44657727, 2.95851906, 2.23792884, 3.23228546, 2.47720604,\n",
       "        2.25307155, 2.72786972],\n",
       "       [2.55030315, 2.10564849, 2.61837782, 3.92437863, 3.22318206,\n",
       "        1.90141722, 3.02187809, 1.74228313, 2.44178867, 2.80765732,\n",
       "        3.08042427, 1.84781845, 1.76208926, 2.43040329, 2.94474239,\n",
       "        1.65133854, 3.01355003, 1.59039238, 3.36299739, 2.20418475,\n",
       "        2.03531012, 3.02166913],\n",
       "       [2.49178409, 1.9596405 , 1.91272117, 3.27412834, 2.90456283,\n",
       "        1.66997536, 2.9791814 , 1.65101919, 2.14234708, 2.7222429 ,\n",
       "        2.4961077 , 1.75165998, 1.35438057, 2.09276406, 2.8501835 ,\n",
       "        1.73866599, 2.40556622, 1.88189815, 3.21680209, 2.02636436,\n",
       "        1.74515374, 2.5009433 ],\n",
       "       [4.14919514, 3.31682966, 3.32609005, 5.20168976, 4.8180723 ,\n",
       "        2.58999803, 4.9791188 , 2.86679562, 3.7845619 , 3.83220081,\n",
       "        3.61374417, 2.76385725, 2.30955967, 3.12986083, 4.00425494,\n",
       "        3.08828717, 4.35155304, 2.7069995 , 5.13867837, 3.41234239,\n",
       "        3.00919354, 4.05819457],\n",
       "       [3.4965604 , 3.36663797, 3.42546833, 4.90094173, 4.13698461,\n",
       "        3.25062834, 4.67651925, 2.88174575, 3.20758173, 3.87968113,\n",
       "        3.24006371, 2.47054864, 2.54878409, 3.42643737, 3.67403937,\n",
       "        3.39170269, 3.65017243, 2.99124546, 4.53917536, 3.14360627,\n",
       "        2.78887283, 3.42530574],\n",
       "       [3.16316692, 3.57123106, 3.25083513, 4.46932988, 3.88887643,\n",
       "        2.85288524, 4.08829664, 2.64507046, 3.90692667, 3.70331199,\n",
       "        3.83741424, 2.54139887, 2.04042542, 3.48398315, 4.03255534,\n",
       "        2.91955764, 3.48341648, 3.22881658, 4.50050015, 3.21586814,\n",
       "        3.43808454, 3.47806148],\n",
       "       [2.91201086, 2.23587968, 2.79715311, 4.00510261, 3.06279481,\n",
       "        2.35015194, 3.33111049, 2.00189908, 2.57916982, 2.60685375,\n",
       "        3.05203365, 2.34352622, 1.26311942, 2.75240062, 2.90507566,\n",
       "        1.8344251 , 3.07374714, 1.65272987, 3.43297745, 2.20151282,\n",
       "        2.19001812, 2.93991745],\n",
       "       [2.32670143, 2.78716476, 2.68978674, 3.41640682, 3.0666996 ,\n",
       "        2.31730656, 2.62728789, 1.74255203, 2.32747435, 3.44330472,\n",
       "        3.41476996, 2.08790626, 1.64147725, 2.4830415 , 3.45754595,\n",
       "        1.87995936, 2.7006489 , 2.37986626, 3.1096993 , 2.44960108,\n",
       "        2.34922673, 2.5264396 ],\n",
       "       [2.5908972 , 2.80445609, 2.87227199, 3.84640885, 3.16459402,\n",
       "        2.72494401, 3.02981018, 1.68222754, 2.48074051, 3.18131543,\n",
       "        3.30736956, 2.04709854, 1.79099393, 2.426091  , 3.39752255,\n",
       "        2.16961475, 3.02326253, 2.0611659 , 3.16668853, 2.51644796,\n",
       "        2.14458831, 3.17696107],\n",
       "       [2.48793319, 2.62021418, 2.39348288, 3.9021237 , 3.11190841,\n",
       "        2.40899653, 3.26717968, 1.73255467, 2.62041734, 3.30223766,\n",
       "        3.40176662, 2.09195018, 2.17703845, 2.67994052, 3.74545585,\n",
       "        2.05854242, 2.84296728, 2.2992255 , 2.96968755, 2.31361811,\n",
       "        2.3470698 , 2.79305472]])"
      ]
     },
     "execution_count": 8,
     "metadata": {
      "tags": []
     },
     "output_type": "execute_result"
    }
   ],
   "source": [
    "from __future__ import division\n",
    "from numba import cuda\n",
    "import numpy\n",
    "import math\n",
    "\n",
    "# complete the code\n",
    "@cuda.jit\n",
    "def matmul(A, B, C):\n",
    "    \"\"\"Perform matrix multiplication of C = A * B\n",
    "    \"\"\"\n",
    "    row, col = cuda.grid(2)\n",
    "    if row < C.shape[0] and col < C.shape[1]:\n",
    "        tmp = 0.\n",
    "        for k in range(A.shape[1]):\n",
    "            tmp += A[row, k] * B[k, col]\n",
    "        C[row, col] = tmp\n",
    "\n",
    "# Initialize the data arrays\n",
    "A = np.random.rand(24,12)\n",
    "B = np.random.rand(12,22)\n",
    "C = np.zeros((24,22))\n",
    "\n",
    "# Configure the blocks\n",
    "threadsperblock = (8,8)\n",
    "blockspergrid_x = math.ceil(M.shape[0]/threadsperblock[0])\n",
    "blockspergrid_y = math.ceil(M.shape[1]/threadsperblock[1])\n",
    "blockspergrid = (blockspergrid_x, blockspergrid_y)\n",
    "\n",
    "matmul[blockspergrid, threadsperblock](A,B,C)\n",
    "C\n"
   ]
  }
 ],
 "metadata": {
  "accelerator": "GPU",
  "colab": {
   "name": "Copia di 09ex_Numba.ipynb",
   "provenance": [],
   "toc_visible": true
  },
  "kernelspec": {
   "display_name": "Python 3",
   "language": "python",
   "name": "python3"
  },
  "language_info": {
   "codemirror_mode": {
    "name": "ipython",
    "version": 3
   },
   "file_extension": ".py",
   "mimetype": "text/x-python",
   "name": "python",
   "nbconvert_exporter": "python",
   "pygments_lexer": "ipython3",
   "version": "3.8.5"
  }
 },
 "nbformat": 4,
 "nbformat_minor": 1
}
