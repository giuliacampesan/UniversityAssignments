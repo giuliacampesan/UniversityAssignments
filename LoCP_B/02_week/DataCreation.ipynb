{
 "cells": [
  {
   "cell_type": "code",
   "execution_count": 19,
   "metadata": {},
   "outputs": [
    {
     "name": "stdout",
     "output_type": "stream",
     "text": [
      "6 0 4\n"
     ]
    }
   ],
   "source": [
    "import random\n",
    "myseed = 12345\n",
    "random.seed(myseed)\n",
    "print(random.randint(0,10),\n",
    "      random.randint(0,10),\n",
    "      random.randint(0,10)\n",
    "     )"
   ]
  },
  {
   "cell_type": "code",
   "execution_count": 20,
   "metadata": {},
   "outputs": [
    {
     "name": "stdout",
     "output_type": "stream",
     "text": [
      "keyA..=  T ( 2 ) C ..\n",
      "keyB..=  A ( 1 ) A ..\n"
     ]
    }
   ],
   "source": [
    "#Number of samples\n",
    "N = 10000\n",
    "# size of each sample string\n",
    "Ls = 12\n",
    "#4 for dna\n",
    "ch = ['A','C','G','T']\n",
    "#20 for amminoacids\n",
    "Nc = len(ch)\n",
    "\n",
    "# data\n",
    "x = [None] * N\n",
    "# labels\n",
    "y = [0] * N\n",
    "\n",
    "gapA = 2\n",
    "gapB = 1 \n",
    "C0 = ch[3]\n",
    "C1 = ch[1]\n",
    "C2 = ch[0]\n",
    "C3 = ch[0]\n",
    "print('keyA..= ',C0,'(',gapA,')',C1,'..')\n",
    "print('keyB..= ',C2,'(',gapB,')',C3,'..')"
   ]
  },
  {
   "cell_type": "code",
   "execution_count": 21,
   "metadata": {},
   "outputs": [],
   "source": [
    "def is_key(s,Ls,c0,c1,gap):\n",
    "    for j in range(Ls-gap):\n",
    "        if s[j] == c0 and s[j+gap] == c1:\n",
    "            return True\n",
    "    return False"
   ]
  },
  {
   "cell_type": "code",
   "execution_count": 26,
   "metadata": {},
   "outputs": [
    {
     "name": "stdout",
     "output_type": "stream",
     "text": [
      "TAGGCGTCGATG 0\n",
      "CCGATCCCACGG 1\n",
      "ATGATAACCGAT 0\n",
      "ACTCGACATCCG 1\n",
      "TCACGACCGGCT 0\n",
      "GAAATATCAGCA 0\n",
      "TAATGTCGACAT 0\n",
      "CGCCCCGCAACA 0\n",
      "TCAGTATTCCCA 1\n",
      "GGCTCCCTTGAA 0\n",
      "\n",
      "keyA..=  T ( 1 ) C ..\n",
      "keyB..=  A ( 0 ) A ..\n"
     ]
    }
   ],
   "source": [
    "random.seed(myseed)\n",
    "\n",
    "for n in range(N):\n",
    "    s=\"\"\n",
    "    for j in range(Ls):\n",
    "        s=s+ch[random.randint(0,Nc-1)]\n",
    "    if is_key(s,Ls,C0,C1,gapA) and not is_key(s,Ls,C2,C3,gapB):\n",
    "        y[n] = 1\n",
    "    x[n] = s\n",
    "\n",
    "for n in range(10):\n",
    "    print(x[n],y[n])\n",
    "    \n",
    "print('\\nkeyA..= ',C0,'(',gapA-1,')',C1,'..')\n",
    "print('keyB..= ',C2,'(',gapB-1,')',C3,'..')"
   ]
  },
  {
   "cell_type": "markdown",
   "metadata": {},
   "source": [
    "if I see AA there is no possibility for label 1"
   ]
  },
  {
   "cell_type": "code",
   "execution_count": 31,
   "metadata": {},
   "outputs": [],
   "source": [
    "import subprocess\n",
    "subprocess.run([\"mkdir\",\"DATA\"])\n",
    "\n",
    "import csv\n",
    "with open('DATA/sequences'+str(Ls)+'.csv',mode='w') as myfile:\n",
    "    for n in range(N):\n",
    "        writer = csv.writer(myfile, delimiter = ',')\n",
    "        writer.writerow([x[n],y[n]])\n",
    "        \n"
   ]
  },
  {
   "cell_type": "code",
   "execution_count": null,
   "metadata": {},
   "outputs": [],
   "source": []
  }
 ],
 "metadata": {
  "kernelspec": {
   "display_name": "Python 3",
   "language": "python",
   "name": "python3"
  },
  "language_info": {
   "codemirror_mode": {
    "name": "ipython",
    "version": 3
   },
   "file_extension": ".py",
   "mimetype": "text/x-python",
   "name": "python",
   "nbconvert_exporter": "python",
   "pygments_lexer": "ipython3",
   "version": "3.7.4"
  }
 },
 "nbformat": 4,
 "nbformat_minor": 4
}
