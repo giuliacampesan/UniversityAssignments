{
 "cells": [
  {
   "cell_type": "code",
   "execution_count": 1,
   "metadata": {},
   "outputs": [],
   "source": [
    "import pandas as pd\n",
    "import numpy as np\n",
    "import tensorflow.keras\n",
    "import csv"
   ]
  },
  {
   "cell_type": "code",
   "execution_count": 2,
   "metadata": {},
   "outputs": [],
   "source": [
    "fnamex = 'DATA/x_test_N10000.csv'\n",
    "x = np.loadtxt(fnamex, delimiter = ',', dtype = float)\n",
    "\n",
    "N = len(x)\n",
    "\n",
    "xm = x.mean(axis = 1)\n",
    "stdx = x.std(axis = 1)\n",
    "for n in range(N):\n",
    "    x[n] -= xm[n]\n",
    "x /= np.abs(x.max())\n",
    "\n",
    "L = len(x[0])\n",
    "x = x.reshape(x.shape[0],L,1)\n",
    "input_shape=(L,1)\n",
    "\n",
    "LoCP_model = tensorflow.keras.models.load_model('MODEL/LoCPdown_parameters.h5')\n",
    "y_classes = np.argmax(LoCP_model.predict(x), axis=-1)\n",
    "\n",
    "with open('LoCPdown_yhat.csv', mode='w') as writing_file:\n",
    "    writer = csv.writer(writing_file, delimiter='\\n')\n",
    "    writer.writerow(y_classes)"
   ]
  },
  {
   "cell_type": "code",
   "execution_count": null,
   "metadata": {},
   "outputs": [],
   "source": []
  }
 ],
 "metadata": {
  "kernelspec": {
   "display_name": "Python 3",
   "language": "python",
   "name": "python3"
  },
  "language_info": {
   "codemirror_mode": {
    "name": "ipython",
    "version": 3
   },
   "file_extension": ".py",
   "mimetype": "text/x-python",
   "name": "python",
   "nbconvert_exporter": "python",
   "pygments_lexer": "ipython3",
   "version": "3.7.4"
  }
 },
 "nbformat": 4,
 "nbformat_minor": 4
}
