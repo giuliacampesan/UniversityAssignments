{
 "cells": [
  {
   "cell_type": "code",
   "execution_count": 1,
   "metadata": {},
   "outputs": [
    {
     "name": "stdout",
     "output_type": "stream",
     "text": [
      "0.9664535356921388\n",
      "0.4407325991753527\n",
      "0.007491470058587191\n",
      "0.9109759624491242\n",
      "0.939268997363764\n",
      "0.5822275730589491\n",
      "0.6715634814879851\n",
      "0.08393822683708396\n",
      "0.7664809327917963\n",
      "0.23680977536311776\n"
     ]
    }
   ],
   "source": [
    "import csv\n",
    "# random seed for reproducibility\n",
    "import random\n",
    "random.seed(1234)\n",
    "\n",
    "for i in range(10):\n",
    "    print(random.random())"
   ]
  },
  {
   "cell_type": "code",
   "execution_count": 2,
   "metadata": {},
   "outputs": [
    {
     "name": "stdout",
     "output_type": "stream",
     "text": [
      "[1, 1, 1, 1, 1, 1, 1, 1] 4\n",
      "[1, 1, 0, 0, 1, 1, 0, 0] 0\n",
      "[1, 0, 1, 0, 1, 0, 0, 0] 5\n",
      "[0, 0, 1, 1, 0, 0, 1, 1] 3\n",
      "[0, 0, 1, 1, 0, 0, 1, 1] 3\n",
      "[1, 1, 1, 1, 1, 1, 1, 1] 4\n",
      "[0, 0, 1, 1, 0, 0, 1, 1] 3\n",
      "[0, 0, 1, 1, 1, 1, 0, 0] 1\n",
      "[0, 0, 1, 1, 1, 1, 0, 0] 1\n",
      "[0, 0, 1, 1, 0, 0, 1, 1] 3\n",
      "[0, 0, 1, 1, 1, 1, 0, 0] 1\n",
      "[0, 0, 1, 1, 0, 0, 1, 1] 3\n",
      "[1, 1, 1, 1, 1, 1, 1, 1] 4\n",
      "[0, 0, 1, 1, 0, 0, 1, 1] 3\n",
      "[1, 0, 1, 0, 1, 0, 0, 0] 5\n",
      "[1, 1, 0, 0, 0, 0, 1, 1] 2\n",
      "[1, 0, 1, 0, 1, 0, 0, 0] 5\n",
      "[0, 0, 1, 1, 1, 1, 0, 0] 1\n",
      "[0, 0, 1, 1, 0, 0, 1, 1] 3\n",
      "[1, 1, 0, 0, 0, 0, 1, 1] 2\n"
     ]
    }
   ],
   "source": [
    "# number of data\n",
    "N=10000\n",
    "# size of each data point\n",
    "L=8\n",
    "# 4 intervals of length Z=L/4, each containing a set of 1's or 0's\n",
    "Z=int(L/4)\n",
    "# choose among states (1,0,1,0), (0,1,1,0), (1,0,0,1), (0,1,0,1) from a 2x2 product of (1,0)x(1,0)\n",
    "# with prob=1/4\n",
    "# corruption of bits: switch each of the L variables with probability q\n",
    "q = 0\n",
    "prob = 1/6. #Probability of last sequence 1 or 2 \n",
    "#sequence of fifth state\n",
    "sequence1 = [1,1,1,1,1,1,1,1]\n",
    "sequence2 = [1,0,1,0,1,0,0,0]\n",
    "\n",
    "\n",
    "def string_generation(sequence, q=q):\n",
    "    aux = sequence.copy()                                 \n",
    "    for j in range(len(aux)):\n",
    "        if random.random()<q:\n",
    "            aux[j] = 1-aux[j]\n",
    "    return aux\n",
    "\n",
    "\n",
    "y = [0] * N\n",
    "x = [[0] * L for j in range(N)]\n",
    "vec1 = [1] * Z     \n",
    "\n",
    "def ones(n,i,j):\n",
    "    x[n][Z*i:Z*(i+1)] = vec1\n",
    "    x[n][Z*(j+2):Z*(j+3)] = vec1\n",
    "\n",
    "for n in range(N):\n",
    "    k = random.random()\n",
    "    if k<prob:\n",
    "        x[n] = string_generation(sequence1)\n",
    "        y[n] = 4\n",
    "    elif (k<prob*2 and k>=prob):\n",
    "        x[n] = string_generation(sequence2)\n",
    "        y[n] = 5\n",
    "    else:\n",
    "        a = random.randint(0,1)\n",
    "        b = random.randint(0,1)\n",
    "        y[n] = a+b*2\n",
    "        ones(n,a,b)\n",
    "\n",
    "        for j in range(L):\n",
    "            if random.random()<q:\n",
    "                 x[n][j] = 1-x[n][j]\n",
    "                \n",
    "                \n",
    "for n in range(min(20,N)):\n",
    "    print(x[n],y[n])"
   ]
  },
  {
   "cell_type": "code",
   "execution_count": 3,
   "metadata": {},
   "outputs": [
    {
     "name": "stdout",
     "output_type": "stream",
     "text": [
      "mkdir: DATA: File exists\n",
      "DATA/dataRBM_q0_seq45.csv\n"
     ]
    }
   ],
   "source": [
    "!mkdir DATA\n",
    "\n",
    "fname = 'DATA/dataRBM_q'+str(q)+'_seq45.csv'\n",
    "print(fname)\n",
    "# any way to do it in one line?\n",
    "with open(fname, mode='w') as myfile:\n",
    "    writer = csv.writer(myfile, delimiter=',')\n",
    "    for i in range(N):\n",
    "        writer.writerow(x[i])"
   ]
  },
  {
   "cell_type": "code",
   "execution_count": null,
   "metadata": {},
   "outputs": [],
   "source": []
  },
  {
   "cell_type": "code",
   "execution_count": null,
   "metadata": {},
   "outputs": [],
   "source": []
  },
  {
   "cell_type": "code",
   "execution_count": null,
   "metadata": {},
   "outputs": [],
   "source": []
  }
 ],
 "metadata": {
  "kernelspec": {
   "display_name": "Python 3",
   "language": "python",
   "name": "python3"
  },
  "language_info": {
   "codemirror_mode": {
    "name": "ipython",
    "version": 3
   },
   "file_extension": ".py",
   "mimetype": "text/x-python",
   "name": "python",
   "nbconvert_exporter": "python",
   "pygments_lexer": "ipython3",
   "version": "3.9.2"
  }
 },
 "nbformat": 4,
 "nbformat_minor": 2
}
