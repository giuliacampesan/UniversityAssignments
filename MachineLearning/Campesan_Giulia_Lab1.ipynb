{
 "cells": [
  {
   "cell_type": "markdown",
   "metadata": {},
   "source": [
    " # Machine Learning LAB 1 (course 2020/21, P. Zanuttigh, M. Toldo) \n",
    "\n",
    "The notebook contains some simple tasks to be performed about classification and regression. Complete all the required code sections and answer to all the questions."
   ]
  },
  {
   "cell_type": "markdown",
   "metadata": {},
   "source": [
    "## 1) Classification of NBA players role\n",
    "\n",
    "## IMPORTANT: make sure to rerun all the code from the beginning to obtain the results for the final version of your notebook, since this is the way we will do it before evaluating your notebook!"
   ]
  },
  {
   "cell_type": "markdown",
   "metadata": {},
   "source": [
    "### Place your name and ID number. Also recall to save the file as Surname_Name_LAB1.ipynb\n",
    "\n",
    "Student name: Campesan Giulia\n",
    "ID Number: 1161495 (bachelor id)"
   ]
  },
  {
   "cell_type": "markdown",
   "metadata": {},
   "source": [
    "### Dataset description\n",
    "\n",
    "We will be working with a dataset of NBA basketball players data (you can get from https://www.kaggle.com/jacobbaruch/nba-player-of-the-week the full dataset).\n",
    "\n",
    "The provided data is a subset of the Kaggle dataset containing the players that have the role of Center and of Point Guard. For each player the dataset contains 3 features, the height, the weight and the age.\n",
    "\n",
    "From Wikipedia (if you are not a basketball fan!!):\n",
    "\n",
    "The Center (C), also known as the five, or the big man, is one of the five positions in a regular basketball game. The center is normally the tallest player on the team, and often has a great deal of strength and body mass as well. In the NBA, the center is usually 6' 10\" (2.08 m) or taller and usually weighs 240 lbs (109 kg) or more. \n",
    "\n",
    "Point Guards (PG, a.k.a. as \"play maker\") are expected to run the team's offense by controlling the ball and making sure that it gets to the right players at the right time. In the NBA, point guards are usually about 6' 3\" (1.93 m) or shorter, and average about 6' 2\" (1.88 m). Having above-average size (height, muscle) is considered advantageous, although size is secondary to situational awareness, speed, quickness, and ball handling skills. Shorter players tend to be better dribblers since they are closer to the floor, and thus have better control of the ball while dribbling. \n",
    "\n",
    "\n",
    "As it is clear from the description, the height and weight of the player are good hints to predict their role and in this lab we will exploit this features to estimate the role.\n",
    "\n",
    "\n",
    "### Three features are considered for this dataset:\n",
    "\n",
    "\n",
    "1) Height in cm\n",
    "\n",
    "2) Weight in kg\n",
    "\n",
    "3) Age in years"
   ]
  },
  {
   "cell_type": "markdown",
   "metadata": {},
   "source": [
    "We first import all the packages that are needed."
   ]
  },
  {
   "cell_type": "code",
   "execution_count": 1,
   "metadata": {},
   "outputs": [],
   "source": [
    "%matplotlib inline\n",
    "import matplotlib.pyplot as plt\n",
    "import csv\n",
    "import numpy as np\n",
    "import scipy as sp\n",
    "import sklearn as sl\n",
    "from scipy import stats\n",
    "from sklearn import datasets\n",
    "from sklearn import linear_model"
   ]
  },
  {
   "cell_type": "markdown",
   "metadata": {},
   "source": [
    "# Perceptron\n",
    "Firstly we will implement the perceptron algorithm and use it to learn a halfspace."
   ]
  },
  {
   "cell_type": "markdown",
   "metadata": {},
   "source": [
    "**TO DO** Set the random seed (you can use your ID (matricola) or any other number!)."
   ]
  },
  {
   "cell_type": "code",
   "execution_count": 2,
   "metadata": {},
   "outputs": [],
   "source": [
    "seed = 1\n",
    "np.random.seed(seed)"
   ]
  },
  {
   "cell_type": "markdown",
   "metadata": {},
   "source": [
    "Load the dataset and then split in training set and test set (the training set is typically larger, you can use a 70% tranining 30% test split) after applying a random permutation to the datset."
   ]
  },
  {
   "cell_type": "markdown",
   "metadata": {},
   "source": [
    "A) Load dataset and perform permutation"
   ]
  },
  {
   "cell_type": "code",
   "execution_count": 3,
   "metadata": {},
   "outputs": [
    {
     "name": "stdout",
     "output_type": "stream",
     "text": [
      "['Position', 'Height cm', 'kg', 'Age']\n",
      "260\n"
     ]
    }
   ],
   "source": [
    "\n",
    "filename = 'data/NBA.csv'\n",
    "NBA = csv.reader(open(filename, newline=''), delimiter=',')\n",
    "\n",
    "header = next(NBA) \n",
    "print(header)\n",
    "\n",
    "dataset = list(NBA)\n",
    "\n",
    "for i in range(len(dataset)):\n",
    "    dataset[i] = [int(x) for x in dataset[i]]\n",
    "    \n",
    "dataset = np.asarray(dataset)\n",
    "\n",
    "X = dataset[:,1:4] \n",
    "Y = dataset[:,0] \n",
    "\n",
    "\n",
    "Y = Y*2-1 \n",
    "\n",
    "m = dataset.shape[0]\n",
    "print(m)\n",
    "permutation = np.random.permutation(m)\n",
    "\n",
    "X = X[permutation]\n",
    "Y = Y[permutation]\n"
   ]
  },
  {
   "cell_type": "markdown",
   "metadata": {},
   "source": [
    "We are going to classify class \"1\" (Center) vs class \"-1\" (Point Guard)"
   ]
  },
  {
   "cell_type": "markdown",
   "metadata": {},
   "source": [
    "B) **TO DO** Divide the data into training set and test set (70% of the data in the first set, 30% in the second one)"
   ]
  },
  {
   "cell_type": "code",
   "execution_count": 4,
   "metadata": {},
   "outputs": [
    {
     "name": "stdout",
     "output_type": "stream",
     "text": [
      "[ 1  1 -1  1 -1 -1  1  1  1  1  1  1  1  1  1  1 -1  1  1 -1  1 -1  1  1\n",
      "  1  1  1 -1  1  1  1  1  1  1 -1 -1  1  1 -1  1  1  1 -1 -1  1 -1 -1 -1\n",
      " -1 -1 -1  1  1 -1 -1  1 -1  1 -1 -1  1 -1 -1  1  1  1 -1  1  1  1  1  1\n",
      "  1  1  1 -1  1 -1 -1 -1  1  1  1 -1 -1 -1  1  1 -1 -1 -1 -1  1  1  1  1\n",
      "  1  1  1 -1 -1  1 -1  1  1  1 -1 -1 -1  1  1  1 -1  1  1  1 -1  1  1  1\n",
      " -1  1 -1 -1  1 -1  1 -1  1 -1  1 -1  1  1 -1 -1 -1  1  1  1 -1  1  1 -1\n",
      "  1 -1 -1  1  1  1 -1 -1 -1 -1 -1 -1 -1  1  1  1 -1 -1  1  1  1 -1  1 -1\n",
      " -1 -1 -1  1 -1 -1  1  1 -1 -1  1  1 -1  1]\n",
      "78\n",
      "Shape of training set: (182, 3)\n",
      "Shape of test set: (78, 3)\n"
     ]
    }
   ],
   "source": [
    "\n",
    "m_training = int ( m * 0.7 ) \n",
    "m_test = int ( m * 0.3 )\n",
    "\n",
    "\n",
    "\n",
    "X_training = X[:m_training, :]\n",
    "Y_training = Y[:m_training]\n",
    "\n",
    "X_test = X[-m_test:, :]\n",
    "Y_test = Y[-m_test:]\n",
    "\n",
    "\n",
    "print(Y_training) \n",
    "print(m_test)\n",
    "\n",
    "print(\"Shape of training set: \" + str(X_training.shape))\n",
    "print(\"Shape of test set: \" + str(X_test.shape))"
   ]
  },
  {
   "cell_type": "markdown",
   "metadata": {},
   "source": [
    "We add a 1 in front of each sample so that we can use a vector in homogeneous coordinates to describe all the coefficients of the model. This can be done with the function $hstack$ in $numpy$."
   ]
  },
  {
   "cell_type": "code",
   "execution_count": 5,
   "metadata": {},
   "outputs": [],
   "source": [
    "\n",
    "X_training = np.hstack((np.ones((m_training,1)),X_training))\n",
    "X_test = np.hstack((np.ones((m_test,1)),X_test))\n",
    "\n"
   ]
  },
  {
   "cell_type": "markdown",
   "metadata": {},
   "source": [
    "**TO DO** Now complete the function *perceptron*. Since the perceptron does not terminate if the data is not linearly separable, your implementation should return the desired output (see below) if it reached the termination condition seen in class or if a maximum number of iterations have already been run, where one iteration corresponds to one update of the perceptron weights. In case the termination is reached because the maximum number of iterations have been completed, the implementation should return **the best model** seen up to now.\n",
    "\n",
    "The input parameters to pass are:\n",
    "- $X$: the matrix of input features, one row for each sample\n",
    "- $Y$: the vector of labels for the input features matrix X\n",
    "- $max\\_num\\_iterations$: the maximum number of iterations for running the perceptron\n",
    "\n",
    "The output values are:\n",
    "- $best\\_w$: the vector with the coefficients of the best model\n",
    "- $best\\_error$: the *fraction* of misclassified samples for the best model"
   ]
  },
  {
   "cell_type": "code",
   "execution_count": 6,
   "metadata": {},
   "outputs": [],
   "source": [
    "\n",
    "\n",
    "def perceptron_update(current_w, x, y):\n",
    "    \n",
    "    \n",
    "    new_w = current_w + y * x\n",
    "    \n",
    "\n",
    "    return new_w\n",
    "\n",
    "\n",
    "\n",
    "def perceptron(X, Y, max_num_iterations):\n",
    "    \n",
    "    curr_w = np.zeros(np.size(X_training, 1))\n",
    "    best_w = np.zeros(np.size(X_training, 1))\n",
    "    num_samples = len(X_training)\n",
    "    best_error = 1\n",
    "    vec_error = [] \n",
    "    index_misclassified = 0\n",
    "    num_misclassified = 0\n",
    "    \n",
    "    \n",
    "    \n",
    "    num_iter = 0\n",
    "    \n",
    "    while ((index_misclassified != -1) and (num_iter < max_num_iterations)):\n",
    "        \n",
    "        index_misclassified = -1\n",
    "        num_misclassified = 0\n",
    "        \n",
    "       \n",
    "        permutation = np.random.permutation(num_samples)\n",
    "        X = X[permutation]\n",
    "        Y = Y[permutation]\n",
    "       \n",
    "        \n",
    "        for i in range(num_samples):\n",
    "            \n",
    "                      \n",
    "            if ( Y[i] * np.dot ( X[i, :], curr_w )  <= 0 ):\n",
    "                \n",
    "\n",
    "            \n",
    "                num_misclassified += 1\n",
    "                index_misclassified = i\n",
    "                \n",
    "           \n",
    "        error =  num_misclassified / num_samples\n",
    "        vec_error.append(error)\n",
    "       \n",
    "        if  ( error ) < best_error:\n",
    "            best_error = error\n",
    "            best_w = curr_w\n",
    "            \n",
    "        \n",
    "    \n",
    "        num_iter += 1\n",
    "        \n",
    "        \n",
    "        \n",
    "        curr_w = perceptron_update( curr_w, X[index_misclassified], Y[index_misclassified] )\n",
    "    \n",
    "    \n",
    "    return best_w, best_error, vec_error"
   ]
  },
  {
   "cell_type": "markdown",
   "metadata": {},
   "source": [
    "Now we use the implementation above of the perceptron to learn a model from the training data using 100 iterations and print the error of the best model we have found."
   ]
  },
  {
   "cell_type": "code",
   "execution_count": 7,
   "metadata": {},
   "outputs": [
    {
     "name": "stdout",
     "output_type": "stream",
     "text": [
      "[  -6. -319.  684. -202.]\n",
      "Training Error of perpceptron (100 iterations): 0.09340659340659341\n"
     ]
    }
   ],
   "source": [
    "\n",
    "w_found, error, vec_error100 = perceptron(X_training,Y_training, 100)\n",
    "print(w_found)\n",
    "print(\"Training Error of perpceptron (100 iterations): \" + str(error))"
   ]
  },
  {
   "cell_type": "markdown",
   "metadata": {},
   "source": [
    "**TO DO** use the best model $w\\_found$ to predict the labels for the test dataset and print the fraction of misclassified samples in the test set (the test error that is an estimate of the true loss)."
   ]
  },
  {
   "cell_type": "code",
   "execution_count": 8,
   "metadata": {},
   "outputs": [
    {
     "name": "stdout",
     "output_type": "stream",
     "text": [
      "Test Error of perpceptron (100 iterations): 0.14102564102564102\n"
     ]
    }
   ],
   "source": [
    "num_errors = 0\n",
    "\n",
    "\n",
    "for i in range( len( X_test ) ):\n",
    "    predicted_label = np.sign ( np.dot ( w_found, X_test[i, :] ))\n",
    "    \n",
    "    if predicted_label != Y_test[i]:\n",
    "        num_errors += 1\n",
    "        \n",
    "\n",
    "\n",
    "true_loss_estimate = num_errors/m_test  \n",
    "print(\"Test Error of perpceptron (100 iterations): \" + str(true_loss_estimate))"
   ]
  },
  {
   "cell_type": "markdown",
   "metadata": {},
   "source": [
    "**TO DO** **[Answer the following]** What about the difference betweeen the training error and the test error  in terms of fraction of misclassified samples)? Explain what you observe. [Write the answer in this cell]\n",
    "\n",
    "**ANSWER QUESTION 1**\n",
    "\n",
    "Training Error of perpceptron (100 iterations): 0.09340659340659341\n",
    "\n",
    "Test Error of perpceptron (100 iterations): 0.14102564102564102\n",
    "\n",
    "We have that test error is about 150% of training error, so the expectation to have a larger error on test set is satisfied"
   ]
  },
  {
   "cell_type": "markdown",
   "metadata": {},
   "source": [
    "**TO DO** Copy the code from the last 2 cells above in the cell below and repeat the training with 3000 iterations. Then print the error in the training set and the estimate of the true loss obtained from the test set."
   ]
  },
  {
   "cell_type": "code",
   "execution_count": 9,
   "metadata": {
    "scrolled": false
   },
   "outputs": [
    {
     "name": "stdout",
     "output_type": "stream",
     "text": [
      "[  -2. -191.  405.  -47.]\n",
      "Training Error of perpceptron (3000 iterations): 0.06043956043956044\n",
      "Test Error of perpceptron (3000 iterations): 0.11538461538461539\n"
     ]
    }
   ],
   "source": [
    "\n",
    "w_found, error, vec_error3000 = perceptron(X_training,Y_training, 3000)\n",
    "print(w_found)\n",
    "print(\"Training Error of perpceptron (3000 iterations): \" + str(error))\n",
    "\n",
    "\n",
    "num_errors = 0\n",
    "\n",
    "for i in range( len( X_test ) ):\n",
    "    predicted_label = np.sign ( np.dot ( w_found, X_test[i, :] ))\n",
    "    \n",
    "    if predicted_label != Y_test[i]:\n",
    "        num_errors += 1\n",
    "        \n",
    "\n",
    "\n",
    "true_loss_estimate = num_errors/m_test \n",
    "print(\"Test Error of perpceptron (3000 iterations): \" + str(true_loss_estimate))"
   ]
  },
  {
   "cell_type": "markdown",
   "metadata": {},
   "source": [
    "**TO DO** [Answer the following] What about the difference betweeen the training error and the test error  in terms of fraction of misclassified samples) when running for a larger number of iterations ? Explain what you observe and compare with the previous case. [Write the answer in this cell]\n",
    "\n",
    "**ANSWER QUESTION 2**\n",
    "\n",
    "Training Error of perpceptron (100 iterations): 0.09340659340659341\n",
    "\n",
    "Test Error of perpceptron (100 iterations): 0.14102564102564102\n",
    "\n",
    "Training Error of perpceptron (3000 iterations): 0.06043956043956044\n",
    "\n",
    "Test Error of perpceptron (3000 iterations): 0.11538461538461539\n",
    "\n",
    "\n",
    "The test error is still larger than the training error, as we would expect.\n",
    "As we can see, increasing the number of iterations returns better accuracy both on the training and the test sets"
   ]
  },
  {
   "cell_type": "markdown",
   "metadata": {},
   "source": [
    "# Logistic Regression\n",
    "Now we use logistic regression, exploiting the implementation in Scikit-learn, to predict labels. We will also plot the decision region of logistic regression.\n",
    "\n",
    "We first load the dataset again."
   ]
  },
  {
   "cell_type": "code",
   "execution_count": 10,
   "metadata": {},
   "outputs": [
    {
     "name": "stdout",
     "output_type": "stream",
     "text": [
      "['Position', 'Height cm', 'kg', 'Age']\n"
     ]
    }
   ],
   "source": [
    "filename = 'data/NBA.csv'\n",
    "NBA = csv.reader(open(filename, newline=''), delimiter=',')\n",
    "\n",
    "header = next(NBA)\n",
    "print(header)\n",
    "\n",
    "dataset = list(NBA)\n",
    "for i in range(len(dataset)):\n",
    "    dataset[i] = [int(x) for x in dataset[i]]\n",
    "    \n",
    "dataset = np.asarray(dataset)\n",
    "\n",
    "X = dataset[:,1:]\n",
    "Y = dataset[:,0]\n",
    "\n",
    "Y = Y*2-1  \n",
    "\n",
    "m = dataset.shape[0]\n",
    "permutation = np.random.permutation(m)\n",
    "\n",
    "X = X[permutation]\n",
    "Y = Y[permutation]"
   ]
  },
  {
   "cell_type": "markdown",
   "metadata": {},
   "source": [
    "**TO DO** As for the previous part, divide the data into training and test (70%-30%) and add a 1 as first component to each sample."
   ]
  },
  {
   "cell_type": "code",
   "execution_count": 11,
   "metadata": {},
   "outputs": [
    {
     "name": "stdout",
     "output_type": "stream",
     "text": [
      "[ 1  1  1 -1 -1  1  1 -1  1 -1  1 -1 -1  1  1 -1 -1 -1  1  1 -1 -1  1  1\n",
      "  1  1  1 -1 -1 -1  1 -1  1  1  1 -1 -1 -1  1  1  1 -1  1  1 -1 -1  1 -1\n",
      "  1  1  1  1 -1  1  1  1  1 -1 -1 -1 -1 -1 -1  1 -1 -1  1  1  1  1 -1  1\n",
      "  1 -1  1 -1  1 -1 -1 -1  1  1  1 -1  1 -1  1 -1  1  1 -1  1  1  1 -1 -1\n",
      " -1  1  1 -1  1 -1  1  1  1  1  1 -1 -1  1 -1  1 -1  1 -1 -1 -1 -1  1 -1\n",
      " -1 -1  1  1 -1  1  1  1  1  1  1  1  1 -1 -1 -1 -1 -1 -1  1  1 -1  1  1\n",
      " -1  1 -1  1 -1  1 -1  1 -1  1 -1  1  1  1  1  1  1 -1 -1  1 -1 -1  1  1\n",
      " -1 -1 -1 -1  1 -1 -1 -1  1  1  1 -1  1 -1]\n",
      "78\n",
      "Shape of training set: (182, 3)\n",
      "Shape of test set: (78, 3)\n"
     ]
    }
   ],
   "source": [
    "m_training = int ( m * 0.7 ) \n",
    "\n",
    "\n",
    "m_test = int ( m * 0.3 )\n",
    "\n",
    "\n",
    "\n",
    "\n",
    "X_training = X[:m_training, :]\n",
    "Y_training = Y[:m_training]\n",
    "\n",
    "X_test = X[-m_test:, :]\n",
    "Y_test = Y[-m_test:]\n",
    "\n",
    "\n",
    "print(Y_training) \n",
    "print(m_test)\n",
    "\n",
    "print(\"Shape of training set: \" + str(X_training.shape))\n",
    "print(\"Shape of test set: \" + str(X_test.shape))\n",
    "\n",
    "\n",
    "X_training = np.hstack((np.ones((m_training,1)),X_training))\n",
    "X_test = np.hstack((np.ones((m_test,1)),X_test))"
   ]
  },
  {
   "cell_type": "markdown",
   "metadata": {},
   "source": [
    "To define a logistic regression model in Scikit-learn use the instruction\n",
    "\n",
    "$linear\\_model.LogisticRegression(C=1e5)$\n",
    "\n",
    "($C$ is a parameter related to *regularization*, a technique that\n",
    "we will see later in the course. Setting it to a high value is almost\n",
    "as ignoring regularization, so the instruction above corresponds to the\n",
    "logistic regression you have seen in class.)\n",
    "\n",
    "To learn the model you need to use the $fit(...)$ instruction and to predict you need to use the $predict(...)$ function. See the Scikit-learn documentation for how to use it.\n",
    "\n",
    "**TO DO** Define the logistic regression model, then learn the model using the training set and predict on the test set. Then print the fraction of samples misclassified in the training set and in the test set."
   ]
  },
  {
   "cell_type": "code",
   "execution_count": 12,
   "metadata": {},
   "outputs": [
    {
     "name": "stdout",
     "output_type": "stream",
     "text": [
      "Error rate on training set: 0.07142857142857142\n",
      "Error rate on test set: 0.07692307692307693\n"
     ]
    }
   ],
   "source": [
    "\n",
    "logreg = linear_model.LogisticRegression(C=1e5) \n",
    "logreg.fit(X_training, Y_training)\n",
    "train_predict = logreg.predict( X_training )\n",
    "\n",
    "\n",
    "\n",
    "num_error_training = 0\n",
    "\n",
    "for i in range(m_training):\n",
    "    if train_predict[i] != Y_training[i]:\n",
    "        num_error_training += 1\n",
    "        \n",
    "        \n",
    "        \n",
    "error_rate_training = num_error_training / m_training       \n",
    "\n",
    "\n",
    "\n",
    "print(\"Error rate on training set: \"+str(error_rate_training))\n",
    "\n",
    "\n",
    "test_predict = logreg.predict( X_test )\n",
    "\n",
    "num_error_test = 0\n",
    "\n",
    "for i in range(m_test):\n",
    "    if test_predict[i] != Y_test[i]:\n",
    "        num_error_test += 1\n",
    "        \n",
    "\n",
    "\n",
    "error_rate_test = num_error_test / m_test\n",
    "print(\"Error rate on test set: \" + str(error_rate_test))"
   ]
  },
  {
   "cell_type": "markdown",
   "metadata": {},
   "source": [
    "**TO DO** Now pick two features and restrict the dataset to include only two features, whose indices are specified in the $feature$ vector below. Then split into training and test. Which features are you going to select ?"
   ]
  },
  {
   "cell_type": "code",
   "execution_count": 13,
   "metadata": {},
   "outputs": [],
   "source": [
    "\n",
    "features_list = ['height', 'weight', 'age']\n",
    "labels_list = ['Center', 'Point guard']\n",
    "\n",
    "\n",
    "index_feature1 = 0 \n",
    "index_feature2 = 1\n",
    "features = [index_feature1, index_feature2]\n",
    "\n",
    "feature_name0 = features_list[features[0]]\n",
    "feature_name1 = features_list[features[1]]\n",
    "\n",
    "X_reduced = X[:,features]\n",
    "\n",
    "\n",
    "\n",
    "X_training = X_reduced[:m_training, :]\n",
    "Y_training = Y[:m_training]\n",
    "\n",
    "X_test = X_reduced[-m_test:, :]\n",
    "Y_test = Y[-m_test:]"
   ]
  },
  {
   "cell_type": "markdown",
   "metadata": {},
   "source": [
    "Now learn a model using the training data and measure the performances."
   ]
  },
  {
   "cell_type": "code",
   "execution_count": 14,
   "metadata": {},
   "outputs": [
    {
     "name": "stdout",
     "output_type": "stream",
     "text": [
      "Error rate on test set: 0.07692307692307693\n"
     ]
    }
   ],
   "source": [
    "\n",
    "\n",
    "logreg.fit( X_training, Y_training )\n",
    "reduced_train_predict = logreg.predict(X_training)\n",
    "\n",
    "\n",
    "test_predict = logreg.predict( X_test )\n",
    "\n",
    "num_error_test = 0\n",
    "\n",
    "for i in range(m_test):\n",
    "    if test_predict[i] != Y_test[i]:\n",
    "        num_error_test += 1\n",
    "        \n",
    "\n",
    "error_rate_test = num_error_test / m_test\n",
    "print(\"Error rate on test set: \" + str(error_rate_test))"
   ]
  },
  {
   "cell_type": "markdown",
   "metadata": {},
   "source": [
    "**TO DO** [Answer the following] Which features did you select and why ? Compare the perfromances with the ones of the case with all the 3 features and comment about the results. [Write the answer in this cell]\n",
    "\n",
    "**ANSWER QUESTION 3**\n",
    "The performances obtained selecting all of the three features are:\n",
    "\n",
    "Error rate on training set: 0.07142857142857142\n",
    "\n",
    "Error rate on test set: 0.07692307692307693\n",
    "\n",
    "Whereas selecting the two most significant features (height and weight) we obtain:\n",
    "\n",
    "Error rate on test set: 0.07692307692307693\n",
    "\n",
    "This highlight how age essentially isn't involved in data prediction since it has almost no correlation with the player role.\n",
    "\n",
    "Whereas, if we choose e.g. to select height and age as the subset of features to train our algorithm, we obtain an error rate on test set: 0.28205128205128205, with  an error rate increase of about 400%: it shows that  choosing a subset of features that does not represent properly the correlation with the label will lead to 'casual' predictions, increasing error rate\n"
   ]
  },
  {
   "cell_type": "markdown",
   "metadata": {},
   "source": [
    "If everything is ok, the code below uses the model in $logreg$ to plot the decision region for the two features chosen above, with colors denoting the predicted value. It also plots the points (with correct labels) in the training set. It makes a similar plot for the test set."
   ]
  },
  {
   "cell_type": "code",
   "execution_count": 15,
   "metadata": {
    "scrolled": true
   },
   "outputs": [
    {
     "data": {
      "image/png": "[encoded data removed]",
      "text/plain": [
       "<Figure size 288x216 with 1 Axes>"
      ]
     },
     "metadata": {},
     "output_type": "display_data"
    },
    {
     "data": {
      "image/png": "[encoded data removed]",
      "text/plain": [
       "<Figure size 288x216 with 1 Axes>"
      ]
     },
     "metadata": {},
     "output_type": "display_data"
    }
   ],
   "source": [
    "\n",
    "\n",
    "h = .02  \n",
    "x_min, x_max = X_reduced[:, 0].min() - .5, X_reduced[:, 0].max() + .5\n",
    "y_min, y_max = X_reduced[:, 1].min() - .5, X_reduced[:, 1].max() + .5\n",
    "xx, yy = np.meshgrid(np.arange(x_min, x_max, h), np.arange(y_min, y_max, h))\n",
    "\n",
    "Z = logreg.predict(np.c_[xx.ravel(), yy.ravel()])\n",
    "\n",
    "\n",
    "Z = Z.reshape(xx.shape)\n",
    "\n",
    "plt.figure(1, figsize=(4, 3))\n",
    "plt.pcolormesh(xx, yy, Z, cmap=plt.cm.Paired, shading = 'auto')\n",
    "\n",
    "\n",
    "plt.scatter(X_training[:, 0], X_training[:, 1], c=Y_training, edgecolors='k', cmap=plt.cm.Paired)\n",
    "plt.xlabel(feature_name0)\n",
    "plt.ylabel(feature_name1)\n",
    "\n",
    "plt.xlim(xx.min(), xx.max())\n",
    "plt.ylim(yy.min(), yy.max())\n",
    "plt.xticks(())\n",
    "plt.yticks(())\n",
    "plt.title('Training set')\n",
    "\n",
    "plt.show()\n",
    "\n",
    "\n",
    "Z = Z.reshape(xx.shape)\n",
    "plt.figure(1, figsize=(4, 3))\n",
    "plt.pcolormesh(xx, yy, Z, cmap=plt.cm.Paired, shading='auto')\n",
    "\n",
    "\n",
    "plt.scatter(X_test[:, 0], X_test[:, 1], c=Y_test, edgecolors='k', cmap=plt.cm.Paired, marker='s')\n",
    "plt.xlabel(feature_name0)\n",
    "plt.ylabel(feature_name1)\n",
    "\n",
    "plt.xlim(xx.min(), xx.max())\n",
    "plt.ylim(yy.min(), yy.max())\n",
    "plt.xticks(())\n",
    "plt.yticks(())\n",
    "plt.title('Test set')\n",
    "\n",
    "plt.show()"
   ]
  },
  {
   "cell_type": "markdown",
   "metadata": {},
   "source": [
    "# 2) Linear Regression on the Boston House Price dataset\n",
    "\n",
    "Dataset description: <br>\n",
    "The Boston House Price Dataset involves the prediction of a house price in thousands of dollars given details about the house and its neighborhood.\n",
    "\n",
    "The dataset contains a total of 500 observations, which relate 13 input features to an output variable (house price).\n",
    "\n",
    "The variable names are as follows:\n",
    "\n",
    "CRIM: per capita crime rate by town.\n",
    "\n",
    "ZN: proportion of residential land zoned for lots over 25,000 sq.ft.\n",
    "\n",
    "INDUS: proportion of nonretail business acres per town.\n",
    "\n",
    "CHAS: Charles River dummy variable (= 1 if tract bounds river; 0 otherwise).\n",
    "\n",
    "NOX: nitric oxides concentration (parts per 10 million).\n",
    "\n",
    "RM: average number of rooms per dwelling.\n",
    "\n",
    "AGE: proportion of owner-occupied units built prior to 1940.\n",
    "\n",
    "DIS: weighted distances to five Boston employment centers.\n",
    "\n",
    "RAD: index of accessibility to radial highways.\n",
    "\n",
    "TAX: full-value property-tax rate per $10,000.\n",
    "\n",
    "PTRATIO: pupil-teacher ratio by town.\n",
    "\n",
    "B: 1000*(Bk – 0.63)2 where Bk is the proportion of blacks by town.\n",
    "\n",
    "LSTAT: % lower status of the population.\n",
    "\n",
    "MEDV: Median value of owner-occupied homes in $1000s.\n",
    "    "
   ]
  },
  {
   "cell_type": "code",
   "execution_count": 16,
   "metadata": {},
   "outputs": [],
   "source": [
    "\n",
    "%matplotlib nbagg  \n",
    "\n",
    "import matplotlib.pyplot as plt\n",
    "import numpy as np\n",
    "import scipy as sp\n",
    "from scipy import stats"
   ]
  },
  {
   "cell_type": "code",
   "execution_count": 17,
   "metadata": {},
   "outputs": [
    {
     "name": "stdout",
     "output_type": "stream",
     "text": [
      "Shape of data array: (500, 14)\n"
     ]
    }
   ],
   "source": [
    "\n",
    "\n",
    "filename = \"data/house.csv\"\n",
    "Data = np.genfromtxt(filename, delimiter=';',skip_header=1)\n",
    "\n",
    "dataDescription = stats.describe(Data)\n",
    "\n",
    "print (\"Shape of data array: \" + str(Data.shape))\n"
   ]
  },
  {
   "cell_type": "markdown",
   "metadata": {},
   "source": [
    "# Split data in training, validation and test sets\n",
    "\n",
    "\n",
    "\n",
    "Given $m$ total data, denote with $m_{tv}$ the part used for training and validation. Keep $m_t$ data as training data, $m_{val}:=m_{tv}-m_t$ as validation data and $m_{test}:=m - m_{val} - m_t = m-m_{tv}$. For instance one can take $m_t=0.6m$ of the data as training, $m_{val}=0.2m$  validation and $m_{test}=0.2m$ as testing. Let us define as define\n",
    "\n",
    "$\\bullet$ $S_{t}$ the training data set\n",
    "\n",
    "$\\bullet$ $S_{val}$ the validation data set\n",
    "\n",
    "$\\bullet$ $S_{test}$ the testing data set\n",
    "\n",
    "\n",
    "The reason for this splitting is as follows:\n",
    "\n",
    "TRAINING DATA: The training data are used to compute the empirical loss\n",
    "$$\n",
    "L_S(h) = \\frac{1}{m_t} \\sum_{z_i \\in S_{t}} \\ell(h,z_i)\n",
    "$$\n",
    "which is used to estimate $h$ in a given model class ${\\cal H}$.\n",
    "i.e. \n",
    "$$\n",
    "\\hat{h} = {\\rm arg\\; min}_{h \\in {\\cal H}} \\, L_S(h)\n",
    "$$\n",
    "\n",
    "VALIDATION DATA: When different model classes are present (e.g. of different complexity such as linear regression which uses a different number $d_j$ of regressors $x_1$,...$x_{d_j}$), one has to choose which one is the \"best\" complexity. In this simple example the validation set is not needed, but it is better to get used with it.\n",
    "Let ${\\cal H}_{d_j}$ be the space of models as a function of the complexity $d_j$ and let \n",
    "$$\n",
    "\\hat h_{d_j} = {\\rm arg\\; min}_{h \\in {\\cal H}_{d_j}} \\, L_S(h)\n",
    "$$\n",
    "\n",
    "One can estimate the generalization error for model $\\hat h_{d_j}$ as follows:\n",
    "$$\n",
    "L_{{\\cal D}}(\\hat h_{d_j}) \\simeq \\frac{1}{m_{val}} \\sum_{ z_i \\in S_{val}} \\ell(\\hat h_{d_j},z_i)\n",
    "$$\n",
    "and then choose the complexity which achieves the best estimate of the generalization error\n",
    "$$\n",
    "\\hat d_j: = {\\rm arg\\; min}_{d_j} \\,\\frac{1}{m_{val}} \\sum_{ z_i \\in S_{val}} \\ell(\\hat h_{d_j},z_i)\n",
    "$$\n",
    "\n",
    "TESTING DATA: Last, the test data set can be used to estimate the performance of the final estimated model\n",
    "$\\hat h_{\\hat d_j}$ using:\n",
    "$$\n",
    "L_{{\\cal D}}(\\hat h_{\\hat d_j}) \\simeq \\frac{1}{m_{test}} \\sum_{ z_i \\in S_{test}} \\ell(\\hat h_{\\hat d_j},z_i)\n",
    "$$\n",
    "\n",
    "\n",
    "**TO DO**: split the data in training, validation and test sets (60%-20%-20%)"
   ]
  },
  {
   "cell_type": "code",
   "execution_count": 18,
   "metadata": {},
   "outputs": [
    {
     "name": "stdout",
     "output_type": "stream",
     "text": [
      "Total number of samples:  500\n",
      "Size of each chunk of data:  100\n",
      "Training input data size:  (300, 13)\n",
      "Training output data size:  (300,)\n",
      "Validation input data size:  (100, 13)\n",
      "Validation output data size:  (100,)\n",
      "Test input data size:  (100, 13)\n",
      "Test output data size:  (100,)\n"
     ]
    }
   ],
   "source": [
    "\n",
    "num_total_samples = Data.shape[0]\n",
    "\n",
    "print (\"Total number of samples: \", num_total_samples)\n",
    "\n",
    "\n",
    "size_chunk = int (1 / 5 * num_total_samples)\n",
    "\n",
    "print (\"Size of each chunk of data: \", size_chunk)\n",
    "\n",
    "\n",
    "np.random.shuffle(Data)\n",
    "np.random.shuffle(Data)\n",
    "np.random.shuffle(Data)\n",
    "\n",
    "X_training = Data[:3*size_chunk, :-1]\n",
    "Y_training = Data[:3*size_chunk, -1]\n",
    "print (\"Training input data size: \", X_training.shape)\n",
    "print (\"Training output data size: \", Y_training.shape)\n",
    "\n",
    "\n",
    "X_validation = Data[3*size_chunk: -size_chunk, 0:13]\n",
    "Y_validation = Data[3*size_chunk: -size_chunk, 13]\n",
    "print (\"Validation input data size: \", X_validation.shape)\n",
    "print (\"Validation output data size: \", Y_validation.shape)\n",
    "\n",
    "\n",
    "X_test = Data[-size_chunk:, 0:13] \n",
    "Y_test = Data[-size_chunk:, 13]\n",
    "print (\"Test input data size: \", X_test.shape)\n",
    "print (\"Test output data size: \", Y_test.shape)"
   ]
  },
  {
   "cell_type": "markdown",
   "metadata": {},
   "source": [
    "# Data Normalization\n",
    "It is common practice in Statistics and Machine Learning to scale the data (= each variable) so that it is centered (zero mean) and has standard deviation equal to 1. This helps in terms of numerical conditioning of the (inverse) problems of estimating the model (the coefficients of the linear regression in this case), as well as to give the same scale to all the coefficients."
   ]
  },
  {
   "cell_type": "code",
   "execution_count": 19,
   "metadata": {},
   "outputs": [
    {
     "name": "stdout",
     "output_type": "stream",
     "text": [
      "Mean of the training input data: [-3.85802501e-16 -1.18423789e-17  2.53454665e-15 -2.87547763e-16\n",
      " -1.84352533e-15  8.84847751e-16  1.47659662e-15  3.48239955e-16\n",
      " -4.44089210e-17 -1.54922371e-16  1.71375876e-14  3.72729625e-15\n",
      "  3.07716815e-16]\n",
      "Std of the training input data: [1. 1. 1. 1. 1. 1. 1. 1. 1. 1. 1. 1. 1.]\n",
      "Mean of the validation input data: [-0.10260765  0.03347005 -0.06774001 -0.03686049 -0.05282948  0.13489624\n",
      " -0.1084581   0.1544932  -0.03257196 -0.02564366 -0.04158065  0.12420671\n",
      " -0.06755974]\n",
      "Std of the validation input data: [0.64442543 0.89019941 0.98620119 0.94048438 1.0770649  1.0296141\n",
      " 1.03647502 1.07492873 0.96279793 0.96013915 0.93648701 0.83066232\n",
      " 0.99945226]\n",
      "Mean of the test input data: [-0.1454936   0.12617328  0.04499367 -0.14744196 -0.1500261  -0.02597775\n",
      " -0.12073367  0.07312458 -0.17409149 -0.0426103   0.00967695  0.08034404\n",
      " -0.13069137]\n",
      "Std of the test input data: [0.63926286 1.22797317 1.11402363 0.72231512 0.96747068 0.92950327\n",
      " 1.02397972 0.95671032 0.91211159 0.94245975 0.96075902 0.80066415\n",
      " 0.91753666]\n"
     ]
    }
   ],
   "source": [
    "\n",
    "from sklearn import preprocessing\n",
    "\n",
    "scaler = preprocessing.StandardScaler().fit(X_training) \n",
    "\n",
    "X_training = scaler.transform(X_training)\n",
    "print (\"Mean of the training input data:\", X_training.mean(axis=0))\n",
    "print (\"Std of the training input data:\",X_training.std(axis=0))\n",
    "\n",
    "X_validation = scaler.transform(X_validation) \n",
    "print (\"Mean of the validation input data:\", X_validation.mean(axis=0))\n",
    "print (\"Std of the validation input data:\", X_validation.std(axis=0))\n",
    "\n",
    "X_test = scaler.transform(X_test) \n",
    "print (\"Mean of the test input data:\", X_test.mean(axis=0))\n",
    "print (\"Std of the test input data:\", X_test.std(axis=0))"
   ]
  },
  {
   "cell_type": "markdown",
   "metadata": {},
   "source": [
    "# Model Training \n",
    "\n",
    "The model is trained (= estimated) minimizing the empirical error\n",
    "$$\n",
    "L_S(h) := \\frac{1}{m_t} \\sum_{z_i \\in S_{t}} \\ell(h,z_i)\n",
    "$$\n",
    "When the loss function is the quadratic loss\n",
    "$$\n",
    "\\ell(h,z) := (y - h(x))^2\n",
    "$$\n",
    "we define  the Residual Sum of Squares (RSS) as\n",
    "$$\n",
    "RSS(h):= \\sum_{z_i \\in S_{t}} \\ell(h,z_i) = \\sum_{z_i \\in S_{t}} (y_i - h(x_i))^2\n",
    "$$ so that the training error becomes\n",
    "$$\n",
    "L_S(h) = \\frac{RSS(h)}{m_t}\n",
    "$$\n",
    "\n",
    "We recal that, for linear models we have $h(x) = <w,x>$ and the Empirical error $L_S(h)$ can be written\n",
    "in terms of the vector of parameters $w$ in the form\n",
    "$$\n",
    "L_S(w) = \\frac{1}{m_t} \\|Y - X w\\|^2\n",
    "$$\n",
    "where $Y$ and $X$ are the matrices whose $i-$th row are, respectively, the output data $y_i$ and the input vectors $x_i^\\top$.\n",
    "\n",
    "\n",
    " **TO DO:** compute the linear regression coefficients using np.linalg.lstsq from scikitlear \n",
    " "
   ]
  },
  {
   "cell_type": "code",
   "execution_count": 20,
   "metadata": {},
   "outputs": [
    {
     "name": "stdout",
     "output_type": "stream",
     "text": [
      "LS coefficients with numpy lstsq: [222.30666667 -10.17805401  11.23704346  -1.1457231   10.8825001\n",
      " -22.69385812  33.44501953  -0.97626883 -29.33216893  31.17284855\n",
      " -22.96919483 -20.88832116   9.9261344  -28.81626823]\n",
      "RSS with numpy lstsq:  [630077.22137567]\n",
      "Empirical risk with numpy lstsq: [2100.25740459]\n",
      "Empirical risk implemented through formula: 2100.2574045855517\n"
     ]
    }
   ],
   "source": [
    "\n",
    "m_training = X_training.shape[0]\n",
    "X_trainingH = np.hstack((np.ones((m_training,1)),X_training)) \n",
    "\n",
    "m_validation = X_validation.shape[0]\n",
    "X_validationH = np.hstack((np.ones((m_validation,1)),X_validation)) \n",
    "\n",
    "m_test = X_test.shape[0]\n",
    "X_testH = np.hstack((np.ones((m_test,1)),X_test))  \n",
    "\n",
    "\n",
    "w_np, RSStr_np, rank_Xtr, sv_Xtr =  np.linalg.lstsq ( X_trainingH, Y_training, rcond=None )\n",
    "print(\"LS coefficients with numpy lstsq:\", w_np)\n",
    "\n",
    "\n",
    "\n",
    "RSStr_hand = np.power (np.linalg.norm(Y_training - np.dot (X_trainingH, w_np)), 2) \n",
    "\n",
    "print(\"RSS with numpy lstsq: \", RSStr_np)\n",
    "print(\"Empirical risk with numpy lstsq:\", RSStr_np/m_training)\n",
    "print(\"Empirical risk implemented through formula:\",  RSStr_hand / m_training)"
   ]
  },
  {
   "cell_type": "markdown",
   "metadata": {},
   "source": [
    "## Data prediction \n",
    "\n",
    "Compute the output predictions on both training and validation set and compute the Residual Sum of Sqaures (RSS). \n",
    "\n",
    "**TO DO**: Compute these quantities on  training, validation and test sets."
   ]
  },
  {
   "cell_type": "code",
   "execution_count": 21,
   "metadata": {},
   "outputs": [
    {
     "name": "stdout",
     "output_type": "stream",
     "text": [
      "RSS on validation data: 274210.1062613988\n",
      "Loss estimated from validation data: 2742.1010626139882\n",
      "RSS on test data: 225348.14997566733\n",
      "Loss estimated from test data: 2253.481499756673\n"
     ]
    }
   ],
   "source": [
    "prediction_training = np.dot(X_trainingH, w_np)\n",
    "prediction_validation = np.dot(X_validationH, w_np)\n",
    "prediction_test = np.dot(X_testH, w_np)\n",
    "\n",
    "\n",
    "RSS_validation = np.power (np.linalg.norm(Y_validation - np.dot (X_validationH, w_np)), 2) \n",
    "RSS_test = np.power (np.linalg.norm(Y_test - np.dot (X_testH, w_np)), 2)\n",
    "\n",
    "print(\"RSS on validation data:\",  RSS_validation)\n",
    "print(\"Loss estimated from validation data:\", RSS_validation/m_validation)\n",
    "\n",
    "print(\"RSS on test data:\",  RSS_test)\n",
    "print(\"Loss estimated from test data:\", RSS_test/m_test)"
   ]
  },
  {
   "cell_type": "markdown",
   "metadata": {},
   "source": [
    "### QUESTION 4: Comment on the results you get and on the difference between the train, validation and test errors.\n",
    "\n",
    "Loss estimated from training data: 2100.2574045855517\n",
    "\n",
    "Loss estimated from validation data: 2742.1010626139882\n",
    "\n",
    "Loss estimated from test data: 2253.481499756673\n",
    "\n",
    "We can see that the loss on training data is smaller than the losses on validation and test sets, satisfying our expectations.\n",
    "On the other hand, validation and test sets losses show no substantial difference (about 5%) since they are basically two test sub-sets, as we didn't use the validation set for any selection.\n",
    "\n"
   ]
  },
  {
   "cell_type": "markdown",
   "metadata": {},
   "source": [
    "## Ordinary Least-Squares using scikit-learn\n",
    "Another fast way to compute the LS estimate is through sklearn.linear_model (for this function homogeneous coordinates are not needed)."
   ]
  },
  {
   "cell_type": "code",
   "execution_count": 22,
   "metadata": {},
   "outputs": [
    {
     "name": "stdout",
     "output_type": "stream",
     "text": [
      "Intercept: [222.30666667]\n",
      "Least-Squares Coefficients: [[-10.17805401  11.23704346  -1.1457231   10.8825001  -22.69385812\n",
      "   33.44501953  -0.97626883 -29.33216893  31.17284855 -22.96919483\n",
      "  -20.88832116   9.9261344  -28.81626823]]\n",
      "Measure on training data: 0.23270864425803728\n"
     ]
    }
   ],
   "source": [
    "from sklearn import linear_model\n",
    "\n",
    "\n",
    "LinReg = sl.linear_model.LinearRegression().fit( X_training.reshape(-1, 13), Y_training.reshape(-1,1))\n",
    "\n",
    "\n",
    "\n",
    "print(\"Intercept:\", LinReg.intercept_)\n",
    "print(\"Least-Squares Coefficients:\", LinReg.coef_)\n",
    "\n",
    "\n",
    "Y_training_linreg = LinReg.intercept_ + np.dot( X_training, LinReg.coef_.reshape(-1,1))\n",
    "Y_test_linreg =  LinReg.intercept_ + np.dot( X_test, LinReg.coef_.reshape(-1,1))\n",
    "\n",
    "print(\"Measure on training data:\", 1-LinReg.score(X_training, Y_training))"
   ]
  }
 ],
 "metadata": {
  "anaconda-cloud": {},
  "kernelspec": {
   "display_name": "Python 3",
   "language": "python",
   "name": "python3"
  },
  "language_info": {
   "codemirror_mode": {
    "name": "ipython",
    "version": 3
   },
   "file_extension": ".py",
   "mimetype": "text/x-python",
   "name": "python",
   "nbconvert_exporter": "python",
   "pygments_lexer": "ipython3",
   "version": "3.6.9"
  }
 },
 "nbformat": 4,
 "nbformat_minor": 2
}
