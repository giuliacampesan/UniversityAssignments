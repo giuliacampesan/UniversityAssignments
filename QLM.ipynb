{
 "cells": [
  {
   "cell_type": "code",
   "execution_count": 1,
   "metadata": {},
   "outputs": [],
   "source": [
    "import numpy as np\n",
    "import numpy.random as npr\n",
    "from IPython.display import Latex"
   ]
  },
  {
   "cell_type": "code",
   "execution_count": 2,
   "metadata": {},
   "outputs": [
    {
     "name": "stdout",
     "output_type": "stream",
     "text": [
      "[ 0.5 -0.5  0.5  0.5 -0.5 -0.5 -0.5  0.5 -0.5 -0.5  0.5  0.5]\n",
      "[-0.5  0.5  0.5  0.5  0.5 -0.5  0.5  0.5  0.5 -0.5 -0.5  0.5]\n"
     ]
    }
   ],
   "source": [
    "npr.seed(10)\n",
    "\n",
    "sites = np.ones(12)*1/2*np.sign(npr.random(12)-0.5)\n",
    "links = np.ones(12)*1/2*np.sign(npr.random(12)-0.5)\n",
    "print(sites)\n",
    "print(links)"
   ]
  },
  {
   "cell_type": "code",
   "execution_count": 3,
   "metadata": {},
   "outputs": [],
   "source": [
    "leg_sites = {\n",
    "    1/2 : '$\\circ$',\n",
    "    -1/2 : '$\\\\bullet$'\n",
    "}\n",
    "\n",
    "leg_links = {\n",
    "    1/2 : '$\\leftarrow$',\n",
    "    -1/2 : '$\\\\rightarrow$'\n",
    "}\n",
    "\n",
    "def Visualize(sites, links):\n",
    "    sites_symbols = np.vectorize(leg_sites.get)(sites)\n",
    "    links_symbols = np.vectorize(leg_links.get)(links)\n",
    "    seq_list = [i + j for i, j in zip(sites_symbols, links_symbols)]\n",
    "    total_list = ''.join(seq_list)\n",
    "    return total_list\n",
    "\n",
    "def Gaggiublock(i, sites, links):\n",
    "    s1, l1 = sites[i],links[i]\n",
    "    s2, l2 = sites[i+1],links[i+1]\n",
    "    g = s2 - l2 + l1 + (-1)**(i)*1/2 == 0     \n",
    "    '''\n",
    "    Since numering start from 0 instead of 1 like in the review, \n",
    "    we absorbe a '-1' sign (exponent of last term becomes i instead of i+1)\n",
    "    '''\n",
    "    return g"
   ]
  },
  {
   "cell_type": "code",
   "execution_count": 4,
   "metadata": {},
   "outputs": [
    {
     "name": "stdout",
     "output_type": "stream",
     "text": [
      "(-0.5, 0.5) (-0.5, 0.5)\n"
     ]
    },
    {
     "data": {
      "text/plain": [
       "True"
      ]
     },
     "execution_count": 4,
     "metadata": {},
     "output_type": "execute_result"
    }
   ],
   "source": [
    "sigma1 = (-1/2,-1/2)\n",
    "sigma2 = (1/2,1/2)\n",
    "\n",
    "sites = sigma1[0], sigma2[0]\n",
    "links = sigma1[1], sigma2[1]\n",
    "    \n",
    "print(sites, links)\n",
    "    \n",
    "Gaggiublock(0,sites,links)"
   ]
  },
  {
   "cell_type": "code",
   "execution_count": 5,
   "metadata": {},
   "outputs": [],
   "source": [
    "from itertools import permutations, product\n",
    "\n",
    "all_sit = list(product([0.5,-0.5], repeat=12))\n",
    "all_lin = list(product([0.5,-0.5], repeat=12))\n",
    "ok = []\n",
    "\n",
    "for s in all_sit:\n",
    "    for l in all_lin:\n",
    "        check = True\n",
    "        for i in range(len(s)-1):\n",
    "            if not Gaggiublock(i, s, l): \n",
    "                check = False\n",
    "                break\n",
    "        if check == True: ok.append(np.array([s,l]))"
   ]
  },
  {
   "cell_type": "code",
   "execution_count": 6,
   "metadata": {},
   "outputs": [
    {
     "data": {
      "text/latex": [
       "$\\circ$$\\rightarrow$$\\circ$$\\leftarrow$$\\circ$$\\leftarrow$$\\bullet$$\\leftarrow$$\\circ$$\\leftarrow$$\\bullet$$\\leftarrow$$\\bullet$$\\rightarrow$$\\circ$$\\leftarrow$$\\circ$$\\leftarrow$$\\bullet$$\\leftarrow$$\\bullet$$\\rightarrow$$\\bullet$$\\rightarrow$"
      ],
      "text/plain": [
       "<IPython.core.display.Latex object>"
      ]
     },
     "execution_count": 6,
     "metadata": {},
     "output_type": "execute_result"
    }
   ],
   "source": [
    "n = 10\n",
    "x = Visualize(ok[n][0],ok[n][1]) \n",
    "Latex(x)"
   ]
  },
  {
   "cell_type": "code",
   "execution_count": 7,
   "metadata": {},
   "outputs": [
    {
     "data": {
      "text/plain": [
       "754"
      ]
     },
     "execution_count": 7,
     "metadata": {},
     "output_type": "execute_result"
    }
   ],
   "source": [
    "len(ok)"
   ]
  },
  {
   "cell_type": "code",
   "execution_count": 8,
   "metadata": {},
   "outputs": [],
   "source": [
    "sequences_flattened=[]\n",
    "for i in range(len(ok)):\n",
    "    sequences_flattened.append(ok[i].flatten())"
   ]
  },
  {
   "cell_type": "markdown",
   "metadata": {},
   "source": [
    "# Definizione della RBM\n"
   ]
  },
  {
   "cell_type": "code",
   "execution_count": 12,
   "metadata": {},
   "outputs": [],
   "source": [
    "def activate(v_in, wei, bias, DE, info=False):\n",
    "    act = np.dot(v_in, wei) + bias\n",
    "    prob = 1. / (1. + np.exp(-DE*act))\n",
    "    n = len(act)\n",
    "    v_out = np.full(n, vmin)\n",
    "    v_out[np.random.random_sample(n) < prob] = 1\n",
    "    if info:\n",
    "        print('input=', v_in)\n",
    "        print('act=', act)\n",
    "        print('prob=', prob)\n",
    "        print('out=', v_out)\n",
    "        \n",
    "    return(v_out)\n",
    "\n",
    "def training_RBM(alpha, w, a, b, seq):\n",
    "    \n",
    "    number_sequences = len(seq)\n",
    "    sequence_length = len(seq[0])\n",
    "    hidden_units = alpha*sequence_length #setting nubmer of hidden units\n",
    "    \n",
    "    #minibatches\n",
    "    mini, m = int(0.08*number_sequences), 0 \n",
    "    #epochs\n",
    "    nepoch = 50\n",
    "    #l_rate\n",
    "    l_rate = 1.\n",
    "\n",
    "    for epoch in range(1, 1+nepoch):\n",
    "        for n in range(number_sequences):\n",
    "            if m==0:\n",
    "                #initialize\n",
    "                v_data, v_model = np.zeros(sequence_length), np.zeros(sequence_length) \n",
    "                h_data, h_model = np.zeros(hidden_units), np.zeros(hidden_units) \n",
    "                vh_data, vh_model = np.zeros((sequence_length,hidden_units)), np.zeros((sequence_length, hidden_units)) \n",
    "\n",
    "            #CAPIRE BENE IL GAP\n",
    "            #positive CD phase\n",
    "            h = activate(v[n],w,b,GAP)\n",
    "            #negative CD phase\n",
    "            vf = activate(h, w.T,a,GAP)\n",
    "            #positive CD nr 2\n",
    "            hf = activate(vf,w,b, GAP)\n",
    "\n",
    "            v_data += v[n]\n",
    "            v_model += vf\n",
    "            h_data += h\n",
    "            h_model += hf\n",
    "            \n",
    "            theta = np.dot(w.T,seq.T)+b\n",
    "            \n",
    "            O_a += seq.T\n",
    "            O_b += np.tanh(theta)\n",
    "            O_w += \n",
    "            vh_model += np.outer(vf.T, hf)\n",
    "\n",
    "            m += 1\n",
    "            if m==mini:\n",
    "                C = l_rate / mini\n",
    "                \n",
    "                dw = C*(vh_data - vh_model)\n",
    "                da = C*(v_data - v_model)\n",
    "                db = C*(h_data - h_model)\n",
    "\n",
    "                w += dw\n",
    "                a += da\n",
    "                b += db\n",
    "                m = 0\n",
    "\n",
    "        #randomize order\n",
    "        np.random.shuffle(v)\n",
    "        l_rate = l_rate / (0.05 * l_rate + 1)\n",
    "        \n",
    "    return w,a,b"
   ]
  },
  {
   "cell_type": "code",
   "execution_count": null,
   "metadata": {},
   "outputs": [],
   "source": []
  },
  {
   "cell_type": "code",
   "execution_count": null,
   "metadata": {},
   "outputs": [],
   "source": [
    "def training_RBM(alpha, w, a, b, seq):\n",
    "    \n",
    "    N_s = len(seq) #N\n",
    "    n_spins = len(seq[0]) #L\n",
    "    n_h = alpha * n_spins #M\n",
    "    \n",
    "    \n",
    "    theta = np.dot(w.T, seq.T)\n",
    "    \n",
    "    Oa = seq.T\n",
    "    Ob = np.tanh(theta)\n",
    "    Ow = seq.T.reshape((n_spins, 1, N_s)) * \n",
    "    np.tanh(theta.reshape(1, n_h, N_s))\n",
    "    \n",
    "    \n",
    "    \n",
    "    "
   ]
  },
  {
   "cell_type": "markdown",
   "metadata": {},
   "source": [
    "$\\theta$ M*N ottenuta da una M*L e una L*N quindi quando si somma B vettore di lunghezza M questo subirà un broadcasting lungo le righe\n",
    "B: vettore M*1\n",
    "W: L*M\n",
    "seq: storico delle sequenze generate: N*L, N cambia a ogni iterazione\n",
    "corrispondenza con codice kafischer:\n",
    "n_h -> M\n",
    "N_s -> N\n",
    "n_spins -> L"
   ]
  },
  {
   "cell_type": "code",
   "execution_count": null,
   "metadata": {},
   "outputs": [],
   "source": []
  },
  {
   "cell_type": "code",
   "execution_count": 14,
   "metadata": {},
   "outputs": [
    {
     "ename": "TypeError",
     "evalue": "object of type 'numpy.float64' has no len()",
     "output_type": "error",
     "traceback": [
      "\u001b[0;31m-----------------------------------------------------------------\u001b[0m",
      "\u001b[0;31mTypeError\u001b[0m                       Traceback (most recent call last)",
      "\u001b[0;32m<ipython-input-14-e6b0bbe524ec>\u001b[0m in \u001b[0;36m<module>\u001b[0;34m\u001b[0m\n\u001b[1;32m      2\u001b[0m \u001b[0malpha\u001b[0m\u001b[0;34m=\u001b[0m\u001b[0;36m4\u001b[0m\u001b[0;34m\u001b[0m\u001b[0;34m\u001b[0m\u001b[0m\n\u001b[1;32m      3\u001b[0m \u001b[0mN_s\u001b[0m \u001b[0;34m=\u001b[0m \u001b[0mlen\u001b[0m\u001b[0;34m(\u001b[0m\u001b[0mseq\u001b[0m\u001b[0;34m)\u001b[0m\u001b[0;34m\u001b[0m\u001b[0;34m\u001b[0m\u001b[0m\n\u001b[0;32m----> 4\u001b[0;31m \u001b[0mn_spins\u001b[0m \u001b[0;34m=\u001b[0m \u001b[0mlen\u001b[0m\u001b[0;34m(\u001b[0m\u001b[0mseq\u001b[0m\u001b[0;34m[\u001b[0m\u001b[0;36m0\u001b[0m\u001b[0;34m]\u001b[0m\u001b[0;34m)\u001b[0m\u001b[0;34m\u001b[0m\u001b[0;34m\u001b[0m\u001b[0m\n\u001b[0m\u001b[1;32m      5\u001b[0m \u001b[0mn_h\u001b[0m \u001b[0;34m=\u001b[0m \u001b[0malpha\u001b[0m \u001b[0;34m*\u001b[0m \u001b[0mn_spins\u001b[0m\u001b[0;34m\u001b[0m\u001b[0;34m\u001b[0m\u001b[0m\n\u001b[1;32m      6\u001b[0m \u001b[0;34m\u001b[0m\u001b[0m\n",
      "\u001b[0;31mTypeError\u001b[0m: object of type 'numpy.float64' has no len()"
     ]
    }
   ],
   "source": [
    "#seq dovrà essere un'array di elementi di questo tipo\n",
    "seq = np.ones(12)*1/2*np.sign(npr.random(12)-0.5)\n",
    "alpha=4\n",
    "N_s = len(seq)\n",
    "n_spins = len(seq[0])\n",
    "n_h = alpha * n_spins\n",
    "\n",
    "\n",
    "#stdev of initialized weights\n",
    "sigma = np.sqrt(4. / float(N_s+n_h))\n",
    "\n",
    "#initialized weights\n",
    "w = sigma * (2*np.random.rand(n_spins, n_h) - 1) #from -sigma to sigma \n",
    "a = sigma * (2*np.random.rand(n_spins) - 1)\n",
    "b = np.zeros(n_h)\n",
    "\n"
   ]
  },
  {
   "cell_type": "code",
   "execution_count": null,
   "metadata": {},
   "outputs": [],
   "source": []
  }
 ],
 "metadata": {
  "kernelspec": {
   "display_name": "Python 3",
   "language": "python",
   "name": "python3"
  },
  "language_info": {
   "codemirror_mode": {
    "name": "ipython",
    "version": 3
   },
   "file_extension": ".py",
   "mimetype": "text/x-python",
   "name": "python",
   "nbconvert_exporter": "python",
   "pygments_lexer": "ipython3",
   "version": "3.8.5"
  }
 },
 "nbformat": 4,
 "nbformat_minor": 5
}
